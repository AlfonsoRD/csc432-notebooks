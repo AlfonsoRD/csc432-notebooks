{
 "metadata": {
  "name": "system_dynamics_tutorial"
 },
 "nbformat": 3,
 "nbformat_minor": 0,
 "worksheets": [
  {
   "cells": [
    {
     "cell_type": "heading",
     "level": 3,
     "metadata": {},
     "source": [
      "Terminology and Diagrams"
     ]
    },
    {
     "cell_type": "markdown",
     "metadata": {},
     "source": [
      "**Stock variables** are represented in a graphical model by a box. A stock variable is measured at a point in time. It may have accumulated in the past, and it may change in the future.\n",
      "\n",
      "A **derived stock variable** is represented in a graphical model by any white circle that has an incoming arrow from a stock variable or from another derived stock variable. It is just another stock variable, so we are interested in keeping up with its value over time. The difference from a regular stock variable, however, is that it is usually based on a simple calculation from another stock variable. So it's usually enough to keep with the stock variable and use those values to obtain the derived stock value at any point in time.\n",
      "\n",
      "An **(ordinary) variable** is represented in a graphical model by a white circle that does not have any incoming arrows from a (derived) stock variable. These are scalar variables in the simulation program. They can be constant or can change over time; however, we won't need to keep track of them over time.\n",
      "\n",
      "A **flow** is depicted in a graphical model by a gray oval. It represents a quantity whose value will change over time, and which will influence the value of some stock variable(s). It is a dynamic scalar, meaning its value will change over time, so it will be continually computed in the main simulation."
     ]
    },
    {
     "cell_type": "markdown",
     "metadata": {},
     "source": [
      "**Quick review question 1** Consider figure 3.5.1 in the textbook. Which of the symbols in the graphical model correspond to stock variables? Ordinary variables? Derived stock variables? Flows?"
     ]
    },
    {
     "cell_type": "markdown",
     "metadata": {},
     "source": [
      "**NOTE**: You need my branch of my networkx fork called `fix-arrows` for the following directed graph plot to look decent."
     ]
    },
    {
     "cell_type": "markdown",
     "metadata": {},
     "source": [
      "**Graphical Models / Diagram Aside**: Some useful search points.\n",
      "\n",
      "* DOT language\n",
      "* GML (Graph Modeling Language)\n",
      "\n",
      "**Programs**: \n",
      "\n",
      "* graphviz\n",
      "* OmniGraffle (OS X, iPad-only)\n",
      "* yEd\n",
      "* Inkscape (other SVG editor)\n",
      "\n",
      "**Python Packages**: \n",
      "\n",
      "* pydot\n",
      "* networkx\n",
      "* pygraph"
     ]
    },
    {
     "cell_type": "code",
     "collapsed": false,
     "input": [
      "import networkx as nx\n",
      "import matplotlib.pyplot as plt"
     ],
     "language": "python",
     "metadata": {},
     "outputs": []
    },
    {
     "cell_type": "code",
     "collapsed": false,
     "input": [
      "nodes = [\"aspirin in plasma\",\n",
      "         \"elimination\",\n",
      "         \"elimination\\n constant\",\n",
      "         \"half life\",\n",
      "         \"plasma concentration\",\n",
      "         \"plasma volume\",\n",
      "         \"out\"]\n",
      "\n",
      "pos_points = np.array([(0, 2),(1, 2), (1.2, 1), (1.8, 1), (0, .6), (.7, .5), \n",
      "              (2, 2)])\n",
      "text_pos = np.array([(0, 2.35),(1, 2.175), (1.2, .72), (1.8, .8), (0, .4), (.7, .3), \n",
      "              (2, 2)])\n",
      "pos = dict(zip(nodes, pos_points))\n",
      "text_pos = dict(zip(nodes, text_pos))"
     ],
     "language": "python",
     "metadata": {},
     "outputs": []
    },
    {
     "cell_type": "code",
     "collapsed": false,
     "input": [
      "fig, ax = plt.subplots(figsize=(12,8), subplot_kw=dict(axisbg='none'))\n",
      "\n",
      "graph = nx.DiGraph(rankdir=\"LR\")\n",
      "\n",
      "graph.add_edge(\"aspirin in plasma\", \"elimination\", weight=1)\n",
      "graph.add_edge(\"aspirin in plasma\", \"plasma concentration\", weight=1)\n",
      "graph.add_edge(\"plasma volume\", \"plasma concentration\", weight=1)\n",
      "#graph.add_edge(\"elimination\\n constant\", \"elimination\", weight=1)\n",
      "graph.add_edge(\"half life\", \"elimination\\n constant\", weight=1)\n",
      "graph.add_edge(\"elimination\", \"out\", weight=1)\n",
      "\n",
      "\n",
      "nodes1 = nx.draw_networkx_nodes(graph, pos, nodelist=[\"aspirin in plasma\"], \n",
      "                               node_size=100**2, node_shape='s', node_color=\"lightgray\",\n",
      "                               edgecolor='black', ax=ax)\n",
      "nodes2 = nx.draw_networkx_nodes(graph, pos, nodelist=[\"plasma concentration\", \n",
      "                                                     \"plasma volume\",\n",
      "                                                     \"elimination\\n constant\",\n",
      "                                                     \"half life\"], node_color=\"white\",\n",
      "                                node_size=50**2, node_shape='o', edgecolor='black', ax=ax)\n",
      "\n",
      "nodes3 = nx.draw_networkx_nodes(graph, pos, nodelist=[\"elimination\"], node_color=\"white\",\n",
      "                                alpha=0, node_size=6200, node_shape='o', ax=ax)\n",
      "nodes4 = nx.draw_networkx_nodes(graph, pos, nodelist=[\"out\"], node_color=\"white\",\n",
      "                                alpha=0, node_size=2000, node_shape='o', ax=ax)\n",
      "\n",
      "#There's no ellipse marker in matplotlib, so let's just add an ellipse to the graph\n",
      "#what would be a good API for this? instead of shape you pass a patch\n",
      "from matplotlib.patches import Ellipse\n",
      "ellipse = Ellipse(pos[\"elimination\"], .35, .25, facecolor=\"lightgray\", edgecolor=\"black\")\n",
      "ax.add_artist(ellipse)\n",
      "\n",
      "# draw the curved edges using bezier curve between nodes\n",
      "from matplotlib.path import Path\n",
      "from matplotlib.patches import PathPatch\n",
      "curve1 = Path([pos[\"aspirin in plasma\"], (.5, 1.5), (1, 2), pos[\"aspirin in plasma\"]], \n",
      "              [Path.MOVETO, Path.CURVE3, Path.CURVE3, Path.MOVETO])\n",
      "ppatch1 = PathPatch(curve1, fc='none', color='k', linewidth=2)\n",
      "#ppatch1 = FancyArrowPatch(path=curve1, color='k', arrowstyle=\"-|>\", mutation_scale=30,\n",
      "#                          connectionstyle=\"arc3\", linewidth=2)\n",
      "ax.add_patch(ppatch1)\n",
      "\n",
      "curve2 = Path([pos[\"elimination\\n constant\"], (1.2, 2), (1, 2), pos[\"elimination\\n constant\"]], \n",
      "              [Path.MOVETO, Path.CURVE3, Path.CURVE3, Path.MOVETO])\n",
      "ppatch2 = PathPatch(curve2, fc='none', color='k', linewidth=2)\n",
      "ax.add_patch(ppatch2)\n",
      "\n",
      "#pos['aspirin in plasma'] = (pos['aspirin in plasma']\n",
      "labels = nx.draw_networkx_labels(graph, text_pos, font_size=14, \n",
      "                                 labels=dict(zip(nodes[:-1], nodes[:-1])))\n",
      "\n",
      "\n",
      "edges, arrows = nx.draw_networkx_edges(graph, pos, arrows=True)\n",
      "\n",
      "# draw the spiral\n",
      "from matplotlib.collections import LineCollection\n",
      "\n",
      "r = np.arange(0, .075, 0.0001)\n",
      "nverts = len(r)\n",
      "theta = np.array(range(nverts)) * (2*np.pi)/(nverts-1)\n",
      "theta = 90*np.pi*r\n",
      "xoffset, yoffset = pos[\"out\"]\n",
      "yy = 1.5*1.25*r * np.sin(theta) + yoffset\n",
      "xx = 1.5*r * np.cos(theta) + xoffset\n",
      "spiral = zip(xx,yy)\n",
      "collection = LineCollection([spiral], colors='k', linewidth=3)\n",
      "spiral_lines = ax.add_collection(collection);\n",
      "\n",
      "ax.grid(False)\n",
      "ax.axes.xaxis.set_visible(False)\n",
      "ax.axes.yaxis.set_visible(False)"
     ],
     "language": "python",
     "metadata": {},
     "outputs": []
    },
    {
     "cell_type": "heading",
     "level": 3,
     "metadata": {},
     "source": [
      "Modeling Procedure"
     ]
    },
    {
     "cell_type": "markdown",
     "metadata": {},
     "source": [
      "Computationally, our simulations will consist of a loop that run through for a known amount of `time`. You can think of each run through a loop as a tick on a virtual clock, during which the variables in our system will change. When the simulation is over, we can observe the behavior of the variables in the system.\n",
      "\n",
      "The following general procedure will be useful for writing simulations in Python:\n",
      "\n",
      "1. Identify the **ordinary variables** -- circles with no incoming arrows. If these variables are constant, then create variables to represent each one.\n",
      "2. Identify the **derived variables** -- circles whose only incoming arrows are from other circles that are already defined as variables. Create a variable to represent each one using a formula. Do this until the only remaining circles are pointed to by something other than a circle.\n",
      "3. Create an array for each **stock variable**. Set the first value of the array to its initial condition.\n",
      "4. Run the simulation for the specified total time. Each time through the loop.\n",
      "  a. Determine the temporary values of any flows and remaining ordinary variables. These values could be based on an equation that takes other current values of variables, or it could be a special value based on the current time or other things. For instance, a \"pulse,\" or \"shock,\" variable that depends on time.\n",
      "  b. Set the next value for each array to its new value on the next clock tick.\n",
      "5. If you wish to examine any **derived stock variables**, create them now.\n",
      "6. Plot any variables of interest."
     ]
    },
    {
     "cell_type": "heading",
     "level": 2,
     "metadata": {},
     "source": [
      "Solving Differential Equations"
     ]
    },
    {
     "cell_type": "heading",
     "level": 3,
     "metadata": {},
     "source": [
      "Unconstrained Growth"
     ]
    },
    {
     "cell_type": "markdown",
     "metadata": {},
     "source": [
      "Initial population of 100, rate of change of the population is 10%. This suggests the following **differential equation**\n",
      "\n",
      "$$\\frac{dP}{dt}=0.1P$$\n",
      "\n",
      "$$P_{0}=100$$"
     ]
    },
    {
     "cell_type": "heading",
     "level": 4,
     "metadata": {},
     "source": [
      "Imports"
     ]
    },
    {
     "cell_type": "code",
     "collapsed": false,
     "input": [
      "from scipy import integrate\n",
      "import matplotlib.pyplot as plt"
     ],
     "language": "python",
     "metadata": {},
     "outputs": []
    },
    {
     "cell_type": "code",
     "collapsed": false,
     "input": [
      "popul_0 = 100"
     ],
     "language": "python",
     "metadata": {},
     "outputs": []
    },
    {
     "cell_type": "code",
     "collapsed": false,
     "input": [
      "dt = .1 # every 1/10 of, say, an hour"
     ],
     "language": "python",
     "metadata": {},
     "outputs": []
    },
    {
     "cell_type": "code",
     "collapsed": false,
     "input": [
      "def dPdt(popul, t, rate=.1):\n",
      "    return rate*popul"
     ],
     "language": "python",
     "metadata": {},
     "outputs": []
    },
    {
     "cell_type": "code",
     "collapsed": false,
     "input": [
      "time_points = np.arange(0, 12, dt)"
     ],
     "language": "python",
     "metadata": {},
     "outputs": []
    },
    {
     "cell_type": "code",
     "collapsed": false,
     "input": [
      "growth_rate = .1"
     ],
     "language": "python",
     "metadata": {},
     "outputs": []
    },
    {
     "cell_type": "code",
     "collapsed": false,
     "input": [
      "growth = integrate.odeint(dPdt, popul_0, time_points, args=(growth_rate,))"
     ],
     "language": "python",
     "metadata": {},
     "outputs": []
    },
    {
     "cell_type": "code",
     "collapsed": false,
     "input": [
      "growth2 = integrate.odeint(dPdt, popul_0, time_points, args=(.2,))"
     ],
     "language": "python",
     "metadata": {},
     "outputs": []
    },
    {
     "cell_type": "code",
     "collapsed": false,
     "input": [
      "fig, ax = plt.subplots(figsize=(12,8), subplot_kw=dict(xlabel=\"Time\", ylabel=\"Population\"))\n",
      "ax.plot(time_points, growth, label=\"Growth Rate - .1\");\n",
      "ax.plot(time_points, growth2, 'r', label=\"Growth Rate - .2\");\n",
      "ax.legend()"
     ],
     "language": "python",
     "metadata": {},
     "outputs": []
    },
    {
     "cell_type": "heading",
     "level": 3,
     "metadata": {},
     "source": [
      "Aside: Testing"
     ]
    },
    {
     "cell_type": "markdown",
     "metadata": {},
     "source": [
      "Testing is **important** in almost any setting in which you're going to be writing code."
     ]
    },
    {
     "cell_type": "code",
     "collapsed": false,
     "input": [
      "def popul(growth_rate, time_points, init_pop):\n",
      "    growth = init_pop * np.exp(growth_rate*time_points)\n",
      "    if growth.ndim == 1:\n",
      "        growth = growth[:,None]\n",
      "    return growth"
     ],
     "language": "python",
     "metadata": {},
     "outputs": []
    },
    {
     "cell_type": "code",
     "collapsed": false,
     "input": [
      "known_growth = popul(growth_rate, time_points, popul_0)"
     ],
     "language": "python",
     "metadata": {},
     "outputs": []
    },
    {
     "cell_type": "code",
     "collapsed": false,
     "input": [
      "np.max(np.abs(known_growth - growth))"
     ],
     "language": "python",
     "metadata": {},
     "outputs": []
    },
    {
     "cell_type": "code",
     "collapsed": false,
     "input": [
      "np.testing.assert_almost_equal(growth, known_growth, 5)"
     ],
     "language": "python",
     "metadata": {},
     "outputs": []
    },
    {
     "cell_type": "heading",
     "level": 3,
     "metadata": {},
     "source": [
      "Under the Hood"
     ]
    },
    {
     "cell_type": "code",
     "collapsed": false,
     "input": [
      "growth_res = integrate.odeint(dPdt, popul_0, time_points, args=(growth_rate,), full_output=True)"
     ],
     "language": "python",
     "metadata": {},
     "outputs": []
    },
    {
     "cell_type": "code",
     "collapsed": false,
     "input": [
      "time_points"
     ],
     "language": "python",
     "metadata": {},
     "outputs": []
    },
    {
     "cell_type": "code",
     "collapsed": false,
     "input": [
      "len(growth)"
     ],
     "language": "python",
     "metadata": {},
     "outputs": []
    },
    {
     "cell_type": "code",
     "collapsed": false,
     "input": [
      "growth[1].keys()"
     ],
     "language": "python",
     "metadata": {},
     "outputs": []
    },
    {
     "cell_type": "code",
     "collapsed": false,
     "input": [
      "growth[1][\"hu\"]"
     ],
     "language": "python",
     "metadata": {},
     "outputs": []
    },
    {
     "cell_type": "markdown",
     "metadata": {},
     "source": [
      "**See also** [`scipy.integrate.ode`](http://docs.scipy.org/doc/scipy/reference/generated/scipy.integrate.ode.html#scipy.integrate.ode). We will discuss this in greater detail in the future. There are also the [PyDSTool](http://www.ni.gsu.edu/~rclewley/PyDSTool/FrontPage.html) package, [PyGSL](http://pygsl.sourceforge.net/reference/pygsl/index.html) wrappers, and [FuncDesigner](http://www.openopt.org/FuncDesigner) as part of the [OpenOpt](http://openopt.org/Welcome) suite."
     ]
    },
    {
     "cell_type": "heading",
     "level": 3,
     "metadata": {},
     "source": [
      "Constrained Growth"
     ]
    },
    {
     "cell_type": "markdown",
     "metadata": {},
     "source": [
      "$$\\frac{dP}{dt}=r\\left(1-\\frac{P}{M}\\right)P$$"
     ]
    },
    {
     "cell_type": "code",
     "collapsed": false,
     "input": [
      "def dPdt_constrained(popul, t, capacity=1000., rate=.1):\n",
      "    return rate*(1-popul/capacity)*popul"
     ],
     "language": "python",
     "metadata": {},
     "outputs": []
    },
    {
     "cell_type": "code",
     "collapsed": false,
     "input": [
      "capacity = 1000.\n",
      "popul_0 = 20.\n",
      "growth_rate = 1.05\n",
      "time_points = np.arange(0, 15, .1)"
     ],
     "language": "python",
     "metadata": {},
     "outputs": []
    },
    {
     "cell_type": "code",
     "collapsed": false,
     "input": [
      "growth = integrate.odeint(dPdt_constrained, popul_0, time_points, args=(capacity, growth_rate))"
     ],
     "language": "python",
     "metadata": {},
     "outputs": []
    },
    {
     "cell_type": "code",
     "collapsed": false,
     "input": [
      "growth2 = integrate.odeint(dPdt_constrained, popul_0, time_points, args=(capacity, .5))"
     ],
     "language": "python",
     "metadata": {},
     "outputs": []
    },
    {
     "cell_type": "code",
     "collapsed": false,
     "input": [
      "fig, ax = plt.subplots(figsize=(12,8), subplot_kw=dict(xlabel=\"Time\", ylabel=\"Population\"))\n",
      "ax.plot(time_points, growth, label=\"Growth Rate - 105%\");\n",
      "ax.plot(time_points, growth2, 'r', label=\"Growth Rate - 50%\");\n",
      "ax.set_xlim(0, 14)\n",
      "ax.legend(loc=\"upper left\")"
     ],
     "language": "python",
     "metadata": {},
     "outputs": []
    },
    {
     "cell_type": "markdown",
     "metadata": {},
     "source": [
      "**Review Question** Graph the logistic equation, where the initial population is 1500, carrying capacity is 1000, and the instantaneous rate of births is 50%."
     ]
    }
   ],
   "metadata": {}
  }
 ]
}
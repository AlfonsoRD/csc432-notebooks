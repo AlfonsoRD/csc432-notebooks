{
 "metadata": {
  "name": "data_driven_intro"
 },
 "nbformat": 3,
 "nbformat_minor": 0,
 "worksheets": [
  {
   "cells": [
    {
     "cell_type": "heading",
     "level": 3,
     "metadata": {},
     "source": [
      "Data-Driven Models"
     ]
    },
    {
     "cell_type": "markdown",
     "metadata": {},
     "source": [
      "* Much of the time we will be working with models for which we have data and some modeling uncertainty\n",
      "* We might wish to obtain a (parameterized) function that goes through the data and captures the trend\n",
      "* We call this **fitting the data**\n",
      "* It's possible to use this function to find estimates at places where data does not exist\n",
      "* Fitting the data can also help us understand the underlying patterns in the data"
     ]
    },
    {
     "cell_type": "heading",
     "level": 3,
     "metadata": {},
     "source": [
      "Function Tutorial"
     ]
    },
    {
     "cell_type": "heading",
     "level": 4,
     "metadata": {},
     "source": [
      "Linear Function"
     ]
    },
    {
     "cell_type": "markdown",
     "metadata": {},
     "source": [
      "* A **linear function** whose graphs is a straight line has the following form\n",
      "$$y = mx + b$$\n",
      "* $b$ is the y-intercept (the value of y when x is 0)\n",
      "* $m$ is the slop of the line (the change in y over the change in x)\n",
      "* This is an example of a polynomial function"
     ]
    },
    {
     "cell_type": "code",
     "collapsed": false,
     "input": [
      "import matplotlib.pyplot as plt\n",
      "\n",
      "func = lambda x : 2*x + 1\n",
      "x = np.linspace(-3, 3)\n",
      "\n",
      "fig, ax = plt.subplots(figsize=(8,6))\n",
      "ax.plot(x, func(x))\n",
      "ax.hlines(0, -5, 7, colors='k')\n",
      "ax.vlines(0, -5, 7, colors='k')\n",
      "ax.grid(False)\n",
      "ax.set_xlim(-3, 3)\n",
      "ax.set_ylim(-5, 6);\n",
      "ax.set_title(\"y = 2x + 1\");"
     ],
     "language": "python",
     "metadata": {},
     "outputs": []
    },
    {
     "cell_type": "heading",
     "level": 4,
     "metadata": {},
     "source": [
      "Quadratic Function"
     ]
    },
    {
     "cell_type": "markdown",
     "metadata": {},
     "source": [
      "* A **quadratic function** is of the following form\n",
      "$$f(x)=a_2x^2+a_1x+a_0$$\n",
      "where\n",
      "$a_i$ is a real number.\n",
      "* Recall that its graph is a **parabola**\n",
      "* The sign of $a_2$ indicates whether it is convex or concave\n",
      "* $a_1$ affects its shape\n",
      "* $a_0$ is a shift parameter\n",
      "* Another example of a polynomial equation"
     ]
    },
    {
     "cell_type": "code",
     "collapsed": false,
     "input": [
      "func = lambda x : -4.9*x**2 + 15*x + 11\n",
      "x = np.linspace(-5, 15)\n",
      "\n",
      "fig, ax = plt.subplots(figsize=(8,6))\n",
      "ax.plot(x, func(x));\n",
      "ax.vlines(0, -850, 100, colors='k')\n",
      "ax.set_ylim(-850, 100)\n",
      "ax.hlines(0, -5, 15, colors='k')\n",
      "ax.set_xlim(-5, 15)\n",
      "ax.set_title(\"-4.9x^2 + 15x + 11\");"
     ],
     "language": "python",
     "metadata": {},
     "outputs": []
    },
    {
     "cell_type": "heading",
     "level": 4,
     "metadata": {},
     "source": [
      "Polynomial Function"
     ]
    },
    {
     "cell_type": "markdown",
     "metadata": {},
     "source": [
      "* Recall the general form for a **polynomial function of degree n**\n",
      "$$f(x)=a_nx^n+\\cdots+a_1x+a_0$$\n",
      "where $a_i$ are real numbers and $n$ is a non-negative integer."
     ]
    },
    {
     "cell_type": "code",
     "collapsed": false,
     "input": [
      "func = lambda x : x**3 - 4*x**2 - x + 4\n",
      "x = np.linspace(-2 , 5, 100)\n",
      "\n",
      "fig, ax = plt.subplots(figsize=(8,6))\n",
      "ax.plot(x, func(x))\n",
      "ax.hlines(0, -2, 5, colors='k')\n",
      "ax.set_xlim(-2, 5)\n",
      "ax.vlines(0, -20, 25, colors='k')\n",
      "ax.set_ylim(-20, 25);\n",
      "ax.set_title(\"t^3 - 4t^2 - t + 4\");"
     ],
     "language": "python",
     "metadata": {},
     "outputs": []
    },
    {
     "cell_type": "heading",
     "level": 4,
     "metadata": {},
     "source": [
      "Square Root Function"
     ]
    },
    {
     "cell_type": "markdown",
     "metadata": {},
     "source": [
      "* A **square root function** may look something like\n",
      "$$f(x)=\\sqrt{x}$$\n",
      "* Its domain and range are the set of nonnegative numbers\n",
      "* Recall that the **domain** of a function is the set of numbers over which it is defined\n",
      "* The **range** of a function is the set of numbers the function can produce\n",
      "  * Range is sometimes used a bit differently in computer science vs. mathematics\n",
      "  * This is the common mathematical usage"
     ]
    },
    {
     "cell_type": "code",
     "collapsed": false,
     "input": [
      "x = np.linspace(0, 12, 500)\n",
      "\n",
      "fig, ax = plt.subplots(figsize=(8,4))\n",
      "ax.plot(x, np.sqrt(x))\n",
      "ax.set_xlim(0, 12)\n",
      "ax.set_ylim(0, 4)\n",
      "ax.set_title(\"y = x^.5\");"
     ],
     "language": "python",
     "metadata": {},
     "outputs": []
    },
    {
     "cell_type": "heading",
     "level": 4,
     "metadata": {},
     "source": [
      "Exponential Function"
     ]
    },
    {
     "cell_type": "markdown",
     "metadata": {},
     "source": [
      "* An **exponential function** has the following general form\n",
      "$$P(t)=P_0a^{rt}$$\n",
      "where $P_0$, $a$, and $r$ are real numbers"
     ]
    },
    {
     "cell_type": "code",
     "collapsed": false,
     "input": [
      "x = np.linspace(0, 50000, 5000)\n",
      "func = lambda x : 1*np.exp(-.000120968*x)\n",
      "\n",
      "fig, ax = plt.subplots(figsize=(8,6))\n",
      "ax.plot(x, func(x));\n",
      "ax.set_title(\"f(x) = exp(-.000120968*t)\");"
     ],
     "language": "python",
     "metadata": {},
     "outputs": []
    },
    {
     "cell_type": "heading",
     "level": 4,
     "metadata": {},
     "source": [
      "Logarithmic Functions"
     ]
    },
    {
     "cell_type": "markdown",
     "metadata": {},
     "source": [
      "* A **logarithm** to the base $b$ of $n$ ($log_bn$) is $m$ iff $b^m=n$\n",
      "* The domain of a logarithmic function is the positive reals\n",
      "* The range however is the set of all reals"
     ]
    },
    {
     "cell_type": "code",
     "collapsed": false,
     "input": [
      "np.log([1e-6, 1e-3, 1, 3, 10])"
     ],
     "language": "python",
     "metadata": {},
     "outputs": []
    },
    {
     "cell_type": "code",
     "collapsed": false,
     "input": [
      "x = np.exp(np.linspace(-10, 8, 100))\n",
      "\n",
      "fig, ax = plt.subplots(figsize=(8,6))\n",
      "ax.plot(x, np.log10(x))\n",
      "ax.set_ylim(-3, 1)\n",
      "ax.set_xlim(0, 10)\n",
      "ax.hlines(0, 0, 10, colors='k')\n",
      "ax.set_title(\"f(x) = log10(x)\");"
     ],
     "language": "python",
     "metadata": {},
     "outputs": []
    },
    {
     "cell_type": "heading",
     "level": 4,
     "metadata": {},
     "source": [
      "Logistic Function"
     ]
    },
    {
     "cell_type": "markdown",
     "metadata": {},
     "source": [
      "* Recall that the analytic solution to the differential equation\n",
      "$$\\frac{dP}{dt}=r\\left(1-\\frac{P}{M}\\right)P$$\n",
      "with initial condition $P_0$ and carrying capacity $M$ <br />\n",
      "is the **logistic function**\n",
      "$$P(t)=\\frac{MP_0}{(M-P_0)e^{-rt}+P_0}$$\n",
      "* Another common simple logistic function is\n",
      "$$P(t)=\\frac{1}{1+e^{-t}}$$\n",
      "* It is an example of a **sigmoid function** and displays the characteristic S shape\n",
      "* The logistic function is the solution to the non-linear first-order differential equation\n",
      "$$\\frac{dP}{dt}=P(t)\\left(1-P(t)\\right)$$"
     ]
    },
    {
     "cell_type": "code",
     "collapsed": false,
     "input": [
      "x = np.linspace(-6, 6, 100)\n",
      "func = lambda x : 1/(1+np.exp(-x))\n",
      "\n",
      "fig, ax = plt.subplots(figsize=(8,6))\n",
      "ax.plot(x, func(x))\n",
      "ax.set_xlim(-6, 6)\n",
      "ax.set_ylim(0, 1);\n",
      "ax.set_title(\"f(x) = 1/(1+e^-t)\");"
     ],
     "language": "python",
     "metadata": {},
     "outputs": []
    },
    {
     "cell_type": "heading",
     "level": 4,
     "metadata": {},
     "source": [
      "Trigonometric Functions"
     ]
    },
    {
     "cell_type": "markdown",
     "metadata": {},
     "source": [
      "* Trig functions are often used when oscillations or periodic conditions are involved\n",
      "* Consider the point $(x, y)$ on the **unit circle**"
     ]
    },
    {
     "cell_type": "code",
     "collapsed": false,
     "input": [
      "fig, ax = plt.subplots(figsize=(8,8))\n",
      "\n",
      "x = np.linspace(0, 2*np.pi, 100)\n",
      "\n",
      "ax.plot(np.cos(x), np.sin(x))\n",
      "\n",
      "# plot a 45-degree line on the unit circle we need\n",
      "# x^2 + y^2 = 1\n",
      "# x = y = sqrt(2)/2 \n",
      "xline = np.linspace(0, np.sqrt(2)/2)\n",
      "ax.plot(xline, xline, color='k')\n",
      "ax.hlines(0, -1.1, 1.1)\n",
      "ax.vlines(0, -1.1, 1.1)\n",
      "ax.set_xlim(-1.1, 1.1)\n",
      "ax.set_ylim(-1.1, 1.1)\n",
      "\n",
      "x = y = np.sqrt(2)/2\n",
      "ax.hlines(0, 0, x)\n",
      "ax.vlines(x, 0, x) \n",
      "ax.plot(x, y, 'ko')\n",
      "ax.annotate(\"(x,y)\", (x,y), xytext=(5, 5), \n",
      "            textcoords=\"offset points\", fontsize=16)\n",
      "ax.annotate(\"1\", (x/2,y/2), xytext=(-5, 5), \n",
      "            textcoords=\"offset points\", fontsize=16);\n",
      "ax.annotate(\"x\", (x/2, 0), xytext=(0, -15),\n",
      "            textcoords=\"offset points\", fontsize=16);\n",
      "ax.annotate(\"y\", (x, x/2), xytext=(5, 0),\n",
      "            textcoords=\"offset points\", fontsize=16);\n",
      "\n",
      "\n",
      "ax.annotate(\"t\", (0, 0), xytext=(20, 5),\n",
      "            textcoords=\"offset points\", fontsize=16)\n",
      "from matplotlib import patches\n",
      "arc = patches.Arc((0,0), .4, .4, theta1=0, theta2=45, \n",
      "                   zorder=2, color='k', linewidth=2)\n",
      "ax.add_patch(arc);"
     ],
     "language": "python",
     "metadata": {},
     "outputs": []
    },
    {
     "cell_type": "markdown",
     "metadata": {},
     "source": [
      "* For the angle $t$ off the positive x-axis\n",
      "  * $t$ is positive in the counter-clockwise direction and negative in the clockwise direction\n",
      "* The trigonometric functions **sine**, **cosine**, **tangent** are defined as\n",
      "$$\\sin{t}=y/1$$\n",
      "$$\\cos{t}=x/1$$\n",
      "$$\\tan{t}=y/x$$\n",
      "* \"SOH-CAH-TOA\"\n",
      "  * Sine = Opposite / Hypoteneuse\n",
      "  * Cose = Adjacent / Hypoteneuse\n",
      "  * Tangent = Opposite / Adjacent"
     ]
    },
    {
     "cell_type": "markdown",
     "metadata": {},
     "source": [
      "* For example if $x=.6$ and $y=.8$ then $t$ is approximately 0.9273 **radians**\n",
      "  * Recall that **radians** are the standard unit of measurement for angles\n",
      "  * An angle's measure in radians is numerically equal to the length of the corresponding arc on the unit vector"
     ]
    },
    {
     "cell_type": "markdown",
     "metadata": {},
     "source": [
      "* For example, the diameter of a circle $2\\pi r$\n",
      "* $r=1$ for the unit circle by definition"
     ]
    },
    {
     "cell_type": "code",
     "collapsed": false,
     "input": [
      "np.deg2rad(360)"
     ],
     "language": "python",
     "metadata": {},
     "outputs": []
    },
    {
     "cell_type": "code",
     "collapsed": false,
     "input": [
      "np.pi * 2"
     ],
     "language": "python",
     "metadata": {},
     "outputs": []
    },
    {
     "cell_type": "markdown",
     "metadata": {},
     "source": [
      "\n",
      "* The inverse trigonometric functions are **arcsine**, **arccosine**, and **arctangent**\n",
      "  * Also written $\\sin^{-1}$, $\\cos^{-1}$, $\\tan^{-1}$"
     ]
    },
    {
     "cell_type": "code",
     "collapsed": false,
     "input": [
      "t = np.arcsin(.8)\n",
      "print t"
     ],
     "language": "python",
     "metadata": {},
     "outputs": []
    },
    {
     "cell_type": "code",
     "collapsed": false,
     "input": [
      "t = np.arccos(.6)\n",
      "print t"
     ],
     "language": "python",
     "metadata": {},
     "outputs": []
    },
    {
     "cell_type": "code",
     "collapsed": false,
     "input": [
      "t = np.arctan(.8/.6)\n",
      "print t"
     ],
     "language": "python",
     "metadata": {},
     "outputs": []
    },
    {
     "cell_type": "code",
     "collapsed": false,
     "input": [
      "np.cos(t)"
     ],
     "language": "python",
     "metadata": {},
     "outputs": []
    },
    {
     "cell_type": "code",
     "collapsed": false,
     "input": [
      "np.sin(t)"
     ],
     "language": "python",
     "metadata": {},
     "outputs": []
    },
    {
     "cell_type": "code",
     "collapsed": false,
     "input": [
      "np.tan(t)"
     ],
     "language": "python",
     "metadata": {},
     "outputs": []
    },
    {
     "cell_type": "markdown",
     "metadata": {},
     "source": [
      "* For an angle of 0 radians, the opposite side $y$ is zero"
     ]
    },
    {
     "cell_type": "code",
     "collapsed": false,
     "input": [
      "np.sin(0)"
     ],
     "language": "python",
     "metadata": {},
     "outputs": []
    },
    {
     "cell_type": "markdown",
     "metadata": {},
     "source": [
      "* For an angle of $\\pi/2$ radians, the opposite side y is 1, the maximum value on the unit circle"
     ]
    },
    {
     "cell_type": "code",
     "collapsed": false,
     "input": [
      "np.sin(np.pi/2)"
     ],
     "language": "python",
     "metadata": {},
     "outputs": []
    },
    {
     "cell_type": "markdown",
     "metadata": {},
     "source": [
      "* The sin returns to zero at $\\pi$ radians = $180^{\\circ}$"
     ]
    },
    {
     "cell_type": "code",
     "collapsed": false,
     "input": [
      "np.sin(np.pi)"
     ],
     "language": "python",
     "metadata": {},
     "outputs": []
    },
    {
     "cell_type": "markdown",
     "metadata": {},
     "source": [
      "* And it achieves its minimum at $3\\pi/2$"
     ]
    },
    {
     "cell_type": "code",
     "collapsed": false,
     "input": [
      "np.sin(3*np.pi/2)"
     ],
     "language": "python",
     "metadata": {},
     "outputs": []
    },
    {
     "cell_type": "markdown",
     "metadata": {},
     "source": [
      "* At $t=2\\pi$ radians $=360^{\\circ}$ the sine function starts cycling through the same values again"
     ]
    },
    {
     "cell_type": "code",
     "collapsed": false,
     "input": [
      "np.sin(2*np.pi)"
     ],
     "language": "python",
     "metadata": {},
     "outputs": []
    },
    {
     "cell_type": "code",
     "collapsed": false,
     "input": [
      "fig, ax = plt.subplots(nrows=2, ncols=1, figsize=(8,6))\n",
      "\n",
      "x = np.linspace(0, 2*np.pi, 100)\n",
      "\n",
      "ax[0].plot(x, np.sin(x))\n",
      "ax[0].set_ylim(-1.03, 1)\n",
      "ax[0].set_xlim(0, np.pi*2)\n",
      "ax[0].set_title(\"sin(x)\")\n",
      "\n",
      "ax[1].plot(x, np.cos(x))\n",
      "ax[1].set_ylim(-1.03, 1)\n",
      "ax[1].set_xlim(0, np.pi*2)\n",
      "ax[1].set_title(\"cos(x)\");"
     ],
     "language": "python",
     "metadata": {},
     "outputs": []
    },
    {
     "cell_type": "heading",
     "level": 2,
     "metadata": {},
     "source": [
      "Empirical Models"
     ]
    },
    {
     "cell_type": "heading",
     "level": 4,
     "metadata": {},
     "source": [
      "Introduction"
     ]
    },
    {
     "cell_type": "heading",
     "level": 4,
     "metadata": {},
     "source": [
      "Linear Empirical Model"
     ]
    },
    {
     "cell_type": "markdown",
     "metadata": {},
     "source": [
      "* [National Institute of Standards and Technology (NIST) \"study involving calibration of ozone monitors.\"](http://www.itl.nist.gov/div898/strd/lls/data/Norris.shtml)\n",
      "* $x$ is NIST's \"measurement of ozone concentration\"\n",
      "* $y$ is \"the customer's measurement\"\n",
      "* We use only the following subset of the data"
     ]
    },
    {
     "cell_type": "code",
     "collapsed": false,
     "input": [
      "pts = [(.2, .1), (.4, .3), (.3, .3), (.3, .6)]"
     ],
     "language": "python",
     "metadata": {},
     "outputs": []
    },
    {
     "cell_type": "markdown",
     "metadata": {},
     "source": [
      "* Put it in a pandas DataFrame"
     ]
    },
    {
     "cell_type": "code",
     "collapsed": false,
     "input": [
      "import pandas as pd\n",
      "dta = pd.DataFrame(pts, columns=[\"x\", \"y\"])"
     ],
     "language": "python",
     "metadata": {},
     "outputs": []
    },
    {
     "cell_type": "code",
     "collapsed": false,
     "input": [
      "dta"
     ],
     "language": "python",
     "metadata": {},
     "outputs": []
    },
    {
     "cell_type": "code",
     "collapsed": false,
     "input": [
      "fig, ax = plt.subplots(figsize=(8,6))\n",
      "\n",
      "ax.plot(dta.x, dta.y, \"ko\")\n",
      "ax.set_xlabel(\"x\", fontsize=16)\n",
      "ax.set_ylabel(\"y\", rotation=\"horizontal\", fontsize=16)\n",
      "ax.margins(.2);"
     ],
     "language": "python",
     "metadata": {},
     "outputs": []
    },
    {
     "cell_type": "markdown",
     "metadata": {},
     "source": [
      "* We want to find a line that **fits** this data\n",
      "* First, define a **linear combination** of $x_1, x_2, \\dots, x_n$ for some positive integer $n$ as\n",
      "$$a_1x_1+a_2x_2+\\cdots+a_nx_n$$\n",
      "* You'll notice that $mx + b$ is a linear combination of $x$ and $1$\n",
      "* We can use this to compute a **least-squares** fit\n",
      "* There are several ways to compute a least-squares fit using Python\n",
      "* numpy, scipy, and statsmodels are a few popular choices\n",
      "* We are going to use `np.linalg.lstsq` for now and explore other options later"
     ]
    },
    {
     "cell_type": "markdown",
     "metadata": {},
     "source": [
      "Remember we want a combination of $x$ and $1$, so we need to add a column of ones to x"
     ]
    },
    {
     "cell_type": "code",
     "collapsed": false,
     "input": [
      "dta[\"constant\"] = 1"
     ],
     "language": "python",
     "metadata": {},
     "outputs": []
    },
    {
     "cell_type": "code",
     "collapsed": false,
     "input": [
      "dta"
     ],
     "language": "python",
     "metadata": {},
     "outputs": []
    },
    {
     "cell_type": "markdown",
     "metadata": {},
     "source": [
      "Now let's get arrays back from our DataFrame"
     ]
    },
    {
     "cell_type": "code",
     "collapsed": false,
     "input": [
      "y = np.array(dta.y)\n",
      "X = np.array(dta[[\"x\", \"constant\"]])"
     ],
     "language": "python",
     "metadata": {},
     "outputs": []
    },
    {
     "cell_type": "code",
     "collapsed": false,
     "input": [
      "#np.linalg.lstsq"
     ],
     "language": "python",
     "metadata": {},
     "outputs": []
    },
    {
     "cell_type": "code",
     "collapsed": false,
     "input": [
      "fit = np.linalg.lstsq(X, y)"
     ],
     "language": "python",
     "metadata": {},
     "outputs": []
    },
    {
     "cell_type": "code",
     "collapsed": false,
     "input": [
      "coefs = fit[0]"
     ],
     "language": "python",
     "metadata": {},
     "outputs": []
    },
    {
     "cell_type": "code",
     "collapsed": false,
     "input": [
      "coefs"
     ],
     "language": "python",
     "metadata": {},
     "outputs": []
    },
    {
     "cell_type": "markdown",
     "metadata": {},
     "source": [
      "The equation $y=1.0x+.025$ is the linear combination that gives the best least-squares fit."
     ]
    },
    {
     "cell_type": "code",
     "collapsed": false,
     "input": [
      "fig, ax = plt.subplots(figsize=(8,6))\n",
      "\n",
      "x = np.column_stack((np.linspace(0, .6, 100), np.ones(100)))\n",
      "ax.plot(dta.x, dta.y, \"ko\")\n",
      "ax.plot(x[:,0], np.dot(x, coefs), 'b-')\n",
      "ax.set_xlabel(\"x\", fontsize=16)\n",
      "ax.set_ylabel(\"y\", rotation=\"horizontal\", fontsize=16)\n",
      "ax.set_xlim(0,.6)\n",
      "ax.set_ylim(0,.61);"
     ],
     "language": "python",
     "metadata": {},
     "outputs": []
    },
    {
     "cell_type": "heading",
     "level": 4,
     "metadata": {},
     "source": [
      "Predictions"
     ]
    },
    {
     "cell_type": "markdown",
     "metadata": {},
     "source": [
      "* We can use our linear coefficients to do prediction for the y-value where no data exists\n",
      "* Be careful predicting outside of the range of your x-values\n",
      "* The linear fit may not be appropriate far from the data you used\n",
      "* For example, say we have a measurement of ozone concentration of $x=.34$\n",
      "* $y = (.34)(1) + .025=.365$"
     ]
    },
    {
     "cell_type": "code",
     "collapsed": false,
     "input": [
      "y = np.dot(coefs, [.34, 1])\n",
      "y"
     ],
     "language": "python",
     "metadata": {},
     "outputs": []
    },
    {
     "cell_type": "markdown",
     "metadata": {},
     "source": [
      "Question: What just happened?"
     ]
    },
    {
     "cell_type": "code",
     "collapsed": false,
     "input": [
      "fig, ax = plt.subplots(figsize=(8,6))\n",
      "\n",
      "x = np.column_stack((np.linspace(0, .6, 100), np.ones(100)))\n",
      "ax.plot(dta.x, dta.y, \"ko\")\n",
      "ax.plot(x[:,0], np.dot(x, coefs), 'b-')\n",
      "ax.plot(.34, .365, 'ko', markersize=16)\n",
      "ax.set_xlabel(\"x\", fontsize=16)\n",
      "ax.set_ylabel(\"y\", rotation=\"horizontal\", fontsize=16)\n",
      "ax.set_xlim(0,.6)\n",
      "ax.set_ylim(0,.61);"
     ],
     "language": "python",
     "metadata": {},
     "outputs": []
    },
    {
     "cell_type": "heading",
     "level": 4,
     "metadata": {},
     "source": [
      "Linear Regression"
     ]
    },
    {
     "cell_type": "markdown",
     "metadata": {},
     "source": [
      "* To find the least-squares fit we use **linear least-squares regression** or **linear regression**\n",
      "* The RHS variable $x$ is called our **predictor variable** (aka a **regressor**, an **independent variable**, or an **exogenous variable**)\n",
      "* The LHS variable $y$ is called the **response variable** (aka a **regressand**, a **dependendent variable**, an **endogenous variable**, or an **outcome variable**)\n",
      "* The objective of least-squares is to find the values for our linear combination, in this case, $m$ and $b$, that minimize the sum of squared errors\n",
      "* Since we do not have a perfect line through our data, we introduce an error term $\\epsilon$\n",
      "* This gives the equation\n",
      "$$y=mx + b + \\epsilon$$\n",
      "for our line. \n",
      "* Thus, for each observation, the fit is\n",
      "$$y_i=mx_i+b+\\epsilon_i$$\n",
      "* The error for each observation is\n",
      "$$\\epsilon_i=y_i-mx_i-b$$\n",
      "* The idea of least-squares is to minimize the **objective function**\n",
      "$$\\sum_{i=1}^N(\\epsilon_i^2)=\\left(y_i-mx_i-b\\right)^2$$\n",
      "* As you can see we are minimizing the sum of squared errors"
     ]
    },
    {
     "cell_type": "code",
     "collapsed": false,
     "input": [
      "fig, ax = plt.subplots(figsize=(8,6))\n",
      "\n",
      "x = np.column_stack((np.linspace(0, .6, 100), np.ones(100)))\n",
      "ax.plot(dta.x, dta.y, \"ko\")\n",
      "ax.plot(x[:,0], np.dot(x, coefs), 'b-')\n",
      "\n",
      "ax.vlines(dta.x[0], dta.y[0], np.dot(X[0], coefs), \n",
      "          linestyle='--', color='k')\n",
      "ax.vlines(dta.x[1], dta.y[1], np.dot(X[1], coefs), \n",
      "          linestyle='--', color='k')\n",
      "ax.vlines(dta.x[2], dta.y[2], np.dot(X[2], coefs), \n",
      "          linestyle='--', color='k')\n",
      "ax.vlines(dta.x[3], dta.y[3], np.dot(X[3], coefs), \n",
      "          linestyle='--', color='k')\n",
      "\n",
      "ax.set_xlabel(\"x\", fontsize=16)\n",
      "ax.set_ylabel(\"y\", rotation=\"horizontal\", fontsize=16)\n",
      "ax.set_xlim(0,.6)\n",
      "ax.set_ylim(0,.61);"
     ],
     "language": "python",
     "metadata": {},
     "outputs": []
    },
    {
     "cell_type": "markdown",
     "metadata": {},
     "source": [
      "* How do we solve for $m$ and $b$? \n",
      "* We can use either calculus or linear algebra\n",
      "* We will discuss both methods in the future"
     ]
    },
    {
     "cell_type": "heading",
     "level": 4,
     "metadata": {},
     "source": [
      "Nonlinear One-Term Model"
     ]
    },
    {
     "cell_type": "markdown",
     "metadata": {},
     "source": [
      "* Suppose the relationship between $x$ and $y$ appeared to be non-linear?\n",
      "* We will use another NIST dataset, referred to as [DanWood](http://www.itl.nist.gov/div898/strd/nls/data/daniel_wood.shtml) to demonstrate\n",
      "* Here the predictor variable $x$ is \"the absolute temperature of the filament in 1000 degrees Kelvin.\"\n",
      "* The response variable $y$ is \"the energy radiated from a carbon filament lamp per $\\text{cm}^2/\\text{second}$\""
     ]
    },
    {
     "cell_type": "code",
     "collapsed": false,
     "input": [
      "pts = [(1.309, 2.138), (1.471, 3.421), (1.490, 3.597), \n",
      "       (1.565, 4.340), (1.611, 4.882), (1.680, 5.660)]\n",
      "\n",
      "dta = pd.DataFrame(pts, columns=[\"x\", \"y\"])"
     ],
     "language": "python",
     "metadata": {},
     "outputs": []
    },
    {
     "cell_type": "markdown",
     "metadata": {},
     "source": [
      "* Let's fit a line through the first and last data points"
     ]
    },
    {
     "cell_type": "code",
     "collapsed": false,
     "input": [
      "fig, ax = plt.subplots(figsize=(8,6))\n",
      "\n",
      "x = np.column_stack((np.linspace(0, .6, 100), np.ones(100)))\n",
      "ax.plot(dta.x, dta.y, \"ko\")\n",
      "ax.plot(dta.x.values[[0, -1]], dta.y.values[[0, -1]], 'b-')\n",
      "ax.set_xlabel(\"x\", fontsize=16)\n",
      "ax.set_ylabel(\"y\", rotation=\"horizontal\", fontsize=16)\n",
      "ax.set_xlim(1.3, 1.7)\n",
      "ax.set_ylim(2, 6);"
     ],
     "language": "python",
     "metadata": {},
     "outputs": []
    },
    {
     "cell_type": "markdown",
     "metadata": {},
     "source": [
      "* What do you notice?"
     ]
    },
    {
     "cell_type": "markdown",
     "metadata": {},
     "source": [
      "* We need to do some kind of transformation to our data to linearize the relationship\n",
      "  * We could think about \"stretching\" the x axis out\n",
      "  * We could think about \"shrinking\" the y axis down\n",
      "* For the first case, we could try squaring the $x$-values\n",
      "* For the second case, we might try taking the square-root of $y$\n",
      "* **NOTE**: These transformations only make sense because we have values > 1\n",
      "  * When making a transformation, you need to use one that makes sense for your data\n",
      "  * For instance, you couldn't take a logarithmic transformation on negative values"
     ]
    },
    {
     "cell_type": "code",
     "collapsed": false,
     "input": [
      "fig, ax = plt.subplots(figsize=(8,6))\n",
      "\n",
      "x = np.column_stack((np.linspace(0, .6, 100), np.ones(100)))\n",
      "ax.plot(dta.x**2, dta.y, \"ko\")\n",
      "ax.plot(dta.x.values[[0, -1]]**2, dta.y.values[[0, -1]], 'b-')\n",
      "ax.set_xlabel(\"x\", fontsize=16)\n",
      "ax.set_ylabel(\"y\", rotation=\"horizontal\", fontsize=16)\n",
      "ax.set_xlim(1.3**2, 1.7**2)\n",
      "ax.set_ylim(2, 6);\n",
      "ax.set_title(\"(x^2, y)\")"
     ],
     "language": "python",
     "metadata": {},
     "outputs": []
    },
    {
     "cell_type": "markdown",
     "metadata": {},
     "source": [
      "* There still appears to be convexity"
     ]
    },
    {
     "cell_type": "code",
     "collapsed": false,
     "input": [
      "fig, ax = plt.subplots(figsize=(8,6))\n",
      "\n",
      "x = np.column_stack((np.linspace(0, .6, 100), np.ones(100)))\n",
      "ax.plot(dta.x**3, dta.y, \"ko\")\n",
      "ax.plot(dta.x.values[[0, -1]]**3, dta.y.values[[0, -1]], 'b-')\n",
      "ax.set_xlabel(\"x\", fontsize=16)\n",
      "ax.set_ylabel(\"y\", rotation=\"horizontal\", fontsize=16)\n",
      "ax.set_xlim(1.3**3, 1.7**3)\n",
      "ax.set_ylim(2, 6);\n",
      "ax.set_title(\"(x^3, y)\");"
     ],
     "language": "python",
     "metadata": {},
     "outputs": []
    },
    {
     "cell_type": "code",
     "collapsed": false,
     "input": [
      "fig, ax = plt.subplots(figsize=(8,6))\n",
      "\n",
      "x = np.column_stack((np.linspace(0, .6, 100), np.ones(100)))\n",
      "ax.plot(dta.x**4, dta.y, \"ko\")\n",
      "ax.plot(dta.x.values[[0, -1]]**4, dta.y.values[[0, -1]], 'b-')\n",
      "ax.set_xlabel(\"x\", fontsize=16)\n",
      "ax.set_ylabel(\"y\", rotation=\"horizontal\", fontsize=16)\n",
      "ax.set_xlim(1.3**4, 1.7**4)\n",
      "ax.set_ylim(2, 6);\n",
      "ax.set_title(\"(x^4, y)\");"
     ],
     "language": "python",
     "metadata": {},
     "outputs": []
    },
    {
     "cell_type": "code",
     "collapsed": false,
     "input": [
      "fig, ax = plt.subplots(figsize=(8,6))\n",
      "\n",
      "x = np.column_stack((np.linspace(0, .6, 100), np.ones(100)))\n",
      "ax.plot(dta.x**3.5, dta.y, \"ko\")\n",
      "ax.plot(dta.x.values[[0, -1]]**3.5, dta.y.values[[0, -1]], 'b-')\n",
      "ax.set_xlabel(\"x\", fontsize=16)\n",
      "ax.set_ylabel(\"y\", rotation=\"horizontal\", fontsize=16)\n",
      "ax.set_xlim(1.3**3.5, 1.7**3.5)\n",
      "ax.set_ylim(2, 6);\n",
      "ax.set_title(\"(x^3.5, y)\");"
     ],
     "language": "python",
     "metadata": {},
     "outputs": []
    },
    {
     "cell_type": "markdown",
     "metadata": {},
     "source": [
      "* Let's say we decided on a transformation of $x^{3.5}$\n",
      "* We can now perform a linear regression of $y=mz+b+\\epsilon$\n",
      "where $z=x^3.5$"
     ]
    },
    {
     "cell_type": "code",
     "collapsed": false,
     "input": [
      "dta[\"z\"] = dta[\"x\"] ** 3.5\n",
      "dta[\"constant\"] = 1"
     ],
     "language": "python",
     "metadata": {},
     "outputs": []
    },
    {
     "cell_type": "code",
     "collapsed": false,
     "input": [
      "y = dta[\"y\"].values\n",
      "X = dta[[\"z\", \"constant\"]].values"
     ],
     "language": "python",
     "metadata": {},
     "outputs": []
    },
    {
     "cell_type": "code",
     "collapsed": false,
     "input": [
      "fit = np.linalg.lstsq(X, y)"
     ],
     "language": "python",
     "metadata": {},
     "outputs": []
    },
    {
     "cell_type": "code",
     "collapsed": false,
     "input": [
      "coefs = fit[0]"
     ],
     "language": "python",
     "metadata": {},
     "outputs": []
    },
    {
     "cell_type": "code",
     "collapsed": false,
     "input": [
      "print coefs"
     ],
     "language": "python",
     "metadata": {},
     "outputs": []
    },
    {
     "cell_type": "code",
     "collapsed": false,
     "input": [
      "fig, ax = plt.subplots(figsize=(8,6))\n",
      "\n",
      "x = np.column_stack((np.linspace(0, 1.75, 100), np.ones(100)))\n",
      "ax.plot(dta.x**3.5, dta.y, \"ko\")\n",
      "ax.plot(x[:,0]**3.5, np.dot(x**3.5, coefs), 'b-')\n",
      "ax.set_xlabel(\"x^3.5\", fontsize=16)\n",
      "ax.set_ylabel(\"y\", rotation=\"horizontal\", fontsize=16)\n",
      "ax.set_xlim(2, 6.5)\n",
      "ax.set_ylim(2, 6);\n",
      "ax.set_title(\"Linear Fit\");"
     ],
     "language": "python",
     "metadata": {},
     "outputs": []
    },
    {
     "cell_type": "code",
     "collapsed": false,
     "input": [
      "fig, ax = plt.subplots(figsize=(8,6))\n",
      "\n",
      "x = np.column_stack((np.linspace(0, 1.75, 100), np.ones(100)))\n",
      "ax.plot(dta.x, dta.y, \"ko\")\n",
      "ax.plot(x[:,0], np.dot(x**3.5, coefs), 'b-')\n",
      "ax.set_xlabel(\"x\", fontsize=16)\n",
      "ax.set_ylabel(\"y\", rotation=\"horizontal\", fontsize=16)\n",
      "ax.set_xlim(0,1.75)\n",
      "ax.set_ylim(-1,6);\n",
      "ax.set_title(\"f(x)=%8.6f + %8.6fx^3.5\" % tuple(coefs[::-1]));"
     ],
     "language": "python",
     "metadata": {},
     "outputs": []
    },
    {
     "cell_type": "markdown",
     "metadata": {},
     "source": [
      "* These are certainly not the only transformation you could make to find an appropriate physical model\n",
      "  * In fact, I'd argue that you'd be hard pressed to find anyone outside of engineering and the physical sciences who might make such a transformation\n",
      "* Other transformations, you might consider to linearize the effect of x on y is a logarithmic transformation\n",
      "* Why?\n",
      "  * Hint: $\\log(x^2)=2\\log(x)$"
     ]
    },
    {
     "cell_type": "code",
     "collapsed": false,
     "input": [
      "y = dta[\"y\"].values\n",
      "X = dta[[\"x\", \"constant\"]].values\n",
      "X[:,0] = np.log(X[:,0])\n",
      "fit = np.linalg.lstsq(X, y)\n",
      "coefs = fit[0]"
     ],
     "language": "python",
     "metadata": {},
     "outputs": []
    },
    {
     "cell_type": "code",
     "collapsed": false,
     "input": [
      "fig, ax = plt.subplots(figsize=(8,6))\n",
      "\n",
      "x = np.column_stack((np.log(np.linspace(0, 1.75, 100)), np.ones(100)))\n",
      "ax.plot(np.log(dta.x), dta.y, \"ko\")\n",
      "ax.plot(x[:,0], np.dot(x, coefs), 'b-')\n",
      "ax.set_xlabel(\"x\", fontsize=16)\n",
      "ax.set_ylabel(\"y\", rotation=\"horizontal\", fontsize=16)\n",
      "ax.set_xlim(.2, .5)\n",
      "ax.set_ylim(-1, 6.5);\n",
      "ax.set_title(\"f(x)=%8.6f + %8.6f*log(x)\" % tuple(coefs[::-1]));"
     ],
     "language": "python",
     "metadata": {},
     "outputs": []
    },
    {
     "cell_type": "heading",
     "level": 4,
     "metadata": {},
     "source": [
      "Multiterm Models"
     ]
    },
    {
     "cell_type": "markdown",
     "metadata": {},
     "source": [
      "* In another NIST study, A. Filippelli collected the following data"
     ]
    },
    {
     "cell_type": "code",
     "collapsed": false,
     "input": [
      "url = \"http://www.itl.nist.gov/div898/strd/lls/data/LINKS/DATA/Filip.dat\"\n",
      "dta = pd.read_table(url, skiprows=60, header=None, names=[\"y\",\"x\"], sep=\" *\")"
     ],
     "language": "python",
     "metadata": {},
     "outputs": []
    },
    {
     "cell_type": "code",
     "collapsed": false,
     "input": [
      "dta.info()"
     ],
     "language": "python",
     "metadata": {},
     "outputs": []
    },
    {
     "cell_type": "code",
     "collapsed": false,
     "input": [
      "dta.head(5)"
     ],
     "language": "python",
     "metadata": {},
     "outputs": []
    },
    {
     "cell_type": "code",
     "collapsed": false,
     "input": [
      "fig, ax = plt.subplots(figsize=(8,6))\n",
      "\n",
      "ax.plot(dta.x, dta.y, 'o')\n",
      "ax.set_xlabel(\"x\")\n",
      "ax.set_ylabel(\"y\", rotation=\"horizontal\");"
     ],
     "language": "python",
     "metadata": {},
     "outputs": []
    },
    {
     "cell_type": "markdown",
     "metadata": {},
     "source": [
      "* This doesn't quite look like a logistic function\n",
      "* Recall that we can make a high enough order polynomial approximate any continuous function\n",
      "* So we may try fitting a polynomial of the form\n",
      "$$y=b_0+b_1z^1+b_2z^2+b_3z^3+b_4z^4$$\n",
      "* Recall that polynomials are easily differentiable and integrable and further manipulated by a computer for more analysis\n",
      "* Again, we have several options for fitting polynomials to this data\n",
      "* One method is called **interpolation**"
     ]
    },
    {
     "cell_type": "heading",
     "level": 5,
     "metadata": {},
     "source": [
      "Polynomial Interpolation"
     ]
    },
    {
     "cell_type": "markdown",
     "metadata": {},
     "source": [
      "* For interpolation, we would determine the coefficients $b_i$ by solving five equations simulataneously\n",
      "* For each equation, a different observation $i$ is substituted into the polynomial with $z$ set to $x_i$\n",
      "* To solve a system of equations recall that you need $n$ equations to solve $n$ unknowns\n",
      "* Here, we have a $4^{th}$-order polynomial with 5 unknowns, but we have 82 observations\n",
      "* This is called an over-determined system.\n",
      "* Instead of dropping 77 observations, we will obtain a least-square fit\n",
      "* Thus, least-squares is a common way to deal with over-determined systems"
     ]
    },
    {
     "cell_type": "heading",
     "level": 5,
     "metadata": {},
     "source": [
      "Fitting Polynomials by Least Squares"
     ]
    },
    {
     "cell_type": "markdown",
     "metadata": {},
     "source": [
      "* We could continue to use `numpy.linalg.lstsq`\n",
      "* To do so, we would first need to create our polynomial array"
     ]
    },
    {
     "cell_type": "code",
     "collapsed": false,
     "input": [
      "y = dta.y.values\n",
      "Z = dta.x.values"
     ],
     "language": "python",
     "metadata": {},
     "outputs": []
    },
    {
     "cell_type": "code",
     "collapsed": false,
     "input": [
      "Z.shape"
     ],
     "language": "python",
     "metadata": {},
     "outputs": []
    },
    {
     "cell_type": "code",
     "collapsed": false,
     "input": [
      "Z = Z[:, None]"
     ],
     "language": "python",
     "metadata": {},
     "outputs": []
    },
    {
     "cell_type": "code",
     "collapsed": false,
     "input": [
      "Z.shape"
     ],
     "language": "python",
     "metadata": {},
     "outputs": []
    },
    {
     "cell_type": "code",
     "collapsed": false,
     "input": [
      "Z = Z ** [0, 1, 2, 3, 4]"
     ],
     "language": "python",
     "metadata": {},
     "outputs": []
    },
    {
     "cell_type": "code",
     "collapsed": false,
     "input": [
      "Z.shape"
     ],
     "language": "python",
     "metadata": {},
     "outputs": []
    },
    {
     "cell_type": "code",
     "collapsed": false,
     "input": [
      "fit = np.linalg.lstsq(Z, y)"
     ],
     "language": "python",
     "metadata": {},
     "outputs": []
    },
    {
     "cell_type": "code",
     "collapsed": false,
     "input": [
      "coefs = fit[0]"
     ],
     "language": "python",
     "metadata": {},
     "outputs": []
    },
    {
     "cell_type": "markdown",
     "metadata": {},
     "source": [
      "We need to sort the x and the predicted values to plot"
     ]
    },
    {
     "cell_type": "code",
     "collapsed": false,
     "input": [
      "coefs.shape"
     ],
     "language": "python",
     "metadata": {},
     "outputs": []
    },
    {
     "cell_type": "code",
     "collapsed": false,
     "input": [
      "yhat = np.dot(Z, coefs)"
     ],
     "language": "python",
     "metadata": {},
     "outputs": []
    },
    {
     "cell_type": "code",
     "collapsed": false,
     "input": [
      "x = dta.x.values.copy()"
     ],
     "language": "python",
     "metadata": {},
     "outputs": []
    },
    {
     "cell_type": "code",
     "collapsed": false,
     "input": [
      "idx = x.argsort()"
     ],
     "language": "python",
     "metadata": {},
     "outputs": []
    },
    {
     "cell_type": "code",
     "collapsed": false,
     "input": [
      "fig, ax = plt.subplots(figsize=(8,6))\n",
      "\n",
      "ax.plot(dta.x, dta.y, 'o')\n",
      "ax.plot(dta.x.values[idx], yhat[idx], 'r-', lw=3)"
     ],
     "language": "python",
     "metadata": {},
     "outputs": []
    },
    {
     "cell_type": "heading",
     "level": 4,
     "metadata": {},
     "source": [
      "Fitting Polynomials with numpy.polyfit"
     ]
    },
    {
     "cell_type": "markdown",
     "metadata": {},
     "source": [
      "* A bit easier way is to use polyfit\n",
      "* Notice, however, the order of the polynomial is from highest to lowest degree"
     ]
    },
    {
     "cell_type": "code",
     "collapsed": false,
     "input": [
      "coefs = np.polyfit(dta.x, dta.y, deg=4)"
     ],
     "language": "python",
     "metadata": {},
     "outputs": []
    },
    {
     "cell_type": "code",
     "collapsed": false,
     "input": [
      "coefs"
     ],
     "language": "python",
     "metadata": {},
     "outputs": []
    },
    {
     "cell_type": "markdown",
     "metadata": {},
     "source": [
      "* $4^th$-order polynomials isn't a very good fit\n",
      "* Let's try a $10^{th}$-order polynomial "
     ]
    },
    {
     "cell_type": "code",
     "collapsed": false,
     "input": [
      "coefs = np.polyfit(dta.x, dta.y, deg=10)"
     ],
     "language": "python",
     "metadata": {},
     "outputs": []
    },
    {
     "cell_type": "code",
     "collapsed": false,
     "input": [
      "Z = dta.x.values[:, None]\n",
      "Z = Z ** np.arange(10, -1, -1)"
     ],
     "language": "python",
     "metadata": {},
     "outputs": []
    },
    {
     "cell_type": "code",
     "collapsed": false,
     "input": [
      "fig, ax = plt.subplots(figsize=(8,6))\n",
      "\n",
      "yhat = np.dot(Z, coefs)\n",
      "ax.plot(dta.x, dta.y, 'o')\n",
      "ax.plot(dta.x.values[idx], yhat[idx], 'r-', lw=3);"
     ],
     "language": "python",
     "metadata": {},
     "outputs": []
    },
    {
     "cell_type": "markdown",
     "metadata": {},
     "source": [
      "* Pretty good. Any problems?\n",
      "* What if we extend x a little bit?"
     ]
    },
    {
     "cell_type": "code",
     "collapsed": false,
     "input": [
      "newx = np.linspace(x.min()-.5, x.max()+.2, 100)[:,None]\n",
      "newx = newx ** np.arange(1,11)\n",
      "newx = np.column_stack((np.ones(len(newx)), newx))"
     ],
     "language": "python",
     "metadata": {},
     "outputs": []
    },
    {
     "cell_type": "code",
     "collapsed": false,
     "input": [
      "newx[:,1].min(), newx[:,1].max()"
     ],
     "language": "python",
     "metadata": {},
     "outputs": []
    },
    {
     "cell_type": "code",
     "collapsed": false,
     "input": [
      "newy = np.dot(newx, coefs)"
     ],
     "language": "python",
     "metadata": {},
     "outputs": []
    },
    {
     "cell_type": "code",
     "collapsed": false,
     "input": [
      "fig, ax = plt.subplots(figsize=(8,6))\n",
      "\n",
      "ax.plot(newx[:,1], newy, 'r-', lw=3);"
     ],
     "language": "python",
     "metadata": {},
     "outputs": []
    },
    {
     "cell_type": "markdown",
     "metadata": {},
     "source": [
      "* This demonstrates the problem of **overfitting** pretty succinctly\n",
      "* This a very common problem in statistics and machine learning\n",
      "* When you try to find a perfect model for your sample, your model can be overly complex\n",
      "* Overly complex models tend to model the in-sample noise rather than any underlying relationship"
     ]
    }
   ],
   "metadata": {}
  }
 ]
}
{
 "metadata": {
  "name": "drugs_single_dose"
 },
 "nbformat": 3,
 "nbformat_minor": 0,
 "worksheets": [
  {
   "cells": [
    {
     "cell_type": "heading",
     "level": 3,
     "metadata": {},
     "source": [
      "Drug Dosage - Single Dose"
     ]
    },
    {
     "cell_type": "code",
     "collapsed": false,
     "input": [
      "import numpy as np\n",
      "from scipy import integrate\n",
      "import matplotlib.pyplot as plt"
     ],
     "language": "python",
     "metadata": {},
     "outputs": []
    },
    {
     "cell_type": "code",
     "collapsed": false,
     "input": [
      "# ordinary variables first (circles with no incoming arrows)\n",
      "\n",
      "# constants\n",
      "half_life = 3.2 # hours/300 to 650mg\n",
      "plasma_volume = 3000 # ml\n",
      "\n",
      "# derived variables\n",
      "elimination_constant = -np.log(.5) / half_life\n",
      "\n",
      "# set stock variable initial value\n",
      "aspirin_in_plasma_0 = 2 * 325 * 1000 # be careful with units!\n",
      "\n",
      "# there are no other circles that are pointed to by anything other than a circle"
     ],
     "language": "python",
     "metadata": {},
     "outputs": []
    },
    {
     "cell_type": "code",
     "collapsed": false,
     "input": [
      "def dQdt(drug_t, t,  elimination_constant):\n",
      "    \"\"\"\n",
      "    Elimination function\n",
      "\n",
      "    This gives the change of the quantity of drug in\n",
      "    a system\n",
      "    \"\"\"\n",
      "    return -elimination_constant * drug_t"
     ],
     "language": "python",
     "metadata": {},
     "outputs": []
    },
    {
     "cell_type": "code",
     "collapsed": false,
     "input": [
      "# we want to run this simulation for 8 hours, with a step-size of 1/10th of an hour (somewhat arbitrary)\n",
      "time_points = np.arange(0, 8, .1)\n",
      "\n",
      "aspirin = integrate.odeint(dQdt, aspirin_in_plasma_0, time_points, args=(elimination_constant,))\n",
      "\n",
      "# derived stock variable\n",
      "\n",
      "plasma_concentration = aspirin / plasma_volume\n",
      "\n",
      "fig, ax = plt.subplots(subplot_kw=dict(xlabel=\"t\", ylabel=\"plasma concentration\"))\n",
      "ax.plot(time_points, plasma_concentration)\n",
      "ax.set_ylim(0, 217)\n",
      "ax.set_title(\"Plasma concentration ($\\mu$/ml) vs. t(hr) for aspirin\");"
     ],
     "language": "python",
     "metadata": {},
     "outputs": []
    }
   ],
   "metadata": {}
  }
 ]
}
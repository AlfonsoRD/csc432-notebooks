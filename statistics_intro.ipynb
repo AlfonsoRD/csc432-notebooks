{
 "metadata": {
  "name": "statistics_intro"
 },
 "nbformat": 3,
 "nbformat_minor": 0,
 "worksheets": [
  {
   "cells": [
    {
     "cell_type": "heading",
     "level": 4,
     "metadata": {},
     "source": [
      "Pandas"
     ]
    },
    {
     "cell_type": "code",
     "collapsed": false,
     "input": [
      "import pandas as pd"
     ],
     "language": "python",
     "metadata": {},
     "outputs": []
    },
    {
     "cell_type": "code",
     "collapsed": false,
     "input": [
      "dta = pd.read_csv(\"http://vincentarelbundock.github.com/Rdatasets/csv/car/Duncan.csv\", index_col=0)\n",
      "dta.index.name = \"occupation\"\n",
      "print dta.info()"
     ],
     "language": "python",
     "metadata": {},
     "outputs": []
    },
    {
     "cell_type": "heading",
     "level": 4,
     "metadata": {},
     "source": [
      "Mean, Median, Mode"
     ]
    },
    {
     "cell_type": "code",
     "collapsed": false,
     "input": [
      "dta.mean()"
     ],
     "language": "python",
     "metadata": {},
     "outputs": []
    },
    {
     "cell_type": "code",
     "collapsed": false,
     "input": [
      "dta.median()"
     ],
     "language": "python",
     "metadata": {},
     "outputs": []
    },
    {
     "cell_type": "code",
     "collapsed": false,
     "input": [
      "dta.groupby(\"type\").size()"
     ],
     "language": "python",
     "metadata": {},
     "outputs": []
    },
    {
     "cell_type": "heading",
     "level": 4,
     "metadata": {},
     "source": [
      "What is a probability?"
     ]
    },
    {
     "cell_type": "markdown",
     "metadata": {},
     "source": [
      "* this is a real question\n",
      "* standard interpretation - **frequentist probability**\n",
      "  * the probability of an event is the frequency with which it occurs in a large (infinite) number of repeated trials\n",
      "  * data are a repeatable random sample; parameters are fixed\n",
      "  * parameters are unknown but estimable\n",
      "  * get the parameters from the data and explore properties given they're fixed\n",
      "  * how much could they have changed given a different realization of the data from the population?\n",
      "  * underlies experimental design. experiments are controlled and repeatable\n",
      "* a competing paradigm - **Bayesian probability**\n",
      "  * how do our beliefs change when confronted with data?\n",
      "  * data are fixed; parameters are unknown\n",
      "  * we have some idea about the parameters before the data are seen\n",
      "  * get the data and update our parameters in a coherent way\n",
      "  * all experiments rely on assumptions and all statistical models are subjective"
     ]
    },
    {
     "cell_type": "markdown",
     "metadata": {},
     "source": [
      "*Everything below assumes the frequentist interpretation of probability. Though we will likely discuss some Bayesian methods.*"
     ]
    },
    {
     "cell_type": "heading",
     "level": 4,
     "metadata": {},
     "source": [
      "Variance and Covariance"
     ]
    },
    {
     "cell_type": "markdown",
     "metadata": {},
     "source": [
      "* The **expectation** (also **first moment** or **mean**) of a random variable is a weighted average\n",
      "* The weights are given by the probability associated with each possible value of the variable for a discrete variable\n",
      "  * If the variable is continuous, we use the word density in place of probability\n",
      "* For example, assume lottery tickets are `$`1. 200,000 tickets are sold, and there is guaranteed winner of `$`100,000\n",
      "  * The expected value of your ticket is \n",
      "    $$-1 \\left(\\frac{199,999}{200,000}\\right) + 99,999\\left(\\frac{1}{200,000}\\right) = -.5$$"
     ]
    },
    {
     "cell_type": "markdown",
     "metadata": {},
     "source": [
      "* The **variance** of a random variable is a measure of how spread out the values are\n",
      "* It is computed as the sum of squared distances of each value from the expected value (the mean $\\mu$)\n",
      "$$\\operatorname{var}(\\{x_i\\})=\\sigma^2(\\{x_i\\})=\\mathbb{E}((\\{x_i\\}-\\mu)^2)=\\sum_{i=1}^N(x_i-\\mu)^2$$\n",
      "* The square root of the variance, $\\sigma$ is known as the **standard deviation**"
     ]
    },
    {
     "cell_type": "markdown",
     "metadata": {},
     "source": [
      "* We can generalize the notion of variance to two variables\n",
      "* The  **covariance** is a measure of *statistical* dependence between two variables\n",
      "* It is computed as\n",
      "$$\\operatorname{cov}(\\{x_i\\},\\{y_i\\})=\\mathbb{E}((\\{x_i\\}-\\mu)^2)\\mathbb{E}((\\{y_i\\}-\\upsilon)^2)$$\n",
      "where $\\upsilon$ is the mean of the set $\\{y_i\\}$\n",
      "* If two variables are **independent** then their covariance is zero.\n",
      "* Positive covariance means as one variable goes up, the other goes up\n",
      "* Negative covariance means as one variable goes up, the other goes down\n",
      "* A **covariance** matrix is the pairwise covariance of each variable in a dataset\n",
      "* For example, given a dataset $X$ that contains three variables $x_1,x_2,x_3$ the covariance matrix would be\n",
      "$$\\Sigma = \\left[\\begin{array}{ccc} \\cr\n",
      "\\operatorname{cov}(x_1,x_1) & \\operatorname{cov}(x_1,x_2) & \\operatorname{cov}(x_1,x_3) \\cr\n",
      "\\operatorname{cov}(x_2,x_1) & \\operatorname{cov}(x_2,x_2) & \\operatorname{cov}(x_2,x_3) \\cr\n",
      "\\operatorname{cov}(x_3,x_1) & \\operatorname{cov}(x_3,x_2) & \\operatorname{cov}(x_3,x_3) \\cr\n",
      "\\end{array}\\right]\n",
      "$$\n",
      "* This matrix is symmetric $\\operatorname{cov}(x_i, x_j) = \\operatorname{cov}(x_j, x_i)$\n",
      "* The elements onthe  are the variances $\\operatorname{cov}(x_i, x_i) = \\operatorname{var}(x_i)$ "
     ]
    },
    {
     "cell_type": "heading",
     "level": 2,
     "metadata": {},
     "source": [
      "Probability Distributions"
     ]
    },
    {
     "cell_type": "markdown",
     "metadata": {},
     "source": [
      "* A probability distribution assigns a probability to possible outcomes of a random variable\n",
      "* For continuous random variables this is called a **probability density function**\n",
      "  * A continuous random variable can take on any value within a given interval\n",
      "* For discrete random variables this is called a **probability mass function**\n",
      "  * A discrete random variable takes on a countable (finite or infinite) number of distinct values $\\mathcal{X}$"
     ]
    },
    {
     "cell_type": "heading",
     "level": 4,
     "metadata": {},
     "source": [
      "Probability Mass Function"
     ]
    },
    {
     "cell_type": "markdown",
     "metadata": {},
     "source": [
      "* a probability mass is some function $f$ that is everywhere non-negative\n",
      "* and that sums to 1\n",
      "* Mathematically the probability mass function of a discrete random variable X is a real-valued function $f(x)$ \n",
      "* \n",
      "such that\n",
      "$$P(X=x_i)=f(x_i)$$\n",
      "where\n",
      "$$f(x)\\geq0\\forall x \\in \\mathcal{X}$$\n",
      "$$\\sum_xf(x)=1$$"
     ]
    },
    {
     "cell_type": "heading",
     "level": 4,
     "metadata": {},
     "source": [
      "Probability Density Function"
     ]
    },
    {
     "cell_type": "markdown",
     "metadata": {},
     "source": [
      "* a probability density is some function $f$ that is everywhere non-negative\n",
      "* and that integrates to 1 over the entire space\n",
      "* Mathematically the probability density function of X is a function $f(x)$ that satisfies\n",
      "$$P(a\\leq X\\leq b)=\\int_a^bf(x)dx$$\n",
      "\n",
      "where\n",
      "\n",
      "$$f(x) \\geq 0 \\forall x$$ \n",
      "\n",
      "and \n",
      "\n",
      "$$\\int_{-\\infty}^{\\infty}f(x)dx=1$$\n",
      "\n",
      "* Note $P(X=c)=0$ for the continuous case. Why?\n",
      "* It follows that the use of strict inequality is unimportant.\n",
      "  * $P(a < X < b) = P(a \\leq X < b) = P(a \\leq X \\leq b) = P(a < X \\leq b)$"
     ]
    },
    {
     "cell_type": "heading",
     "level": 4,
     "metadata": {},
     "source": [
      "Cumulative Distribution Function"
     ]
    },
    {
     "cell_type": "markdown",
     "metadata": {},
     "source": [
      "* the cumulative distribution function $F(X)$ gives the probability that $X$ will take on a value less than some $x$\n",
      "$$F(X) = P(X \\leq x) = \\int_{-\\infty}^{x}f(y)dy$$\n",
      "* Note that the following properties hold\n",
      "* $P(X > a) = 1 - F(a)$\n",
      "* $P(a \\leq x \\leq b) = F(b) - F(a)$"
     ]
    },
    {
     "cell_type": "heading",
     "level": 4,
     "metadata": {},
     "source": [
      "Gaussian (Normal) Distribution"
     ]
    },
    {
     "cell_type": "markdown",
     "metadata": {},
     "source": [
      "* the univariate Gaussian (or Normal) Distribution has the familiar bell-shaped curve\n",
      "* Notation $x \\sim N(\\mu,\\sigma^2)$\n",
      "* $N(0,1)$ is commonly referred to as the standard normal\n",
      "$$f(x)=\\frac{1}{2\\sqrt{2\\pi}}e^{-\\frac{(x-\\mu)^2}{2\\sigma^2}}$$"
     ]
    },
    {
     "cell_type": "code",
     "collapsed": false,
     "input": [
      "import numpy as np\n",
      "from scipy import stats"
     ],
     "language": "python",
     "metadata": {},
     "outputs": []
    },
    {
     "cell_type": "code",
     "collapsed": false,
     "input": [
      "x = np.linspace(-7, 7, 1000)\n",
      "pdf01 = stats.norm.pdf(x)\n",
      "pdf02 = stats.norm.pdf(x, scale=5**.5)"
     ],
     "language": "python",
     "metadata": {},
     "outputs": []
    },
    {
     "cell_type": "code",
     "collapsed": false,
     "input": [
      "fig, ax = plt.subplots(figsize=(8,6))\n",
      "ax.plot(x, pdf01, label=\"N(0,1)\")\n",
      "ax.plot(x, pdf02, label=\"N(0,5)\")\n",
      "ax.set_xlim(-5,5)\n",
      "ax.legend()\n",
      "ax.set_title(\"Normal Distribution PDF\");"
     ],
     "language": "python",
     "metadata": {},
     "outputs": []
    },
    {
     "cell_type": "code",
     "collapsed": false,
     "input": [
      "cdf01 = stats.norm.cdf(x)\n",
      "cdf02 = stats.norm.cdf(x, scale=5**.5)"
     ],
     "language": "python",
     "metadata": {},
     "outputs": []
    },
    {
     "cell_type": "code",
     "collapsed": false,
     "input": [
      "fig, ax = plt.subplots(figsize=(8,6))\n",
      "ax.plot(x, cdf01, label=\"N(0,1)\")\n",
      "ax.plot(x, cdf02, label=\"N(0,5)\")\n",
      "ax.set_xlim(-5,5)\n",
      "ax.legend(loc=\"upper left\")\n",
      "ax.set_title(\"Normal Distribution CDF\");"
     ],
     "language": "python",
     "metadata": {},
     "outputs": []
    },
    {
     "cell_type": "markdown",
     "metadata": {},
     "source": [
      "* Given that $X \\sim N(0,5)$ what's the probability that $x_i<-3$\n",
      "* $Pr(x < -3)=F(-3)$"
     ]
    },
    {
     "cell_type": "code",
     "collapsed": false,
     "input": [
      "fig, ax = plt.subplots(figsize=(8,6))\n",
      "ax.plot(x, pdf02, label=\"N(0,5)\")\n",
      "ax.set_xlim(-7,7)\n",
      "ax.legend()\n",
      "ax.set_title(\"Normal Distribution PDF\");\n",
      "x_fill = np.linspace(-7, -3)\n",
      "ax.fill_between(x_fill, stats.norm.pdf(x_fill, scale=5**.5));"
     ],
     "language": "python",
     "metadata": {},
     "outputs": []
    },
    {
     "cell_type": "code",
     "collapsed": false,
     "input": [
      "print \"Prob(x < -3) = %2.4f %%\" % (stats.norm.cdf(-3, scale=5**.5)*100)"
     ],
     "language": "python",
     "metadata": {},
     "outputs": []
    },
    {
     "cell_type": "code",
     "collapsed": false,
     "input": [
      "fig, ax = plt.subplots(figsize=(8,6))\n",
      "ax.plot(x, cdf02, label=\"N(0,5)\")\n",
      "ax.set_xlim(-7,7)\n",
      "ax.plot(-3, stats.norm.cdf(-3, scale=5**.5), 'o')\n",
      "ax.vlines(-3, 0, stats.norm.cdf(-3, scale=5**.5), \n",
      "          linestyle='--', color='blue')\n",
      "ax.legend(loc=\"upper left\")\n",
      "ax.set_title(\"Normal Distribution CDF\");"
     ],
     "language": "python",
     "metadata": {},
     "outputs": []
    },
    {
     "cell_type": "markdown",
     "metadata": {},
     "source": [
      "What's the value at which 5% of all variables are less than it? We want to use the inverse of the CDF, the percent point function."
     ]
    },
    {
     "cell_type": "code",
     "collapsed": false,
     "input": [
      "stats.norm.ppf(.05)"
     ],
     "language": "python",
     "metadata": {},
     "outputs": []
    },
    {
     "cell_type": "code",
     "collapsed": false,
     "input": [
      "alpha = .05"
     ],
     "language": "python",
     "metadata": {},
     "outputs": []
    },
    {
     "cell_type": "code",
     "collapsed": false,
     "input": [
      "stats.norm.ppf(alpha/2), stats.norm.ppf((1-alpha/2)) # two-tailed"
     ],
     "language": "python",
     "metadata": {},
     "outputs": []
    },
    {
     "cell_type": "code",
     "collapsed": false,
     "input": [
      "fig, ax = plt.subplots(figsize=(8,6))\n",
      "ax.plot(x, pdf01, label=\"N(0,1)\")\n",
      "ax.set_xlim(-5,5)\n",
      "ax.legend()\n",
      "ax.set_title(\"Normal Distribution PDF\");\n",
      "x_fill = np.linspace(stats.norm.ppf(alpha/2), stats.norm.ppf((1-alpha/2)))\n",
      "ax.fill_between(x_fill, stats.norm.pdf(x_fill));"
     ],
     "language": "python",
     "metadata": {},
     "outputs": []
    },
    {
     "cell_type": "heading",
     "level": 4,
     "metadata": {},
     "source": [
      "Preliminary definitions"
     ]
    },
    {
     "cell_type": "markdown",
     "metadata": {},
     "source": [
      "* A **population** includes all possible values of interest\n",
      "  * A **population distribution** is the \"true\" distribution of all of these values\n",
      "  * For example, the population distribution of a coin toss is 50/50\n",
      "* A **sample** is only an observed portion of a population\n",
      "  * For example, a coin toss sample might be {H, H, H, T}.\n",
      "  * A **sampling distribution** is the distribution of a statistic from *all possible* samples of the same size from a population\n",
      "* The **law of large numbers** states that as the of sample size grows, the **sample mean** converges to the expected value of the population\n",
      "  * Let's take an example\n",
      "  * Say we rolled one die 500 times and took the cumulative mean"
     ]
    },
    {
     "cell_type": "code",
     "collapsed": false,
     "input": [
      "np.random.seed(100)\n",
      "die_rolls = np.random.random_integers(1, 6, size=500)\n",
      "denom = np.arange(1., len(die_rolls)+1)\n",
      "running_mean = np.cumsum(die_rolls)/denom"
     ],
     "language": "python",
     "metadata": {},
     "outputs": []
    },
    {
     "cell_type": "code",
     "collapsed": false,
     "input": [
      "die_rolls[:5]"
     ],
     "language": "python",
     "metadata": {},
     "outputs": []
    },
    {
     "cell_type": "code",
     "collapsed": false,
     "input": [
      "fig, ax = plt.subplots(figsize=(8,6))\n",
      "ax.set_xlim(0, len(denom)+1)\n",
      "ax.set_ylim(0,5)\n",
      "ax.plot(denom, running_mean);\n",
      "ax.hlines(3.5, 0, len(denom)+1, color='r', lw=3);"
     ],
     "language": "python",
     "metadata": {},
     "outputs": []
    },
    {
     "cell_type": "heading",
     "level": 4,
     "metadata": {},
     "source": [
      "Why is the Normal Distribution so popular?"
     ]
    },
    {
     "cell_type": "markdown",
     "metadata": {},
     "source": [
      "* Popularity due in part to the **Central Limit Theorem**\n",
      "* Take any distribution with finite mean and variance\n",
      "* Take $n$ independent draws (samples) from this distribution\n",
      "* If $S_n$ is the sum of these independent draws, then the sampling distribution of $S_n$ tends to the Normal distribution as $n\\rightarrow \\infty$ "
     ]
    },
    {
     "cell_type": "markdown",
     "metadata": {},
     "source": [
      "Take the probabilty distribution of a the throw of one die."
     ]
    },
    {
     "cell_type": "code",
     "collapsed": false,
     "input": [
      "fig, ax = plt.subplots(figsize=(8,6))\n",
      "ax.bar(np.arange(.5, 6.5), [1/6.]*6, width=.85)\n",
      "ax.set_ylim(0, .35);"
     ],
     "language": "python",
     "metadata": {},
     "outputs": []
    },
    {
     "cell_type": "code",
     "collapsed": false,
     "input": [
      "np.random.seed(1234)"
     ],
     "language": "python",
     "metadata": {},
     "outputs": []
    },
    {
     "cell_type": "markdown",
     "metadata": {},
     "source": [
      "Roll 1 die 1000 times."
     ]
    },
    {
     "cell_type": "code",
     "collapsed": false,
     "input": [
      "one_die = np.random.random_integers(1, 6, size=1000)"
     ],
     "language": "python",
     "metadata": {},
     "outputs": []
    },
    {
     "cell_type": "markdown",
     "metadata": {},
     "source": [
      "Roll 2 dice 1000 times."
     ]
    },
    {
     "cell_type": "markdown",
     "metadata": {},
     "source": [
      "**Review question:** What does this summation do?"
     ]
    },
    {
     "cell_type": "code",
     "collapsed": false,
     "input": [
      "two_die = np.random.random_integers(1, 6, size=(1000,2)).sum(1)"
     ],
     "language": "python",
     "metadata": {},
     "outputs": []
    },
    {
     "cell_type": "markdown",
     "metadata": {},
     "source": [
      "Roll 3 dice 1000 times."
     ]
    },
    {
     "cell_type": "code",
     "collapsed": false,
     "input": [
      "three_die = np.random.random_integers(1, 6, size=(1000,3)).sum(1)"
     ],
     "language": "python",
     "metadata": {},
     "outputs": []
    },
    {
     "cell_type": "markdown",
     "metadata": {},
     "source": [
      "Roll 4 dice 1000 times."
     ]
    },
    {
     "cell_type": "code",
     "collapsed": false,
     "input": [
      "four_die = np.random.random_integers(1, 6, size=(1000,4)).sum(1)"
     ],
     "language": "python",
     "metadata": {},
     "outputs": []
    },
    {
     "cell_type": "markdown",
     "metadata": {},
     "source": [
      "Roll 5 dice 1000 times."
     ]
    },
    {
     "cell_type": "code",
     "collapsed": false,
     "input": [
      "five_die = np.random.random_integers(1, 6, size=(1000,5)).sum(1)"
     ],
     "language": "python",
     "metadata": {},
     "outputs": []
    },
    {
     "cell_type": "markdown",
     "metadata": {},
     "source": [
      "Roll 50 dice 1000 times."
     ]
    },
    {
     "cell_type": "code",
     "collapsed": false,
     "input": [
      "fifty_die = np.random.random_integers(1, 6, size=(1000,50)).sum(axis=1)"
     ],
     "language": "python",
     "metadata": {},
     "outputs": []
    },
    {
     "cell_type": "code",
     "collapsed": false,
     "input": [
      "fig, axes = plt.subplots(nrows=3, ncols=2, figsize=(8,6))\n",
      "axes[0,0].hist(one_die, bins=range(1,8), normed=True)\n",
      "axes[0,0].set_xlim(1,6)\n",
      "axes[0,0].set_ylim(0, .25);\n",
      "axes[0,0].set_title(\"n=1\")\n",
      "\n",
      "axes[0,1].hist(two_die, bins=range(2,14), normed=True)\n",
      "axes[0,1].set_xlim(2,12)\n",
      "axes[0,1].set_ylim(0, .25);\n",
      "axes[0,1].set_title(\"n=2\")\n",
      "\n",
      "axes[1,0].hist(three_die, bins=np.arange(3,20), normed=True)\n",
      "axes[1,0].set_xlim(3,18)\n",
      "axes[1,0].set_ylim(0, .20);\n",
      "axes[1,0].set_title(\"n=3\")\n",
      "\n",
      "axes[1,1].hist(four_die, bins=np.arange(4,26), normed=True)\n",
      "axes[1,1].set_xlim(4, 24)\n",
      "axes[1,1].set_ylim(0, .20);\n",
      "axes[1,1].set_title(\"n=4\")\n",
      "\n",
      "axes[2,0].hist(five_die, bins=np.arange(5,32), normed=True)\n",
      "axes[2,0].set_xlim(5, 30)\n",
      "axes[2,0].set_ylim(0, .20);\n",
      "axes[2,0].set_title(\"n=5\")\n",
      "\n",
      "axes[2,1].hist(fifty_die, bins=np.arange(50,50*6+2, 2), normed=True)\n",
      "axes[2,1].set_xlim(125, 225)\n",
      "axes[2,1].set_ylim(0, .05);\n",
      "axes[2,1].set_title(\"n=50\");\n",
      "\n",
      "fig.tight_layout()"
     ],
     "language": "python",
     "metadata": {},
     "outputs": []
    },
    {
     "cell_type": "markdown",
     "metadata": {},
     "source": [
      "Another example, say we had some very odd dice with the following probability distribution."
     ]
    },
    {
     "cell_type": "code",
     "collapsed": false,
     "input": [
      "odd_dice = np.array([1/3., 0, 1/6., 1/6., 0, 1/3.])"
     ],
     "language": "python",
     "metadata": {},
     "outputs": []
    },
    {
     "cell_type": "code",
     "collapsed": false,
     "input": [
      "fig, ax = plt.subplots(figsize=(8,6))\n",
      "ax.bar(np.arange(.5, 6.5, 1), odd_dice,\n",
      "       width=1)\n",
      "ax.xaxis.set_label_text(\"$P(x_i)$\", fontdict=dict(fontsize=20))\n",
      "ax.yaxis.set_label_text(\"$x_i$\", fontdict=dict(fontsize=20), rotation=\"horizontal\")\n",
      "ax.set_ylim(0, .5);"
     ],
     "language": "python",
     "metadata": {},
     "outputs": []
    },
    {
     "cell_type": "heading",
     "level": 4,
     "metadata": {},
     "source": [
      "Aside"
     ]
    },
    {
     "cell_type": "markdown",
     "metadata": {},
     "source": [
      "* **Binomial distribution**\n",
      "  * Discrete distribution of the number of successes in a sequence of $n$ trials with a binary outcome with $P(x_i=1)=p$\n",
      "  * So it has parameters $n$ and $p$\n",
      "  * Example: fair coin toss, $p=.5$\n",
      "* **Multinomial distribution**\n",
      "  * Multivariate generalization of the binomial distribution\n",
      "  * $n$ independent trials each of which has $k$ possible outcomes with probability $P(x_i=j)=p_j$ for outcome $j$\n",
      "  * So it has parameters $n$ and $\\boldsymbol{p}$ where $\\boldsymbol{p}=(p_1,\\dots,p_k)$\n",
      "  * Example: fair dice roll, $k=6$ and $p=(1/6,1/6,1/6,1/6,1/6,1/6)$"
     ]
    },
    {
     "cell_type": "code",
     "collapsed": false,
     "input": [
      "sides = np.arange(1,7.)"
     ],
     "language": "python",
     "metadata": {},
     "outputs": []
    },
    {
     "cell_type": "code",
     "collapsed": false,
     "input": [
      "np.random.seed(12345)"
     ],
     "language": "python",
     "metadata": {},
     "outputs": []
    },
    {
     "cell_type": "code",
     "collapsed": false,
     "input": [
      "roll = np.random.multinomial(4, odd_dice)"
     ],
     "language": "python",
     "metadata": {},
     "outputs": []
    },
    {
     "cell_type": "code",
     "collapsed": false,
     "input": [
      "print roll"
     ],
     "language": "python",
     "metadata": {},
     "outputs": []
    },
    {
     "cell_type": "code",
     "collapsed": false,
     "input": [
      "print \"Mean: %2.4f\" % (np.sum(roll*sides)/4.)"
     ],
     "language": "python",
     "metadata": {},
     "outputs": []
    },
    {
     "cell_type": "code",
     "collapsed": false,
     "input": [
      "roll = np.random.multinomial(4, odd_dice)\n",
      "print \"Roll: %s\" % roll\n",
      "print \"Mean: %2.4f\" % (np.sum(roll*sides)/4)"
     ],
     "language": "python",
     "metadata": {},
     "outputs": []
    },
    {
     "cell_type": "code",
     "collapsed": false,
     "input": [
      "roll = np.random.multinomial(4, odd_dice)\n",
      "print \"Roll: %s\" % roll\n",
      "print \"Mean: %2.4f\" % (np.sum(roll*sides)/4)"
     ],
     "language": "python",
     "metadata": {},
     "outputs": []
    },
    {
     "cell_type": "code",
     "collapsed": false,
     "input": [
      "roll = np.random.multinomial(4, odd_dice)\n",
      "print \"Roll: %s\" % roll\n",
      "print \"Mean: %2.4f\" % (np.sum(roll*sides)/4)"
     ],
     "language": "python",
     "metadata": {},
     "outputs": []
    },
    {
     "cell_type": "code",
     "collapsed": false,
     "input": [
      "roll10000 = np.random.multinomial(4, odd_dice,\n",
      "                                  size=10000)"
     ],
     "language": "python",
     "metadata": {},
     "outputs": []
    },
    {
     "cell_type": "code",
     "collapsed": false,
     "input": [
      "means = np.sum(roll10000 * sides, axis=1)/4."
     ],
     "language": "python",
     "metadata": {},
     "outputs": []
    },
    {
     "cell_type": "code",
     "collapsed": false,
     "input": [
      "fig, ax = plt.subplots()\n",
      "#n, bins, patches = ax.hist(means, bins=np.arange(1, 7, .2), normed=True)\n",
      "n, bins, patches = ax.hist(means, bins=11, normed=True)\n",
      "ax.set_xlim(0,7)\n",
      "ax.set_ylim(0,.5);"
     ],
     "language": "python",
     "metadata": {},
     "outputs": []
    },
    {
     "cell_type": "code",
     "collapsed": false,
     "input": [
      "roll10000 = np.random.multinomial(20, odd_dice, \n",
      "                                  size=10000)\n",
      "means = np.sum(roll10000 * sides, axis=1)/20."
     ],
     "language": "python",
     "metadata": {},
     "outputs": []
    },
    {
     "cell_type": "code",
     "collapsed": false,
     "input": [
      "fig, ax = plt.subplots()\n",
      "pdf, bins, patches = ax.hist(means, bins=23, normed=True)\n",
      "ax.set_xlim(1.5, 5.5);"
     ],
     "language": "python",
     "metadata": {},
     "outputs": []
    },
    {
     "cell_type": "code",
     "collapsed": false,
     "input": [
      "roll10000 = np.random.multinomial(30, odd_dice, \n",
      "                                  size=10000)\n",
      "means = np.sum(roll10000 * sides, axis=1)/30."
     ],
     "language": "python",
     "metadata": {},
     "outputs": []
    },
    {
     "cell_type": "code",
     "collapsed": false,
     "input": [
      "fig, ax = plt.subplots()\n",
      "n, bins, patches = ax.hist(means, bins=100, normed=True)"
     ],
     "language": "python",
     "metadata": {},
     "outputs": []
    },
    {
     "cell_type": "markdown",
     "metadata": {},
     "source": [
      "* This remarkable fact is what makes the Normal distribution so ubiquitous\n",
      "* Even when we do not know the underlying probability distribution, we can use the Normal distribution for **statistical inference**\n",
      "* Statistical inference allows us to draw conclusions from random data\n",
      "  * For example, given an observed mean of 1.5 from a single sample of 20 dice rolls, we can ask how likely is it that this observation came from a fair die?"
     ]
    },
    {
     "cell_type": "heading",
     "level": 4,
     "metadata": {},
     "source": [
      "Uniform Distribution"
     ]
    },
    {
     "cell_type": "markdown",
     "metadata": {},
     "source": [
      "* $U(a,b)$ - has parameters $a$ and $b$\n",
      "* both continuous and discrete versions\n",
      "* used often in simulation experiments\n",
      "* can be used to sample from arbitrary distributions (more later)"
     ]
    },
    {
     "cell_type": "code",
     "collapsed": false,
     "input": [
      "fig, ax = plt.subplots()\n",
      "ax.plot((0,1), (1,1))\n",
      "ax.vlines(0, 0, 1, linestyle='--', color='b')\n",
      "ax.vlines(1, 0, 1, linestyle='--', color='b')\n",
      "ax.set_ylim(0,2)\n",
      "ax.set_xlim(-.5, 1.5)\n",
      "ax.set_title(\"Continuous Uniform PDF\")\n",
      "ax.set_yticks([1])\n",
      "ax.set_yticklabels([\"1/(b-a)\"], fontsize=\"x-large\")\n",
      "ax.set_xticks([0,1])\n",
      "ax.set_xticklabels([\"a\", \"b\"], fontsize=\"x-large\");\n",
      "ax.grid(False);"
     ],
     "language": "python",
     "metadata": {},
     "outputs": []
    },
    {
     "cell_type": "heading",
     "level": 4,
     "metadata": {},
     "source": [
      "Student's t distribution"
     ]
    },
    {
     "cell_type": "markdown",
     "metadata": {},
     "source": [
      "* Fun fact - derivation published under pseudonym Student by worker at Guinness Brewery in Dublin. They were using a \"t-test\" to test quality of raw materials.\n",
      "* Continuous distribution\n",
      "* Has one parameter $\\upsilon$ - degrees of freedom\n",
      "* Very similar to Normal distribution but it has fatter \"tails\" - i.e., it's lower and wider\n",
      "* Approaches normal distribution as $\\upsilon\\rightarrow\\infty$\n",
      "* Often used for inference on sample statistics when the population statistics are not known to account for extra uncertainty\n",
      "* Many sample distribution statistics have a t-distribution for moderate sample sizes"
     ]
    },
    {
     "cell_type": "code",
     "collapsed": false,
     "input": [
      "fig, axes = plt.subplots(nrows=2, ncols=1, figsize=(10,10))\n",
      "t_dist1 = stats.t(1)\n",
      "x = -np.linspace(-5, 5, 1000)\n",
      "axes[0].plot(x, t_dist1.pdf(x), 'r', label=\"Student's t with $\\upsilon=1$\")\n",
      "axes[0].plot(x, stats.norm.pdf(x), 'b', label=\"N(0,1)\")\n",
      "axes[0].legend()\n",
      "\n",
      "t_dist30 = stats.t(10)\n",
      "axes[1].plot(x, t_dist30.pdf(x), 'r', label=\"Student's t with $\\upsilon=10$\")\n",
      "axes[1].plot(x, stats.norm.pdf(x), 'b', label=\"N(0,1)\")\n",
      "axes[1].legend();"
     ],
     "language": "python",
     "metadata": {},
     "outputs": []
    },
    {
     "cell_type": "heading",
     "level": 4,
     "metadata": {},
     "source": [
      "Poisson Distribution"
     ]
    },
    {
     "cell_type": "markdown",
     "metadata": {},
     "source": [
      "* Discrete distribution\n",
      "* Has one parameter $\\lambda>0$\n",
      "* Often used to model counts - \"arrivals\" that take place in a given time interval\n",
      "  * Number of requests to a server\n",
      "  * Number of loan defaults\n",
      "  * Number of mutations in a strand of DNA\n",
      "  * Number of soldiers in the Prussian army killed accidentally by horse kick"
     ]
    },
    {
     "cell_type": "code",
     "collapsed": false,
     "input": [
      "fig, ax = plt.subplots(figsize=(8,6))\n",
      "x = np.arange(21)\n",
      "ax.plot(x, stats.poisson(1).pmf(x), 'y', marker=\"o\", label=\"$\\lambda=1$\")\n",
      "ax.plot(x, stats.poisson(4).pmf(x), 'b', marker=\"o\", label=\"$\\lambda=4$\")\n",
      "ax.plot(x, stats.poisson(10).pmf(x), 'r', marker=\"o\", label=\"$\\lambda=10$\")\n",
      "ax.set_xlim(-.5, 20.5)\n",
      "ax.set_ylim(-.05, .45)\n",
      "ax.legend(numpoints=1);"
     ],
     "language": "python",
     "metadata": {},
     "outputs": []
    },
    {
     "cell_type": "heading",
     "level": 4,
     "metadata": {},
     "source": [
      "Exponential Distribution"
     ]
    },
    {
     "cell_type": "markdown",
     "metadata": {},
     "source": [
      "* continuous distribution\n",
      "* Has one parameter $\\lambda>0$ often called a \"rate\"\n",
      "* Defined for positive numbers. We say it has a **support** of $X\\in[0,\\infty)$\n",
      "* Often used to model lengths of arrival times of a Poisson process. For example,\n",
      "  * Time until next radioactive decay\n",
      "  * Time until a server is hit by a request\n",
      "  * Time until default on a loan payment"
     ]
    },
    {
     "cell_type": "code",
     "collapsed": false,
     "input": [
      "x = np.linspace(0.0000001, 5, 1000)\n",
      "fig, ax = plt.subplots(figsize=(8,6))\n",
      "ax.plot(x, stats.expon(scale=1/.5).pdf(x), 'b', lw=3, label=\"$\\lambda=.5$\")\n",
      "ax.plot(x, stats.expon(scale=1.).pdf(x), 'r', lw=3, label=\"$\\lambda=1$\")\n",
      "ax.plot(x, stats.expon(scale=1/1.5).pdf(x), 'g', lw=3, label=\"$\\lambda=1.5$\")\n",
      "#ax.set_title(\"Poisson - Probability Mass Function\")\n",
      "ax.legend();"
     ],
     "language": "python",
     "metadata": {},
     "outputs": []
    },
    {
     "cell_type": "heading",
     "level": 4,
     "metadata": {},
     "source": [
      "Other common distributions"
     ]
    },
    {
     "cell_type": "markdown",
     "metadata": {},
     "source": [
      "* [Multivariate normal](http://en.wikipedia.org/wiki/Multivariate_normal_distribution)\n",
      "  * multivariate generalization of Normal\n",
      "* [logistic distribution](http://en.wikipedia.org/wiki/Logistic_distribution)\n",
      "  *continuous\n",
      "  * similar to Normal\n",
      "  * heavier tails\n",
      "  * used often in discrete choice regression models\n",
      "* [$\\chi^2$-distribution](http://en.wikipedia.org/wiki/Chi-squared_distribution)\n",
      "  * continuous\n",
      "  * distribution of the sum of the squares of $k$ indendepent normal distributions\n",
      "  * widely used in statistical inference\n",
      "* [F-distribution](http://en.wikipedia.org/wiki/F-distribution)\n",
      "  * continuous\n",
      "  * ratio of two independent $\\chi^2$-distributions\n",
      "* [log-normal distribution](http://en.wikipedia.org/wiki/Log-normal_distribution)\n",
      "  * continuous\n",
      "  * support - $X\\in[0,\\infty)$\n",
      "  * distribution of a variable whose logarithm is normally distributed\n",
      "  * often used, for example, for stock price returns in finance\n",
      "* [Pareto distribution](http://en.wikipedia.org/wiki/Pareto_distribution)\n",
      "  * continuous\n",
      "  * an example of a [Power law distribution](http://en.wikipedia.org/wiki/Power_law#Power-law_probability_distributions)\n",
      "  * used to model \"heavy tails\" or \"extreme events\"\n",
      "    * wealth inequality - few have much\n",
      "    * city sizes - few cities, many villages\n",
      "    * file size of TCP traffic - many small files, few large ones \n",
      "    * maximum rainfall days\n",
      "* [Binomial distribution](http://en.wikipedia.org/wiki/Binomial_distribution) - discussed above\n",
      "* [Multinomial distribution](http://en.wikipedia.org/wiki/Multinomial_distribution) - discussed above\n",
      "* [Bernoulli distribution](http://en.wikipedia.org/wiki/Bernoulli_distribution) - same as binomial for the number of trials $n=1$.\n",
      "* [Negative binomial distribution](http://en.wikipedia.org/wiki/Negative_binomial_distribution)\n",
      "  * discrete\n",
      "  * support $x\\in{0,1,2,3,\\dots}$\n",
      "  * Similar to Poisson but allows mean and variance to be different\n",
      "* [Beta distribution](http://en.wikipedia.org/wiki/Beta_distribution)\n",
      "  * continuous\n",
      "  * support - $X\\in[0,1]$\n",
      "  * used in wavelet analysis\n",
      "  * used in Bayesian statistics\n",
      "* [Dirichlet distribution](http://en.wikipedia.org/wiki/Dirichlet_distribution)\n",
      "  * multivariate generalization of Beta\n",
      "  * used in Bayesian statistics"
     ]
    },
    {
     "cell_type": "heading",
     "level": 4,
     "metadata": {},
     "source": [
      "Generating Random Numbers"
     ]
    },
    {
     "cell_type": "markdown",
     "metadata": {},
     "source": [
      "* using `numpy`\n",
      "* `numpy` provides many distributions in `numpy.random`"
     ]
    },
    {
     "cell_type": "code",
     "collapsed": false,
     "input": [
      "from numpy.random import mtrand"
     ],
     "language": "python",
     "metadata": {},
     "outputs": []
    },
    {
     "cell_type": "markdown",
     "metadata": {},
     "source": [
      "Uniform [0,1)"
     ]
    },
    {
     "cell_type": "code",
     "collapsed": false,
     "input": [
      "np.random.rand(3, 2)"
     ],
     "language": "python",
     "metadata": {},
     "outputs": []
    },
    {
     "cell_type": "code",
     "collapsed": false,
     "input": [
      "np.random.random((3, 2))"
     ],
     "language": "python",
     "metadata": {},
     "outputs": []
    },
    {
     "cell_type": "code",
     "collapsed": false,
     "input": [
      "np.random.random_sample((3, 2))"
     ],
     "language": "python",
     "metadata": {},
     "outputs": []
    },
    {
     "cell_type": "code",
     "collapsed": false,
     "input": [
      "np.random.sample((3,2))"
     ],
     "language": "python",
     "metadata": {},
     "outputs": []
    },
    {
     "cell_type": "code",
     "collapsed": false,
     "input": [
      "np.random.ranf((3,2))"
     ],
     "language": "python",
     "metadata": {},
     "outputs": []
    },
    {
     "cell_type": "markdown",
     "metadata": {},
     "source": [
      "Uniform [a,b)"
     ]
    },
    {
     "cell_type": "code",
     "collapsed": false,
     "input": [
      "np.random.randint(0, 4, size=(3,2))"
     ],
     "language": "python",
     "metadata": {},
     "outputs": []
    },
    {
     "cell_type": "code",
     "collapsed": false,
     "input": [
      "np.random.random_integers(0, 4, size=(3,2))"
     ],
     "language": "python",
     "metadata": {},
     "outputs": []
    },
    {
     "cell_type": "markdown",
     "metadata": {},
     "source": [
      "Standard Normal - N(0,1)"
     ]
    },
    {
     "cell_type": "code",
     "collapsed": false,
     "input": [
      "np.random.randn(3, 2)"
     ],
     "language": "python",
     "metadata": {},
     "outputs": []
    },
    {
     "cell_type": "code",
     "collapsed": false,
     "input": [
      "np.random.standard_normal((3,2))"
     ],
     "language": "python",
     "metadata": {},
     "outputs": []
    },
    {
     "cell_type": "code",
     "collapsed": false,
     "input": [
      "np.random.normal(size=(3,2))"
     ],
     "language": "python",
     "metadata": {},
     "outputs": []
    },
    {
     "cell_type": "markdown",
     "metadata": {},
     "source": [
      "Normal - N(mu, var)"
     ]
    },
    {
     "cell_type": "code",
     "collapsed": false,
     "input": [
      "np.random.normal(3, 5**.5, size=(3,2))"
     ],
     "language": "python",
     "metadata": {},
     "outputs": []
    },
    {
     "cell_type": "code",
     "collapsed": false,
     "input": [
      "np.random.normal(3, 5**.5, size=1000).mean()"
     ],
     "language": "python",
     "metadata": {},
     "outputs": []
    },
    {
     "cell_type": "code",
     "collapsed": false,
     "input": [
      "np.random.normal(3, 5**.5, size=1000).var()"
     ],
     "language": "python",
     "metadata": {},
     "outputs": []
    },
    {
     "cell_type": "markdown",
     "metadata": {},
     "source": [
      "Binomial - Coin Toss - Binom(.5)"
     ]
    },
    {
     "cell_type": "code",
     "collapsed": false,
     "input": [
      "np.random.binomial(25, .5) # number of successes"
     ],
     "language": "python",
     "metadata": {},
     "outputs": []
    },
    {
     "cell_type": "markdown",
     "metadata": {},
     "source": [
      "Repeated Bernoulli - 25 samples from Binom(.5)"
     ]
    },
    {
     "cell_type": "code",
     "collapsed": false,
     "input": [
      "np.random.binomial(1, .5, size=25)"
     ],
     "language": "python",
     "metadata": {},
     "outputs": []
    },
    {
     "cell_type": "markdown",
     "metadata": {},
     "source": [
      "Fair dice roll"
     ]
    },
    {
     "cell_type": "code",
     "collapsed": false,
     "input": [
      "np.random.random_integers(1, 6, size=50)"
     ],
     "language": "python",
     "metadata": {},
     "outputs": []
    },
    {
     "cell_type": "code",
     "collapsed": false,
     "input": [
      "np.random.random_integers(1, 6, size=50).astype(float)"
     ],
     "language": "python",
     "metadata": {},
     "outputs": []
    },
    {
     "cell_type": "markdown",
     "metadata": {},
     "source": [
      "There are many more including\n",
      "\n",
      "* beta\n",
      "* multinomial\n",
      "* gamma\n",
      "* dirichlet\n",
      "* chisquare\n",
      "* expon\n",
      "* f\n",
      "* lognorm\n",
      "* and more"
     ]
    },
    {
     "cell_type": "heading",
     "level": 4,
     "metadata": {},
     "source": [
      "scipy.stats"
     ]
    },
    {
     "cell_type": "markdown",
     "metadata": {},
     "source": [
      "If you can't find the distribution you need in `numpy.random` or you want to do more than generate random variables, use `scipy.stats`"
     ]
    },
    {
     "cell_type": "code",
     "collapsed": false,
     "input": [
      "from scipy import stats"
     ],
     "language": "python",
     "metadata": {},
     "outputs": []
    },
    {
     "cell_type": "markdown",
     "metadata": {},
     "source": [
      "You can find the available [discrete distributions](http://docs.scipy.org/doc/scipy/reference/tutorial/stats/discrete.html#discrete-random-variables) and [continuous distributions](http://docs.scipy.org/doc/scipy/reference/tutorial/stats/continuous.html#continuous-random-variables) in the documentation. There is a [tutorial on the stats module](http://docs.scipy.org/doc/scipy/reference/tutorial/stats.html) as well. Some of which will be covered here as needed."
     ]
    },
    {
     "cell_type": "markdown",
     "metadata": {},
     "source": [
      "For the below examples, we will use the following distribtion"
     ]
    },
    {
     "cell_type": "code",
     "collapsed": false,
     "input": [
      "t_dist = stats.t(5)"
     ],
     "language": "python",
     "metadata": {},
     "outputs": []
    },
    {
     "cell_type": "markdown",
     "metadata": {},
     "source": [
      "`t_dist` is what is called a *frozen distribution* (this is just scipy parlance). It is \"frozen\" with the argument 5. This argument is the degrees of freedom parameter needed to form a Student's t Distribution."
     ]
    },
    {
     "cell_type": "markdown",
     "metadata": {},
     "source": [
      "If we had forgotten that `t` takes an argument, we can check."
     ]
    },
    {
     "cell_type": "code",
     "collapsed": false,
     "input": [
      "stats.t.numargs"
     ],
     "language": "python",
     "metadata": {},
     "outputs": []
    },
    {
     "cell_type": "markdown",
     "metadata": {},
     "source": [
      "Each distribution also takes an optional `loc` and `scale` parameter keywords. The defaults are 0 and 1. We won't cover much more about this now. If interested go read about [scale parameters](http://en.wikipedia.org/wiki/Scale_parameter) or take a stats class."
     ]
    },
    {
     "cell_type": "heading",
     "level": 4,
     "metadata": {},
     "source": [
      "Random Number Generation"
     ]
    },
    {
     "cell_type": "markdown",
     "metadata": {},
     "source": [
      "We can generate random numbers from any of the distributions."
     ]
    },
    {
     "cell_type": "code",
     "collapsed": false,
     "input": [
      "t_dist.rvs(size=5)"
     ],
     "language": "python",
     "metadata": {},
     "outputs": []
    },
    {
     "cell_type": "heading",
     "level": 4,
     "metadata": {},
     "source": [
      "Probability Density (Mass) Function"
     ]
    },
    {
     "cell_type": "markdown",
     "metadata": {},
     "source": [
      "We can calculate the PDF (PMF) using the `pdf` `(pmf)`"
     ]
    },
    {
     "cell_type": "code",
     "collapsed": false,
     "input": [
      "x = np.linspace(-5, 5, 1000)\n",
      "pdf_x = t_dist.pdf(x)\n",
      "\n",
      "fig, ax = plt.subplots(figsize=(8,6))\n",
      "ax.plot(x, pdf_x);"
     ],
     "language": "python",
     "metadata": {},
     "outputs": []
    },
    {
     "cell_type": "heading",
     "level": 4,
     "metadata": {},
     "source": [
      "Cumulative Density Function"
     ]
    },
    {
     "cell_type": "markdown",
     "metadata": {},
     "source": [
      "Likewise the CDF"
     ]
    },
    {
     "cell_type": "code",
     "collapsed": false,
     "input": [
      "x = np.linspace(-5, 5, 1000)\n",
      "cdf_x = t_dist.cdf(x)\n",
      "\n",
      "fig, ax = plt.subplots(figsize=(8,6))\n",
      "ax.plot(x, cdf_x);"
     ],
     "language": "python",
     "metadata": {},
     "outputs": []
    },
    {
     "cell_type": "heading",
     "level": 4,
     "metadata": {},
     "source": [
      "Percent Point Function (Inverse CDF)"
     ]
    },
    {
     "cell_type": "markdown",
     "metadata": {},
     "source": [
      "* as we discussed above, we might be interested in the inverse CDF also known as the percent point function or inverse distribution function.\n",
      "* since the CDF tell us the probability that a variable is below a given point\n",
      "* for the inverse, we start with the probability and corresponding point on the CDF\n",
      "* you can think of it like an upper bound on a variable"
     ]
    },
    {
     "cell_type": "code",
     "collapsed": false,
     "input": [
      "x_percent = np.linspace(0, 1, 100)\n",
      "icdf = t_dist.ppf(x_percent)\n",
      "\n",
      "fig, ax = plt.subplots(figsize=(8,6))\n",
      "ax.plot(x_percent, icdf);"
     ],
     "language": "python",
     "metadata": {},
     "outputs": []
    },
    {
     "cell_type": "heading",
     "level": 4,
     "metadata": {},
     "source": [
      "Survival Function"
     ]
    },
    {
     "cell_type": "markdown",
     "metadata": {},
     "source": [
      "* The survival function, as the name suggests, can tell us the probability an entity has survived\n",
      "* Assume that $Pr(X < x)=F(x)$ gives the probability that a failure event has happened at a given point\n",
      "* The probability that a failure has not occurred is $Pr(X > x) = 1 - F(x)$\n",
      "* Why not just use 1 - CDF(X)? Survivor function can be better behaved in the tails."
     ]
    },
    {
     "cell_type": "code",
     "collapsed": false,
     "input": [
      "sf_x = t_dist.sf(x)\n",
      "\n",
      "fig, ax = plt.subplots(figsize=(8,6))\n",
      "ax.plot(x, sf_x);"
     ],
     "language": "python",
     "metadata": {},
     "outputs": []
    },
    {
     "cell_type": "heading",
     "level": 4,
     "metadata": {},
     "source": [
      "Inverse Survival Function"
     ]
    },
    {
     "cell_type": "markdown",
     "metadata": {},
     "source": [
      "* like the inverse CDF, the inverse survival function gives the value of the survival function for a given percentage"
     ]
    },
    {
     "cell_type": "code",
     "collapsed": false,
     "input": [
      "isf_x = t_dist.isf(x)\n",
      "\n",
      "fig, ax = plt.subplots(figsize=(8,6))\n",
      "ax.plot(x, isf_x);"
     ],
     "language": "python",
     "metadata": {},
     "outputs": []
    },
    {
     "cell_type": "heading",
     "level": 4,
     "metadata": {},
     "source": [
      "Entropy"
     ]
    },
    {
     "cell_type": "markdown",
     "metadata": {},
     "source": [
      "* Information Theory gives us the concept of Shannon's entropy\n",
      "* A measure of uncertainty in a given variable\n",
      "  - For example, the uniform is the distribution of maximum entropy\n",
      "* Shannon used entropy to calculate the bounds of lossless compression in communications while working for AT&T\n",
      "$$-\\int_{-\\infty}^{\\infty}f(x)\\log(f(x))dx$$\n",
      "\n",
      "or \n",
      "\n",
      "$$-\\sum_{i=1}^Np_i\\log(p_i)$$"
     ]
    },
    {
     "cell_type": "code",
     "collapsed": false,
     "input": [
      "t_dist.entropy()"
     ],
     "language": "python",
     "metadata": {},
     "outputs": []
    },
    {
     "cell_type": "heading",
     "level": 4,
     "metadata": {},
     "source": [
      "Stats"
     ]
    },
    {
     "cell_type": "markdown",
     "metadata": {},
     "source": [
      "Stats provides the mean and variance, and, optionally, (Fisher's) skew and (Fisher's) kurtosis"
     ]
    },
    {
     "cell_type": "code",
     "collapsed": false,
     "input": [
      "t_dist.stats()"
     ],
     "language": "python",
     "metadata": {},
     "outputs": []
    },
    {
     "cell_type": "code",
     "collapsed": false,
     "input": [
      "t_dist.stats(moments=\"mvsk\")"
     ],
     "language": "python",
     "metadata": {},
     "outputs": []
    },
    {
     "cell_type": "code",
     "collapsed": false,
     "input": [
      "stats.norm.moment(4)"
     ],
     "language": "python",
     "metadata": {},
     "outputs": []
    },
    {
     "cell_type": "heading",
     "level": 4,
     "metadata": {},
     "source": [
      "Moments"
     ]
    },
    {
     "cell_type": "markdown",
     "metadata": {},
     "source": [
      "Moments gives us the non-central moments of the distribution."
     ]
    },
    {
     "cell_type": "code",
     "collapsed": false,
     "input": [
      "t_dist.moment(2)"
     ],
     "language": "python",
     "metadata": {},
     "outputs": []
    },
    {
     "cell_type": "heading",
     "level": 4,
     "metadata": {},
     "source": [
      "PyMC"
     ]
    },
    {
     "cell_type": "markdown",
     "metadata": {},
     "source": [
      "If you still can't find the distribution you need, you can find some more exotic distributions that are used in Bayesian statistics in the [PyMC package](http://pymc-devs.github.com/pymc/#)."
     ]
    }
   ],
   "metadata": {}
  }
 ]
}
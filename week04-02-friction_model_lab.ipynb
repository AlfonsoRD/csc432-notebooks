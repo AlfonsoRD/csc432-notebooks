{
 "metadata": {
  "name": "friction_model_ball"
 },
 "nbformat": 3,
 "nbformat_minor": 0,
 "worksheets": [
  {
   "cells": [
    {
     "cell_type": "code",
     "collapsed": false,
     "input": [
      "import numpy as np\n",
      "from scipy import integrate\n",
      "import matplotlib.pyplot as plt"
     ],
     "language": "python",
     "metadata": {},
     "outputs": []
    },
    {
     "cell_type": "heading",
     "level": 3,
     "metadata": {},
     "source": [
      "Set up the variables"
     ]
    },
    {
     "cell_type": "code",
     "collapsed": false,
     "input": [
      "# ordinary variables\n",
      "accel_grav = -9.81 # meters / sec**2\n",
      "radius = .05 # meters\n",
      "mass = .5 # kg\n",
      "\n",
      "# derived variables\n",
      "weight = mass * accel_grav\n",
      "projected_area = np.pi * radius**2\n",
      "\n",
      "# time grid for simulation\n",
      "t0, t_end = 0, 15 # seconds\n",
      "dt = .1\n",
      "time_grid = np.arange(t0, t_end, dt)\n",
      "\n",
      "# the rest are defined in relation to flows only"
     ],
     "language": "python",
     "metadata": {},
     "outputs": []
    },
    {
     "cell_type": "heading",
     "level": 3,
     "metadata": {},
     "source": [
      "Solve with ODE Integrator"
     ]
    },
    {
     "cell_type": "code",
     "collapsed": false,
     "input": [
      "def differentials(pos_vel, t, projected_area, weight, mass):\n",
      "    # unpack the arguments\n",
      "    position, velocity = pos_vel\n",
      "    \n",
      "    # get the change in velocity\n",
      "    air_friction = -.65 * projected_area * velocity * np.abs(velocity)\n",
      "    total_force = weight + air_friction\n",
      "    acceleration = total_force / mass\n",
      "    \n",
      "    # change in position is velocity, \n",
      "    # change in velocity is acceleration\n",
      "    return [velocity, acceleration]\n",
      "\n",
      "# compute flows\n",
      "\n",
      "results = integrate.odeint(differentials, [400, 0], time_grid, \n",
      "                            args=(projected_area, weight, mass),\n",
      "                            full_output=True)"
     ],
     "language": "python",
     "metadata": {},
     "outputs": []
    },
    {
     "cell_type": "code",
     "collapsed": false,
     "input": [
      "fig, ax = plt.subplots(subplot_kw=dict(xlabel=\"t\"),\n",
      "            figsize=(10,6))\n",
      "pos = ax.plot(time_grid, results[0][:,0], 'k-', label=\"position\",\n",
      "              lw=2)\n",
      "ax.grid(False)\n",
      "ax.set_xlim(0, 15)\n",
      "\n",
      "# create a second y-axis for the different scale of position\n",
      "ax2 = ax.twinx()\n",
      "vel = ax2.plot(time_grid, np.abs(results[0][:,1]), \n",
      "               'k--', label=\"speed\", lw=2)\n",
      "ax2.grid(False)\n",
      "lines = pos + vel\n",
      "labels = [line.get_label() for line in lines]\n",
      "ax2.set_ylim(0, 36)\n",
      "ax2.legend(lines, labels);"
     ],
     "language": "python",
     "metadata": {},
     "outputs": []
    },
    {
     "cell_type": "heading",
     "level": 3,
     "metadata": {},
     "source": [
      "Solve with a Loop"
     ]
    },
    {
     "cell_type": "code",
     "collapsed": false,
     "input": [
      "# stock variables\n",
      "velocity = np.zeros_like(time_grid)\n",
      "position = np.zeros_like(time_grid)\n",
      "velocity[0] = 0\n",
      "position[0] = 400 # meters\n",
      "\n",
      "# compute flows\n",
      "\n",
      "for i in range(len(time_grid)-1):        \n",
      "    air_friction = -.65 * projected_area * velocity[i] * np.abs(velocity[i])\n",
      "    total_force = weight + air_friction\n",
      "    change_velocity = total_force / mass\n",
      "    velocity[i+1] = velocity[i] + change_velocity * dt\n",
      "    position[i+1] = position[i] + velocity[i] * dt"
     ],
     "language": "python",
     "metadata": {},
     "outputs": []
    },
    {
     "cell_type": "code",
     "collapsed": false,
     "input": [
      "fig, ax = plt.subplots(subplot_kw=dict(xlabel=\"t\"),\n",
      "                       figsize=(10,6))\n",
      "pos = ax.plot(time_grid, position, 'k-', label=\"position\",\n",
      "              lw=2)\n",
      "ax.grid(False)\n",
      "ax.set_xlim(0, 15)\n",
      "\n",
      "# create a second y-axis for the different scale of position\n",
      "ax2 = ax.twinx()\n",
      "vel = ax2.plot(time_grid, np.abs(velocity), \n",
      "               'k--', label=\"speed\", lw=2)\n",
      "ax2.grid(False)\n",
      "lines = pos + vel\n",
      "labels = [line.get_label() for line in lines]\n",
      "ax2.set_ylim(0, 36)\n",
      "ax2.legend(lines, labels);"
     ],
     "language": "python",
     "metadata": {},
     "outputs": []
    }
   ],
   "metadata": {}
  }
 ]
}
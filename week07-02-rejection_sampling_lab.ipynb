{
 "metadata": {
  "name": "rejection_sampling"
 },
 "nbformat": 3,
 "nbformat_minor": 0,
 "worksheets": [
  {
   "cells": [
    {
     "cell_type": "code",
     "collapsed": false,
     "input": [
      "import numpy as np\n",
      "import matplotlib.pyplot as plt\n",
      "np.random.seed(12345)"
     ],
     "language": "python",
     "metadata": {},
     "outputs": []
    },
    {
     "cell_type": "code",
     "collapsed": false,
     "input": [
      "def func(x):\n",
      "    return np.sqrt(np.cos(x)**2+1)"
     ],
     "language": "python",
     "metadata": {},
     "outputs": []
    },
    {
     "cell_type": "code",
     "collapsed": false,
     "input": [
      "num_darts = 1000\n",
      "xbounds = [0,2]\n",
      "random_x = np.random.uniform(*xbounds, size=num_darts)\n",
      "                             \n",
      "ybounds = [0, 1.5]\n",
      "random_y = np.random.uniform(*ybounds, size=num_darts)"
     ],
     "language": "python",
     "metadata": {},
     "outputs": []
    },
    {
     "cell_type": "code",
     "collapsed": false,
     "input": [
      "x = np.linspace(0, 2, num_darts)"
     ],
     "language": "python",
     "metadata": {},
     "outputs": []
    },
    {
     "cell_type": "code",
     "collapsed": false,
     "input": [
      "y_hat = func(random_x)"
     ],
     "language": "python",
     "metadata": {},
     "outputs": []
    },
    {
     "cell_type": "code",
     "collapsed": false,
     "input": [
      "y_below = random_y < y_hat"
     ],
     "language": "python",
     "metadata": {},
     "outputs": []
    },
    {
     "cell_type": "code",
     "collapsed": false,
     "input": [
      "fig, ax = plt.subplots(figsize=(8,6))\n",
      "ax.plot(random_x[~y_below], random_y[~y_below], \"ko\", alpha=.5)\n",
      "ax.plot(random_x[y_below], random_y[y_below], \"ro\", alpha=.5)\n",
      "ax.plot(x, func(x), lw=3)\n",
      "ax.hlines(1.5, 0, 2, lw=3)\n",
      "ax.set_ylim(0, 1.6)\n",
      "ax.set_xlim(0, 2);"
     ],
     "language": "python",
     "metadata": {},
     "outputs": []
    },
    {
     "cell_type": "code",
     "collapsed": false,
     "input": [
      "below_mean = y_below.mean()\n",
      "print below_mean"
     ],
     "language": "python",
     "metadata": {},
     "outputs": []
    },
    {
     "cell_type": "code",
     "collapsed": false,
     "input": [
      "area = np.diff(xbounds)*np.diff(ybounds)*below_mean"
     ],
     "language": "python",
     "metadata": {},
     "outputs": []
    },
    {
     "cell_type": "code",
     "collapsed": false,
     "input": [
      "print area"
     ],
     "language": "python",
     "metadata": {},
     "outputs": []
    },
    {
     "cell_type": "heading",
     "level": 4,
     "metadata": {},
     "source": [
      "Measure of Quality"
     ]
    },
    {
     "cell_type": "markdown",
     "metadata": {},
     "source": [
      "* we could obtain better estimates by\n",
      "  - throwing a larger number of darts\n",
      "  - repeating the analysis several times\n",
      "* the latter enables us to use the **standard deviation** of the estimates as a measure of quality (or uncertainty) of the overall estimate\n",
      "* 68.3% of observations are within $\\pm\\sigma$"
     ]
    },
    {
     "cell_type": "markdown",
     "metadata": {},
     "source": [
      "**Aside**\n",
      "\n",
      "Recall that if you did not know this you could calculate it.\n",
      "$$P(a < x < b) + F(b)-F(a)$$\n",
      "$$P(-\\sigma < x < \\sigma) + F(\\sigma)-F(-\\sigma)$$\n",
      "\n",
      "* From the Central Limit Theorem, we know that the mean will be distributed normally as the number of samples is large. \n",
      "* We know that the standard deviation of the standard normal is 1."
     ]
    },
    {
     "cell_type": "code",
     "collapsed": false,
     "input": [
      "from scipy import stats\n",
      "prob_in_interval = stats.norm.cdf(1) - stats.norm.cdf(-1)"
     ],
     "language": "python",
     "metadata": {},
     "outputs": []
    },
    {
     "cell_type": "code",
     "collapsed": false,
     "input": [
      "print \"%2.1f%%\" % (prob_in_interval*100)"
     ],
     "language": "python",
     "metadata": {},
     "outputs": []
    },
    {
     "cell_type": "heading",
     "level": 4,
     "metadata": {},
     "source": [
      "Repeated Monte Carlo"
     ]
    },
    {
     "cell_type": "code",
     "collapsed": false,
     "input": [
      "def calc_area(true_func, xbounds, ybounds, num_darts):\n",
      "    random_x = np.random.uniform(*xbounds, size=num_darts)\n",
      "    random_y = np.random.uniform(*ybounds, size=num_darts)\n",
      "    y_hat = true_func(random_x)\n",
      "    below_mean = (random_y < y_hat).mean()\n",
      "    area = np.diff(xbounds)*np.diff(ybounds)*below_mean\n",
      "    return area"
     ],
     "language": "python",
     "metadata": {},
     "outputs": []
    },
    {
     "cell_type": "code",
     "collapsed": false,
     "input": [
      "num_darts = 1000\n",
      "xbounds = [0,2]\n",
      "ybounds = [0, 1.5]\n",
      "num_runs = 1000\n",
      "means = []\n",
      "for i in range(num_runs):\n",
      "    result = calc_area(func, xbounds, ybounds, num_darts)\n",
      "    means.append(result)\n",
      "means = np.array(means)"
     ],
     "language": "python",
     "metadata": {},
     "outputs": []
    },
    {
     "cell_type": "code",
     "collapsed": false,
     "input": [
      "overall_mean = means.mean()\n",
      "print overall_mean"
     ],
     "language": "python",
     "metadata": {},
     "outputs": []
    },
    {
     "cell_type": "code",
     "collapsed": false,
     "input": [
      "std = means.std()\n",
      "print std"
     ],
     "language": "python",
     "metadata": {},
     "outputs": []
    },
    {
     "cell_type": "heading",
     "level": 4,
     "metadata": {},
     "source": [
      "Advanced Code: Will it Vectorize?"
     ]
    },
    {
     "cell_type": "markdown",
     "metadata": {},
     "source": [
      "* loops are slow in interpreted languages (for now...)\n",
      "* we want to avoid them whenever we can"
     ]
    },
    {
     "cell_type": "code",
     "collapsed": false,
     "input": [
      "random_x = np.random.uniform(*xbounds, size=(num_darts, num_runs))\n",
      "random_y = np.random.uniform(*ybounds, size=(num_darts, num_runs))\n",
      "y_hat = func(random_x)\n",
      "\n",
      "y_below = random_y < y_hat"
     ],
     "language": "python",
     "metadata": {},
     "outputs": []
    },
    {
     "cell_type": "markdown",
     "metadata": {},
     "source": [
      "**Review Question** What shape is y_below?"
     ]
    },
    {
     "cell_type": "code",
     "collapsed": false,
     "input": [
      "y_below.shape"
     ],
     "language": "python",
     "metadata": {},
     "outputs": []
    },
    {
     "cell_type": "code",
     "collapsed": false,
     "input": [
      "area_each_run = y_below.mean(axis=1)*np.diff(xbounds)*np.diff(ybounds)"
     ],
     "language": "python",
     "metadata": {},
     "outputs": []
    },
    {
     "cell_type": "code",
     "collapsed": false,
     "input": [
      "overall_mean = area_each_run.mean()\n",
      "print overall_mean"
     ],
     "language": "python",
     "metadata": {},
     "outputs": []
    },
    {
     "cell_type": "code",
     "collapsed": false,
     "input": [
      "std = area_each_run.std()"
     ],
     "language": "python",
     "metadata": {},
     "outputs": []
    },
    {
     "cell_type": "code",
     "collapsed": false,
     "input": [
      "print overall_mean - std, overall_mean + std"
     ],
     "language": "python",
     "metadata": {},
     "outputs": []
    },
    {
     "cell_type": "code",
     "collapsed": false,
     "input": [
      "np.percentile(means, [100-68.3, 68.3])"
     ],
     "language": "python",
     "metadata": {},
     "outputs": []
    },
    {
     "cell_type": "markdown",
     "metadata": {},
     "source": [
      "What is going on here? Why do the empirical percentiles not match up with the theoretical ones?"
     ]
    },
    {
     "cell_type": "code",
     "collapsed": false,
     "input": [
      "median = np.median(means)\n",
      "print median"
     ],
     "language": "python",
     "metadata": {},
     "outputs": []
    },
    {
     "cell_type": "code",
     "collapsed": false,
     "input": [
      "# probably really want a kernel density estimator here\n",
      "fig, ax = plt.subplots(figsize=(8,6))\n",
      "ax.hist(means, bins=100, normed=True);\n",
      "ylim = ax.get_ylim()\n",
      "line = ax.vlines(overall_mean, ylim[0], ylim[1], lw=3, color='r', label=\"mean\")\n",
      "#ax.vlines(median, ylim[0], ylim[1], lw=1, color='orange', label=\"median\", alpha=.5)\n",
      "leg = ax.legend([line], [line.get_label()], loc=\"upper left\", fontsize=\"x-large\")"
     ],
     "language": "python",
     "metadata": {},
     "outputs": []
    }
   ],
   "metadata": {}
  }
 ]
}
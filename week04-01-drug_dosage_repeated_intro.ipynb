{
 "metadata": {
  "name": "drug_dosage_repeated"
 },
 "nbformat": 3,
 "nbformat_minor": 0,
 "worksheets": [
  {
   "cells": [
    {
     "cell_type": "heading",
     "level": 3,
     "metadata": {
      "slideshow": {
       "slide_type": "-"
      }
     },
     "source": [
      "Drug Dosage - Repeated Doses"
     ]
    },
    {
     "cell_type": "markdown",
     "metadata": {
      "slideshow": {
       "slide_type": "subslide"
      }
     },
     "source": [
      "* model the metabolic system\n",
      "* simplified one-compartment model\n",
      "* **concentration** of drug - drug/volume of blood\n",
      "* rate of elimination is proportional to amount in system\n",
      "* **MEC** minimum effective concentrations\n",
      "* **MTC** minimum toxic concentrations\n",
      "* **therapeutic range** in between MEC and MTC\n",
      "* model in terms of drugs **half-life** and amount of **plasma** in blood"
     ]
    },
    {
     "cell_type": "markdown",
     "metadata": {
      "slideshow": {
       "slide_type": "slide"
      }
     },
     "source": [
      "* drug is Dilantin - treatment for epilepsy\n",
      "* patients take 100-mg tablet, three times daily\n",
      "* effective serum blood level is 10-20 $\\mu g/ml$\n",
      "* side effects can appear at 20 $\\mu g/ml$\n",
      "* half-life averages 22 hours"
     ]
    },
    {
     "cell_type": "code",
     "collapsed": false,
     "input": [
      "# ordinary variables first (circles with no incoming arrows)\n",
      "\n",
      "# constants\n",
      "half_life = 22 # hours\n",
      "plasma_volume = 3000 # ml\n",
      "interval = 8\n",
      "absorption_fraction = .12\n",
      "min_effective = 10\n",
      "min_toxic = 20\n",
      "time_start = 0\n",
      "\n",
      "# derived variables\n",
      "elimination_constant = -np.log(.5) / half_life\n",
      "\n",
      "# array for a stock variable\n",
      "drug_in_system = np.zeros(100)\n",
      "# set its initial value\n",
      "dosage = 100 * 1000\n",
      "initial_drug = 0\n",
      "\n",
      "# there are no other circles that are pointed to by anything other than a circle"
     ],
     "language": "python",
     "metadata": {},
     "outputs": [],
     "prompt_number": 365
    },
    {
     "cell_type": "code",
     "collapsed": false,
     "input": [
      "def pulse(t, dosage):\n",
      "    if np.allclose(t % 8, 0):\n",
      "    #if np.allclose(np.ceil(t) % 8, 0) and np.allclose(t, np.ceil(t)):\n",
      "        return dosage\n",
      "    else:\n",
      "        return 0"
     ],
     "language": "python",
     "metadata": {},
     "outputs": [],
     "prompt_number": 358
    },
    {
     "cell_type": "code",
     "collapsed": false,
     "input": [
      "time_points = np.arange(time_start, 169, dt)"
     ],
     "language": "python",
     "metadata": {},
     "outputs": [],
     "prompt_number": 353
    },
    {
     "cell_type": "code",
     "collapsed": false,
     "input": [
      "Q = np.zeros_like(time_points)\n",
      "\n",
      "for i in range(len(time_points)-1):\n",
      "    t = time_points[i]\n",
      "    entering = absorption_fraction * pulse(t, dosage)\n",
      "    leaving = -elimination_constant * Q[i] * dt\n",
      "    Q[i+1] = Q[i] + entering + leaving"
     ],
     "language": "python",
     "metadata": {},
     "outputs": [],
     "prompt_number": 362
    },
    {
     "cell_type": "code",
     "collapsed": false,
     "input": [
      "fig, ax = plt.subplots(subplot_kw=dict(ylabel=\"concentration\", xlabel=\"t (hrs.)\"))\n",
      "ax.plot(time_points, Q/plasma_volume, color='k', lw=3)\n",
      "ax.hlines(min_effective, time_points[0], \n",
      "          time_points[-1], color='k',\n",
      "          lw=2)\n",
      "ax.hlines(min_toxic, time_points[0], \n",
      "          time_points[-1], color='k',\n",
      "          lw=2)\n",
      "ax.xaxis.set_ticks(time_points[::80*3])\n",
      "ax.grid(False)\n",
      "ax.set_xlim(0, 168);\n",
      "ax.set_ylim(0, 20.5);"
     ],
     "language": "python",
     "metadata": {},
     "outputs": [
      {
       "output_type": "display_data",
       "png": "[encoded data removed]",
       "text": [
        "<matplotlib.figure.Figure at 0xa5e2c10>"
       ]
      }
     ],
     "prompt_number": 366
    }
   ],
   "metadata": {}
  }
 ]
}
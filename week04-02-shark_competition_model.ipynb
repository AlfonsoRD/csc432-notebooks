{
 "metadata": {
  "name": "shark_competition_model"
 },
 "nbformat": 3,
 "nbformat_minor": 0,
 "worksheets": [
  {
   "cells": [
    {
     "cell_type": "heading",
     "level": 3,
     "metadata": {},
     "source": [
      "Competition Model - White Tip Sharks vs Black Tip Sharps"
     ]
    },
    {
     "cell_type": "markdown",
     "metadata": {},
     "source": [
      "* two species competing for resources\n",
      "* number of deaths is proportional to both pop. \n",
      "  size and pop. size of other species\n",
      "* For population $B$ and population $W$, $\\text{deaths}\\propto BW$"
     ]
    },
    {
     "cell_type": "markdown",
     "metadata": {},
     "source": [
      "$$\\Delta\\left(\\text{births of WTS}\\right)=g_{w}W$$\n",
      "$$\\Delta\\left(\\text{births of BTS}\\right)=g_{b}B$$\n",
      "$$\\Delta\\left(\\text{deaths of WTS}\\right) = d_{w}BW$$\n",
      "$$\\Delta\\left(\\text{deaths of BTS}\\right) = d_{b}BW$$\n",
      "\n",
      "where $d_{w}$ and $d_{b}$ are the respective death proportionality constants for each species and\n",
      "$g_{w}$ and $g_{b}$ are the respective birth rates.\n"
     ]
    },
    {
     "cell_type": "code",
     "collapsed": false,
     "input": [
      "# ordinary variables\n",
      "\n",
      "bts_birth_fraction = 1.\n",
      "bts_death_prop_const = .2\n",
      "wts_birth_fraction = 1.\n",
      "wts_death_prop_const = .27\n",
      "\n",
      "# derived variables\n",
      "\n",
      "# stock variables\n",
      "# defined within solver\n",
      "\n",
      "# define flow equations\n",
      "\n",
      "def births(pop, birth_fraction):\n",
      "    return pop*birth_fraction\n",
      "\n",
      "def deaths(bts_pop, wts_pop, death_prop_const):\n",
      "    return death_prop_const * bts_pop * wts_pop\n",
      "\n",
      "# func(y, t, args)\n",
      "def dpop_dt(pops, t, wts_birth_frac, \n",
      "            bts_birth_frac, wts_death_prop, \n",
      "            bts_death_prop):\n",
      "    bts, wts = pops\n",
      "    bts_born = births(bts, bts_birth_frac)\n",
      "    wts_born = births(wts, wts_birth_frac)\n",
      "    bts_change = bts_born - deaths(bts, wts, bts_death_prop)\n",
      "    wts_change = wts_born - deaths(wts, bts, wts_death_prop)\n",
      "    return [bts_change, wts_change]\n",
      "    \n",
      "\n",
      "# initial conditions\n",
      "\n",
      "bts_population_0 = 15\n",
      "wts_population_0 = 20\n",
      "\n",
      "time_points = np.arange(0, 5, .1)"
     ],
     "language": "python",
     "metadata": {},
     "outputs": []
    },
    {
     "cell_type": "code",
     "collapsed": false,
     "input": [
      "from scipy import integrate\n",
      "pops = integrate.odeint(dpop_dt, [bts_population_0,\n",
      "                                  wts_population_0], \n",
      "                    time_points, args=(wts_birth_fraction, \n",
      "                                        bts_birth_fraction, \n",
      "                                        wts_death_prop_const,\n",
      "                                        bts_death_prop_const)\n",
      "                        )"
     ],
     "language": "python",
     "metadata": {},
     "outputs": []
    },
    {
     "cell_type": "code",
     "collapsed": false,
     "input": [
      "bts, wts = pops.T"
     ],
     "language": "python",
     "metadata": {},
     "outputs": []
    },
    {
     "cell_type": "code",
     "collapsed": false,
     "input": [
      "fig, ax = plt.subplots(subplot_kw=dict(xlabel=\"t (months)\", \n",
      "                                       ylabel=\"population\"),\n",
      "                       figsize=(8,5)\n",
      "                    )\n",
      "ax.plot(time_points, bts, \"k--\", label=\"BTS\", lw=2)\n",
      "ax.plot(time_points, wts, \"k-\", label=\"WTS\", lw=2);\n",
      "ax.legend();"
     ],
     "language": "python",
     "metadata": {},
     "outputs": []
    },
    {
     "cell_type": "code",
     "collapsed": false,
     "input": [
      "import pandas\n",
      "pandas.DataFrame(np.column_stack((time_points, pops)),\n",
      "                 columns=[\"months\", \"BTS\", \"WTS\"])"
     ],
     "language": "python",
     "metadata": {},
     "outputs": []
    }
   ],
   "metadata": {}
  }
 ]
}
{
 "metadata": {
  "name": "numerical_differentiation"
 },
 "nbformat": 3,
 "nbformat_minor": 0,
 "worksheets": [
  {
   "cells": [
    {
     "cell_type": "code",
     "collapsed": false,
     "input": [
      "import numpy as np\n",
      "import matplotlib.pyplot as plt"
     ],
     "language": "python",
     "metadata": {},
     "outputs": []
    },
    {
     "cell_type": "code",
     "collapsed": false,
     "input": [
      "np.set_printoptions(suppress=True)"
     ],
     "language": "python",
     "metadata": {},
     "outputs": []
    },
    {
     "cell_type": "heading",
     "level": 2,
     "metadata": {},
     "source": [
      "Module 2.3 in Shiflet & Shiflet - Rate of Change"
     ]
    },
    {
     "cell_type": "heading",
     "level": 3,
     "metadata": {},
     "source": [
      "Velocity and the Rate of Change"
     ]
    },
    {
     "cell_type": "code",
     "collapsed": false,
     "input": [
      "t = np.arange(0, 3.76, .25) # time in seconds\n",
      "t"
     ],
     "language": "python",
     "metadata": {},
     "outputs": []
    },
    {
     "cell_type": "code",
     "collapsed": false,
     "input": [
      "# height of ball thrown straight up from bridge\n",
      "y = np.array([11., 14.4438, 17.2750, 19.4938, 21.1, 22.0938, 22.475, 22.2438, \n",
      "              21.4, 19.9437, 17.875, 15.1937, 11.9, 7.9938, 3.475, -1.6563])"
     ],
     "language": "python",
     "metadata": {},
     "outputs": []
    },
    {
     "cell_type": "code",
     "collapsed": false,
     "input": [
      "def height(t):\n",
      "    \"\"\"\n",
      "    This is the (unknown) function that generates the data\n",
      "\n",
      "    Returns the height of a ball thrown straight up \n",
      "    from bridge given time t\n",
      "    \"\"\"\n",
      "    return -4.9*t**2 + 15*t + 11"
     ],
     "language": "python",
     "metadata": {},
     "outputs": []
    },
    {
     "cell_type": "code",
     "collapsed": false,
     "input": [
      "y = height(t)"
     ],
     "language": "python",
     "metadata": {},
     "outputs": []
    },
    {
     "cell_type": "code",
     "collapsed": false,
     "input": [
      "y"
     ],
     "language": "python",
     "metadata": {},
     "outputs": []
    },
    {
     "cell_type": "code",
     "collapsed": false,
     "input": [
      "np.column_stack((t, y))"
     ],
     "language": "python",
     "metadata": {},
     "outputs": []
    },
    {
     "cell_type": "code",
     "collapsed": false,
     "input": [
      "fig, ax = plt.subplots(figsize=(12,8), subplot_kw=dict(xlabel=\"Time (s)\",\n",
      "                                                       ylabel=\"Height (m)\"))\n",
      "grid_t = np.linspace(0, 3.75, 100)\n",
      "lines = ax.plot(grid_t, height(grid_t));\n",
      "hline = ax.hlines(0, *ax.get_xlim())"
     ],
     "language": "python",
     "metadata": {},
     "outputs": []
    },
    {
     "cell_type": "heading",
     "level": 3,
     "metadata": {},
     "source": [
      "Average Rate of Change"
     ]
    },
    {
     "cell_type": "markdown",
     "metadata": {},
     "source": [
      "If $x(t)$ is the position at time $t$, then the average velocity is defined as the average rate of change of $x$ with respect to $t$, from time $a$ to time $b$.\n",
      "\n",
      "$$\\text{average velocity}=\\frac{\\Delta\\text{position}}{\\Delta\\text{time}}=\\frac{x(b) - x(a)}{b-a}$$"
     ]
    },
    {
     "cell_type": "code",
     "collapsed": false,
     "input": [
      "print \"The average velocity from 0 to 1 seconds is %2.1f m/sec\" %(y[4] - y[0])"
     ],
     "language": "python",
     "metadata": {},
     "outputs": []
    },
    {
     "cell_type": "markdown",
     "metadata": {},
     "source": [
      "Find the 1 second average velocities for the whole series."
     ]
    },
    {
     "cell_type": "code",
     "collapsed": false,
     "input": [
      "velocities = (y[4:] - y[:-4])/1.\n",
      "np.array(zip(t[4:], velocities))\n",
      "# equivalently\n",
      "# np.column_stack((t[4:], velocities))\n",
      "# or\n",
      "# np.c_[t[4:], velocities]"
     ],
     "language": "python",
     "metadata": {},
     "outputs": []
    },
    {
     "cell_type": "code",
     "collapsed": false,
     "input": [
      "fig, ax = plt.subplots(figsize=(12,8), subplot_kw=dict(xlabel=\"Time (s)\",\n",
      "                                                       ylabel=\"Height (m)\"))\n",
      "line1 = ax.plot(grid_t, height(grid_t), label='height')\n",
      "ax2 = ax.twinx()\n",
      "line2 = ax2.plot(t[4:], velocities, 'r', label='avg. velocity');\n",
      "ax2.set_ylim(-17, 12)\n",
      "ax2.hlines(0, 4, 0, lw=3);\n",
      "ax2.set_ylabel(\"Avg. Velocity for Previous Second\");\n",
      "lines = line1 + line2\n",
      "labels = [line.get_label() for line in lines]\n",
      "ax2.legend(lines, labels, loc=0);"
     ],
     "language": "python",
     "metadata": {},
     "outputs": []
    },
    {
     "cell_type": "markdown",
     "metadata": {},
     "source": [
      "Let $\\Delta t = b-a$, then we can rewrite the above definition as \n",
      "\n",
      "$$\\begin{aligned} \\text{average velocity} & =\\frac{\\Delta x}{\\Delta t} \\cr\n",
      "& =\\frac{x(a+\\Delta t)-x(a)}{\\Delta t} \\end{aligned}$$"
     ]
    },
    {
     "cell_type": "heading",
     "level": 4,
     "metadata": {},
     "source": [
      "Slope of Secant Lines"
     ]
    },
    {
     "cell_type": "code",
     "collapsed": false,
     "input": [
      "from matplotlib import lines as mpl_lines\n",
      "\n",
      "def slope_from_points(point1, point2):\n",
      "    return (point2[1] - point1[1])/(point2[0] - point1[0])\n",
      "\n",
      "def plot_secant(point1, point2=None, slope=None):\n",
      "    \"\"\"\n",
      "    Plots a secant if two points are given or possibly a tangent line if \n",
      "    one point and a slope are given.\n",
      "    \"\"\"\n",
      "    fig, ax = plt.subplots(figsize=(10,6))\n",
      "    lines = ax.plot(grid_t, height(grid_t));\n",
      "    \n",
      "    # plot the secant\n",
      "    if slope is None:\n",
      "        slope = slope_from_points(point1, point2)\n",
      "    intercept = point1[1] - slope*point1[0] \n",
      "    # update the points to be on the axes limits\n",
      "    x = ax.get_xlim()\n",
      "    y = ax.get_ylim()\n",
      "    data_y = [x[0]*slope+intercept, x[1]*slope+intercept]\n",
      "    line = mpl_lines.Line2D(x, data_y, color='red', linewidth=2)\n",
      "    ax.plot(*point1, marker='o', color='black', alpha=1, zorder=10)\n",
      "    if point2 is not None:\n",
      "        ax.plot(*point2, marker='o', color='black', alpha=1, zorder=10)\n",
      "    ax.text(.7, .9, 'slope = %4.3f m/s' % slope, transform=ax.transAxes, fontsize=15)\n",
      "    ax.add_line(line)"
     ],
     "language": "python",
     "metadata": {},
     "outputs": []
    },
    {
     "cell_type": "code",
     "collapsed": false,
     "input": [
      "plot_secant((1, height(1)),(2.25, height(2.25)))"
     ],
     "language": "python",
     "metadata": {},
     "outputs": []
    },
    {
     "cell_type": "code",
     "collapsed": false,
     "input": [
      "plot_secant((1, height(1)),(1.75, height(1.75)))"
     ],
     "language": "python",
     "metadata": {},
     "outputs": []
    },
    {
     "cell_type": "code",
     "collapsed": false,
     "input": [
      "plot_secant((1, height(1)),(1.25, height(1.25)))"
     ],
     "language": "python",
     "metadata": {},
     "outputs": []
    },
    {
     "cell_type": "code",
     "collapsed": false,
     "input": [
      "plot_secant((1, 21.1), slope=5.2)"
     ],
     "language": "python",
     "metadata": {},
     "outputs": []
    },
    {
     "cell_type": "heading",
     "level": 3,
     "metadata": {},
     "source": [
      "Slope of Tangent Lines"
     ]
    },
    {
     "cell_type": "code",
     "collapsed": false,
     "input": [
      "def plot_function(xlim, ylim):\n",
      "    fig, ax = plt.subplots(figsize=(10,6))\n",
      "    lines = ax.plot(grid_t, height(grid_t));\n",
      "    ax.set_xlim(*xlim)\n",
      "    ax.set_ylim(*ylim)"
     ],
     "language": "python",
     "metadata": {},
     "outputs": []
    },
    {
     "cell_type": "code",
     "collapsed": false,
     "input": [
      "plot_function((.8, 1.3), (19.5, 22))"
     ],
     "language": "python",
     "metadata": {},
     "outputs": []
    },
    {
     "cell_type": "code",
     "collapsed": false,
     "input": [
      "plot_function((.9, 1.1), (20.6, 21.5))"
     ],
     "language": "python",
     "metadata": {},
     "outputs": []
    },
    {
     "cell_type": "code",
     "collapsed": false,
     "input": [
      "plot_function((.99,1.01), (21.05, 21.15))"
     ],
     "language": "python",
     "metadata": {},
     "outputs": []
    },
    {
     "cell_type": "markdown",
     "metadata": {},
     "source": [
      "Say we expand the data that we have about $t=1$. We could do this using smoothing splines, which we will cover in detail later. Compare this to Table 2.3.2."
     ]
    },
    {
     "cell_type": "code",
     "collapsed": false,
     "input": [
      "from scipy import interpolate"
     ],
     "language": "python",
     "metadata": {},
     "outputs": []
    },
    {
     "cell_type": "code",
     "collapsed": false,
     "input": [
      "spline = interpolate.UnivariateSpline(t, y)\n",
      "new_t = np.linspace(.9, 1.1, 21)\n",
      "delta_t = new_t - 1\n",
      "fine_y = spline(new_t)"
     ],
     "language": "python",
     "metadata": {},
     "outputs": []
    },
    {
     "cell_type": "code",
     "collapsed": false,
     "input": [
      "print np.c_[new_t, delta_t, fine_y]"
     ],
     "language": "python",
     "metadata": {},
     "outputs": []
    },
    {
     "cell_type": "code",
     "collapsed": false,
     "input": [
      "# (s(1.01) - S(1))/.01\n",
      "(fine_y[11] - y[4])/.01"
     ],
     "language": "python",
     "metadata": {},
     "outputs": []
    },
    {
     "cell_type": "code",
     "collapsed": false,
     "input": [
      "# (s(1) - s(.99))/.01\n",
      "(fine_y[9] - y[4])/-.01"
     ],
     "language": "python",
     "metadata": {},
     "outputs": []
    },
    {
     "cell_type": "code",
     "collapsed": false,
     "input": [
      "((fine_y[9] - y[4])/-.01 + (fine_y[11] - y[4])/.01) / 2"
     ],
     "language": "python",
     "metadata": {},
     "outputs": []
    },
    {
     "cell_type": "markdown",
     "metadata": {},
     "source": [
      "The instantaneous rate of change of $x$ with respect to $t$ at $t=a$ is found by letting $\\Delta t$ approach zero\n",
      "\n",
      "$$\\lim_{\\Delta t\\rightarrow 0}\\frac{x(a + \\Delta t) - x(a)}{\\Delta t}$$\n",
      "\n",
      "This should be familiar from the first fundamental theorem of calculus. As $t$ approaches 0, this is the derivative of $y = x(t)$ with respect to $t$, commonly denoted as\n",
      "\n",
      "$$x^\\prime(a)=\\frac{dy}{dt}\\bigg|_{\\,t=0}$$"
     ]
    },
    {
     "cell_type": "heading",
     "level": 3,
     "metadata": {},
     "source": [
      "Numerical Differentiation"
     ]
    },
    {
     "cell_type": "markdown",
     "metadata": {},
     "source": [
      "One way to find a derivative on a computer is by [numerical differentiation](http://en.wikipedia.org/wiki/Numerical_differentiation) using the difference quotient\n",
      "\n",
      "$$f^{\\prime}(x)=\\frac{f(x+h)-f(x)}{h}$$\n",
      "\n",
      "this is called a forward difference. You'll notice it's relation to a derivative. We can also define the backwards difference\n",
      "\n",
      "$$f^{\\prime}(x)=\\frac{f(x)-f(x-h)}{h}$$\n",
      "\n",
      "Or a central difference\n",
      "\n",
      "$$f^{\\prime}(x)=\\frac{f(x+h)-f(x-h)}{2h}$$\n",
      "\n",
      "As we know, these value approach the derivative of a function as $h\\rightarrow 0$. However, on a computer, we have to worry about things like truncation and round-off error. We will discuss these issues at greater length in a few weeks. The bottom line is that we need to be careful when we chose $h$ in the above formulas."
     ]
    },
    {
     "cell_type": "markdown",
     "metadata": {},
     "source": [
      "Recall that the derivative of the function $y=\\ln{x}$ is\n",
      "\n",
      "$$\\frac{dy}{dx}=\\frac{1}{x}$$\n",
      "\n",
      "so that $\\frac{dy}{dx}|_{x=3}=\\frac{1}{3}$"
     ]
    },
    {
     "cell_type": "code",
     "collapsed": false,
     "input": [
      "from scipy import misc"
     ],
     "language": "python",
     "metadata": {},
     "outputs": []
    },
    {
     "cell_type": "code",
     "collapsed": false,
     "input": [
      "misc.derivative?"
     ],
     "language": "python",
     "metadata": {},
     "outputs": []
    },
    {
     "cell_type": "code",
     "collapsed": false,
     "input": [
      "misc.derivative(np.log, 3)"
     ],
     "language": "python",
     "metadata": {},
     "outputs": []
    },
    {
     "cell_type": "code",
     "collapsed": false,
     "input": [
      "dxes = [1, 1e-1, 1e-2, 1e-3, 1e-4, 1e-5, 1e-6, 1e-7, 1e-8, 1e-9, 1e-10, 1e-11, 1e-12]"
     ],
     "language": "python",
     "metadata": {},
     "outputs": []
    },
    {
     "cell_type": "code",
     "collapsed": false,
     "input": [
      "errors = 1/3. - np.array([misc.derivative(np.log, 3, dx) for dx in dxes])\n",
      "errors"
     ],
     "language": "python",
     "metadata": {},
     "outputs": []
    },
    {
     "cell_type": "code",
     "collapsed": false,
     "input": [
      "dxes[np.abs(errors).argmin()]"
     ],
     "language": "python",
     "metadata": {},
     "outputs": []
    },
    {
     "cell_type": "code",
     "collapsed": false,
     "input": [
      "misc.derivative(np.log, 3, 1e-5)"
     ],
     "language": "python",
     "metadata": {},
     "outputs": []
    }
   ],
   "metadata": {}
  }
 ]
}
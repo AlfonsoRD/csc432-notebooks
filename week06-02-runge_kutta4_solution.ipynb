{
 "metadata": {
  "name": "runge_kutta4_solution"
 },
 "nbformat": 3,
 "nbformat_minor": 0,
 "worksheets": [
  {
   "cells": [
    {
     "cell_type": "code",
     "collapsed": false,
     "input": [
      "import numpy as np"
     ],
     "language": "python",
     "metadata": {},
     "outputs": []
    },
    {
     "cell_type": "code",
     "collapsed": false,
     "input": [
      "def runge_kutta4(func, initial, ntime, dt, args=()):\n",
      "    nsteps = int(ntime/dt)\n",
      "    population = np.zeros(nsteps + 1)\n",
      "    population[0] = initial\n",
      "    for i in range(1, len(population)):\n",
      "        t = i * dt # current t\n",
      "        t1 = (i -1) * dt # lagged t\n",
      "        pn1 = population[i-1] # lagged P\n",
      "        d1 = func(pn1, t1)*dt\n",
      "        d2 = func(pn1+.5*d1, t1+.5*dt)*dt\n",
      "        d3 = func(pn1+.5*d2, t1+.5*dt)*dt\n",
      "        d4 = func(pn1+d3, t1+dt)*dt\n",
      "        population[i] = population[i-1] + (d1 + 2*d2 + 2*d3 + d4)/6.\n",
      "    return population"
     ],
     "language": "python",
     "metadata": {},
     "outputs": []
    }
   ],
   "metadata": {}
  }
 ]
}
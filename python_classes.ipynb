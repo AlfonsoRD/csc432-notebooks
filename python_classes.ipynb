{
 "metadata": {
  "name": "python_classes"
 },
 "nbformat": 3,
 "nbformat_minor": 0,
 "worksheets": [
  {
   "cells": [
    {
     "cell_type": "markdown",
     "metadata": {},
     "source": [
      "**Acknowledgement**: This is example is based on the OOP lesson in the [Python Scientific Lecture Notes](http://scipy-lectures.github.com/)."
     ]
    },
    {
     "cell_type": "code",
     "collapsed": false,
     "input": [
      "class Student(object):\n",
      "    \"\"\"\n",
      "    Student class\n",
      "\n",
      "    Parameters\n",
      "    ----------\n",
      "    name : str\n",
      "        The name of the student\n",
      "    \"\"\"\n",
      "    def __init__(self, name):\n",
      "        self.name = name\n",
      "    \n",
      "    def set_age(self, age):\n",
      "        \"\"\"\n",
      "        Sets the age of the student.\n",
      "        \"\"\"\n",
      "        self.age = age\n",
      "        \n",
      "    def set_major(self, major):\n",
      "        \"\"\"\n",
      "        Sets the major of the student.\n",
      "        \"\"\"\n",
      "        self.major = major"
     ],
     "language": "python",
     "metadata": {},
     "outputs": []
    },
    {
     "cell_type": "markdown",
     "metadata": {},
     "source": [
      "* **Methods**: `__init__`, `set_age`, and `set_major`.\n",
      "  * A `method` is a function that \"belongs to\" an object\n",
      "  * One method per class with a given name\n",
      "* **Attributes**: `name`, `age`, and `major`\n",
      "  * Data held by an instance of a class\n",
      "  * Sometimes referred to as `data attributes` -- correspond to `instance variables` in Java/Smalltalk, `data attributes` in C++.\n",
      "* **Instantiate** a class by calling the `__init__` method."
     ]
    },
    {
     "cell_type": "code",
     "collapsed": false,
     "input": [
      "catelyn = Student(\"Catelyn\")\n",
      "catelyn.name"
     ],
     "language": "python",
     "metadata": {},
     "outputs": []
    },
    {
     "cell_type": "markdown",
     "metadata": {},
     "source": [
      "* *self* is a reference to the object itself, Python always provides this for you\n",
      "* it is not a reserved word like `this` in C++/Java, but it is a strict conventions to use `self`"
     ]
    },
    {
     "cell_type": "code",
     "collapsed": false,
     "input": [
      "catelyn.set_age(21)\n",
      "catelyn.set_major(\"Computer Science\")"
     ],
     "language": "python",
     "metadata": {},
     "outputs": []
    },
    {
     "cell_type": "markdown",
     "metadata": {},
     "source": [
      "**Inheritance**\n",
      "\n",
      "As you would expect Python classes support inheritance."
     ]
    },
    {
     "cell_type": "code",
     "collapsed": false,
     "input": [
      "class MasterStudent(Student):\n",
      "    internship = \"Mandatory from March to June\"\n",
      "    \n",
      "    def set_thesis(self, title):\n",
      "        self.title = title"
     ],
     "language": "python",
     "metadata": {},
     "outputs": []
    },
    {
     "cell_type": "markdown",
     "metadata": {},
     "source": [
      "* Here we **inherit** from Student. MasterStudent has all of its methods and attributes.\n",
      "* MasterStudent is a **subclass** or **child class** of Student.\n",
      "* **Class attribute**: `internship`\n",
      "  * Data owned by the class itself\n",
      "  * Corresponds to static variables in Java"
     ]
    },
    {
     "cell_type": "code",
     "collapsed": false,
     "input": [
      "MasterStudent.internship"
     ],
     "language": "python",
     "metadata": {},
     "outputs": []
    },
    {
     "cell_type": "code",
     "collapsed": false,
     "input": [
      "robb = MasterStudent(\"Robb\")\n",
      "robb.set_age(23)\n",
      "robb.set_thesis(\"A new Model of Multiple Inheritance in Python\")"
     ],
     "language": "python",
     "metadata": {},
     "outputs": []
    },
    {
     "cell_type": "code",
     "collapsed": false,
     "input": [
      "robb.internship"
     ],
     "language": "python",
     "metadata": {},
     "outputs": []
    },
    {
     "cell_type": "markdown",
     "metadata": {},
     "source": [
      "* Class attributes are mutable\n",
      "* This is persistent!"
     ]
    },
    {
     "cell_type": "code",
     "collapsed": false,
     "input": [
      "MasterStudent.internship = \"Mandatory from May to August\""
     ],
     "language": "python",
     "metadata": {},
     "outputs": []
    },
    {
     "cell_type": "code",
     "collapsed": false,
     "input": [
      "jon = MasterStudent(\"Jon\")\n",
      "jon.internship"
     ],
     "language": "python",
     "metadata": {},
     "outputs": []
    },
    {
     "cell_type": "markdown",
     "metadata": {},
     "source": [
      "**Overwriting methods**"
     ]
    },
    {
     "cell_type": "code",
     "collapsed": false,
     "input": [
      "class MasterStudent(Student):\n",
      "    def set_major(self, *args, **kwargs):\n",
      "        raise NotImplementedError(\"Masters students do not have a major\")"
     ],
     "language": "python",
     "metadata": {},
     "outputs": []
    },
    {
     "cell_type": "code",
     "collapsed": false,
     "input": [
      "ned = MasterStudent(\"Ned\")"
     ],
     "language": "python",
     "metadata": {},
     "outputs": []
    },
    {
     "cell_type": "code",
     "collapsed": false,
     "input": [
      "ned.set_major(\"Philosophy/Ethics\")"
     ],
     "language": "python",
     "metadata": {},
     "outputs": []
    },
    {
     "cell_type": "markdown",
     "metadata": {},
     "source": [
      "* This is actually not very clean. You might want to use a different structure."
     ]
    },
    {
     "cell_type": "code",
     "collapsed": false,
     "input": [
      "class Student(object):\n",
      "    def __init__(self, name):\n",
      "        self.name = name\n",
      "    \n",
      "    def set_age(self, age):\n",
      "        self.age = age\n",
      "        \n",
      "class UndergraduateStudent(Student):\n",
      "    def set_major(self, major):\n",
      "        self.major = major\n",
      "\n",
      "class MasterStudent(Student):\n",
      "    internship = \"Mandatory from May to August\"\n",
      "    \n",
      "    def set_thesis(self, title):\n",
      "        self.thesis = title"
     ],
     "language": "python",
     "metadata": {},
     "outputs": []
    },
    {
     "cell_type": "markdown",
     "metadata": {},
     "source": [
      "* You can inherit from built-in types as well"
     ]
    },
    {
     "cell_type": "code",
     "collapsed": false,
     "input": [
      "class UserDict(dict):\n",
      "    def __getitem__(self, key):\n",
      "        print \"Fetching value for key %s\" % key\n",
      "        return super(UserDict, self).__getitem__(key)"
     ],
     "language": "python",
     "metadata": {},
     "outputs": []
    },
    {
     "cell_type": "code",
     "collapsed": false,
     "input": [
      "d = UserDict()\n",
      "d.update({\"foo\" : \"bar\", \"some key\" : \"value\"})"
     ],
     "language": "python",
     "metadata": {},
     "outputs": []
    },
    {
     "cell_type": "code",
     "collapsed": false,
     "input": [
      "d[\"foo\"]"
     ],
     "language": "python",
     "metadata": {},
     "outputs": []
    },
    {
     "cell_type": "code",
     "collapsed": false,
     "input": [
      "d[\"some key\"]"
     ],
     "language": "python",
     "metadata": {},
     "outputs": []
    }
   ],
   "metadata": {}
  }
 ]
}
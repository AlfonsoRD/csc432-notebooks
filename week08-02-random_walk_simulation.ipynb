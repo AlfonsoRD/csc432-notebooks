{
 "metadata": {
  "name": "random_walk_simulations"
 },
 "nbformat": 3,
 "nbformat_minor": 0,
 "worksheets": [
  {
   "cells": [
    {
     "cell_type": "heading",
     "level": 2,
     "metadata": {},
     "source": [
      "Random Walk"
     ]
    },
    {
     "cell_type": "code",
     "collapsed": false,
     "input": [
      "import numpy as np\n",
      "import matplotlib.pyplot as plt"
     ],
     "language": "python",
     "metadata": {},
     "outputs": []
    },
    {
     "cell_type": "heading",
     "level": 4,
     "metadata": {},
     "source": [
      "Introduction"
     ]
    },
    {
     "cell_type": "markdown",
     "metadata": {},
     "source": [
      "* random walk refers to the apparently random movement of some entity\n",
      "  - i.e., the past has no bearing on the future\n",
      "* in a time-driven simluation, an entity may take the form of a **cell** on a **grid**\n",
      "* under random walk conditions the entity may move at random to any adjacent (perhaps under constraints)"
     ]
    },
    {
     "cell_type": "markdown",
     "metadata": {},
     "source": [
      "* a certain type of simulation involving grids is a **cellular automaton**\n",
      "* these are dynamic models that are discrete in space, state, and time\n",
      "* space takes the form of a 1-, 2- or 3-D **grid** (or array or lattice)\n",
      "* a **site** or **cell** has a state, the number of which are finite\n",
      "* **Rules** specify local relationships and indicate how cells are to change state\n",
      "* Often we will want to animate our simulations to watch how they change over time"
     ]
    },
    {
     "cell_type": "markdown",
     "metadata": {},
     "source": [
      "* examples of cellular automata models include\n",
      "* Brownian motion for the behavior of a molecule suspended in liquid\n",
      "* Polymerase Chain Reactions to simulate DNA mutations\n",
      "* Spread of fire\n",
      "* Schelling's (1971) housing segregation model"
     ]
    },
    {
     "cell_type": "heading",
     "level": 4,
     "metadata": {},
     "source": [
      "Algorithm for Random Walk"
     ]
    },
    {
     "cell_type": "markdown",
     "metadata": {},
     "source": [
      "* Suppose that in a RW simulation at each time step an entity goes diagonally in a NE, NW, SE, or SW direction at random\n",
      "* To move in these directions, each entity first walks east or west one unit then north or south one unit\n",
      "* The entity covers a diagonal distance of $\\sqrt{2}$ units"
     ]
    },
    {
     "cell_type": "heading",
     "level": 4,
     "metadata": {},
     "source": [
      "Algorithm 1"
     ]
    },
    {
     "cell_type": "markdown",
     "metadata": {},
     "source": [
      "* variables x and y store the horizontal and vertical coordinates of the current location\n",
      " - we will use a single 2-d array\n",
      "* **locations** holds a list of locations in the path of the entity\n",
      "* the entity starts at the origin (0, 0)\n",
      "* $n$ steps are taken\n",
      "* set a seed\n",
      "* at each step we draw a direction for east or west and a direction for north or south\n",
      "* we then generate a new (x,y) point and append it to our list\n",
      "* we can then visualize our path"
     ]
    },
    {
     "cell_type": "markdown",
     "metadata": {},
     "source": [
      "* **Aside:** how to generate directions?"
     ]
    },
    {
     "cell_type": "markdown",
     "metadata": {},
     "source": [
      "One Option: Use a dictionary"
     ]
    },
    {
     "cell_type": "code",
     "collapsed": false,
     "input": [
      "direction = {0 : -1, 1 : 1}"
     ],
     "language": "python",
     "metadata": {},
     "outputs": []
    },
    {
     "cell_type": "code",
     "collapsed": false,
     "input": [
      "np.random.seed(12345)\n",
      "np.random.randint(2, size=5)"
     ],
     "language": "python",
     "metadata": {},
     "outputs": []
    },
    {
     "cell_type": "code",
     "collapsed": false,
     "input": [
      "direction[np.random.randint(2)]"
     ],
     "language": "python",
     "metadata": {},
     "outputs": []
    },
    {
     "cell_type": "markdown",
     "metadata": {},
     "source": [
      "Another Option: Use `np.random.choice`<br />\n",
      "**Note** this was added in numpy 1.7.0."
     ]
    },
    {
     "cell_type": "code",
     "collapsed": false,
     "input": [
      "np.random.seed(12345)\n",
      "np.random.choice([-1, 1], size=5)"
     ],
     "language": "python",
     "metadata": {},
     "outputs": []
    },
    {
     "cell_type": "code",
     "collapsed": false,
     "input": [
      "np.random.seed(12345)\n",
      "directions = np.random.choice([-1,1], size=(10,2))\n",
      "directions"
     ],
     "language": "python",
     "metadata": {},
     "outputs": []
    },
    {
     "cell_type": "code",
     "collapsed": false,
     "input": [
      "np.cumsum(directions, axis=0)"
     ],
     "language": "python",
     "metadata": {},
     "outputs": []
    },
    {
     "cell_type": "code",
     "collapsed": false,
     "input": [
      "def random_path(initial_point, nsteps):\n",
      "    directions = np.random.choice([-1, 1], size=(nsteps, 2))\n",
      "    path = initial_point + np.cumsum(directions, axis=0)\n",
      "    # append the initial point back to the front\n",
      "    path = np.row_stack((initial_point, path))\n",
      "    return path"
     ],
     "language": "python",
     "metadata": {},
     "outputs": []
    },
    {
     "cell_type": "code",
     "collapsed": false,
     "input": [
      "origin = [0, 0]"
     ],
     "language": "python",
     "metadata": {},
     "outputs": []
    },
    {
     "cell_type": "code",
     "collapsed": false,
     "input": [
      "np.random.seed(12345)\n",
      "path = random_path(origin, 15)"
     ],
     "language": "python",
     "metadata": {},
     "outputs": []
    },
    {
     "cell_type": "code",
     "collapsed": false,
     "input": [
      "path"
     ],
     "language": "python",
     "metadata": {},
     "outputs": []
    },
    {
     "cell_type": "markdown",
     "metadata": {},
     "source": [
      "* We might want to calculate the distance traveled from the origin."
     ]
    },
    {
     "cell_type": "code",
     "collapsed": false,
     "input": [
      "from scipy import spatial"
     ],
     "language": "python",
     "metadata": {},
     "outputs": []
    },
    {
     "cell_type": "code",
     "collapsed": false,
     "input": [
      "from scipy.spatial import distance"
     ],
     "language": "python",
     "metadata": {},
     "outputs": []
    },
    {
     "cell_type": "code",
     "collapsed": false,
     "input": [
      "distance.euclidean(path[0], path[-1])"
     ],
     "language": "python",
     "metadata": {},
     "outputs": []
    },
    {
     "cell_type": "markdown",
     "metadata": {},
     "source": [
      "* Remember Euclidean distance is just \n",
      "$$d = \\sqrt{(x-x_0)^2+(y-y_0)^2}$$"
     ]
    },
    {
     "cell_type": "code",
     "collapsed": false,
     "input": [
      "print (path[0] - path[-1])**2"
     ],
     "language": "python",
     "metadata": {},
     "outputs": []
    },
    {
     "cell_type": "code",
     "collapsed": false,
     "input": [
      "print np.sqrt(np.sum((path[-1] - path[0])**2))"
     ],
     "language": "python",
     "metadata": {},
     "outputs": []
    },
    {
     "cell_type": "code",
     "collapsed": false,
     "input": [
      "np.hypot(path[0], path[-1])"
     ],
     "language": "python",
     "metadata": {},
     "outputs": []
    },
    {
     "cell_type": "code",
     "collapsed": false,
     "input": [
      "np.sqrt(np.sum(np.hypot(path[0], path[-1])**2))"
     ],
     "language": "python",
     "metadata": {},
     "outputs": []
    },
    {
     "cell_type": "code",
     "collapsed": false,
     "input": [
      "fig, ax = plt.subplots(figsize=(8,6))\n",
      "ax.plot(*path.T, linestyle=\"-\", marker=\"o\", color=\"k\",\n",
      "        markerfacecolor=\"b\", markersize=10)\n",
      "ax.set_xlim(-3, 5);\n",
      "ax.set_ylim(-1, 4);"
     ],
     "language": "python",
     "metadata": {},
     "outputs": []
    },
    {
     "cell_type": "heading",
     "level": 4,
     "metadata": {},
     "source": [
      "Animate Path"
     ]
    },
    {
     "cell_type": "markdown",
     "metadata": {},
     "source": [
      "* There are a few options to do animation with matplotlib\n",
      "* You can save plots at each of the steps and use outside tools to animate them"
     ]
    },
    {
     "cell_type": "code",
     "collapsed": false,
     "input": [
      "# execute a command delete the files if they already exist\n",
      "# ! allows you to run commands at the shell\n",
      "\n",
      "!rm ./animate_path*"
     ],
     "language": "python",
     "metadata": {},
     "outputs": []
    },
    {
     "cell_type": "code",
     "collapsed": false,
     "input": [
      "for i in range(1, len(path)+1):\n",
      "    fig, ax = plt.subplots(figsize=(8,6))\n",
      "    ax.plot(*path[:i].T, linestyle=\"-\", marker=\"o\", color=\"k\",\n",
      "        markerfacecolor=\"b\", markersize=10);\n",
      "    # plot the most recent with a different color\n",
      "    ax.plot(*path[i-1], marker=\"o\", markerfacecolor=\"red\", \n",
      "        markersize=10);\n",
      "    ax.set_xlim(-3, 5);\n",
      "    ax.set_ylim(-1, 4);\n",
      "    fig.savefig(\"./animate_path%02d.png\" % i)\n",
      "\n",
      "# close them before they display\n",
      "plt.close('all')"
     ],
     "language": "python",
     "metadata": {},
     "outputs": []
    },
    {
     "cell_type": "markdown",
     "metadata": {},
     "source": [
      "* Now we could use a tool like `ffmpeg` to turn this into an animation"
     ]
    },
    {
     "cell_type": "code",
     "collapsed": false,
     "input": [
      "!rm animated_path.*"
     ],
     "language": "python",
     "metadata": {},
     "outputs": []
    },
    {
     "cell_type": "markdown",
     "metadata": {},
     "source": [
      "Note: Use webm format because it works by default in firefox and chrome."
     ]
    },
    {
     "cell_type": "markdown",
     "metadata": {},
     "source": [
      "On Windows you may need to give the path to ffmpeg.exe or add the directory to the PATH."
     ]
    },
    {
     "cell_type": "code",
     "collapsed": false,
     "input": [
      "!ffmpeg -f image2 -r 1/2 -i animate_path%02d.png -r 30 animated_path.webm"
     ],
     "language": "python",
     "metadata": {},
     "outputs": []
    },
    {
     "cell_type": "markdown",
     "metadata": {},
     "source": [
      "<video width=\"640\" height=\"480\" controls>\n",
      "  <source src=\"files/animated_path.webm\" type=\"video/webm\">\n",
      "Your browser does not support the video tag.\n",
      "</video>"
     ]
    },
    {
     "cell_type": "markdown",
     "metadata": {},
     "source": [
      "* `matplotlib` also has [built-in animation tools](http://matplotlib.org/api/animation_api.html)"
     ]
    },
    {
     "cell_type": "heading",
     "level": 4,
     "metadata": {},
     "source": [
      "Average Distance Covered"
     ]
    },
    {
     "cell_type": "markdown",
     "metadata": {},
     "source": [
      "* Great variation can exist in the paths and the final distance traveled\n",
      "* We may be interested in running this a number of times and taking averages\n",
      "* Since we're using Python, we want to avoid loops\n",
      "* How can we accomplish this without any loops?"
     ]
    },
    {
     "cell_type": "code",
     "collapsed": false,
     "input": [
      "nsteps = 25\n",
      "num_tests = 100\n",
      "\n",
      "origin = np.array([0, 0])\n",
      "directions = np.random.choice([-1, 1], size=(nsteps, num_tests, 2))"
     ],
     "language": "python",
     "metadata": {},
     "outputs": []
    },
    {
     "cell_type": "markdown",
     "metadata": {},
     "source": [
      "* We have an array thats $(nsteps \\times num\\_tests\\times 2)$\n",
      "* The middle dimension is over the number of different runs\n",
      "* The first run, for example, looks like this"
     ]
    },
    {
     "cell_type": "code",
     "collapsed": false,
     "input": [
      "directions[:, 0, :]"
     ],
     "language": "python",
     "metadata": {},
     "outputs": []
    },
    {
     "cell_type": "markdown",
     "metadata": {},
     "source": [
      "* We can get the distance from the origin by summing over the directional moves"
     ]
    },
    {
     "cell_type": "code",
     "collapsed": false,
     "input": [
      "origin + np.sum(directions[:, 0, :], axis=0)"
     ],
     "language": "python",
     "metadata": {},
     "outputs": []
    },
    {
     "cell_type": "markdown",
     "metadata": {},
     "source": [
      "* We can use broadcasting to get the end point of each run\n",
      "* No loops!"
     ]
    },
    {
     "cell_type": "code",
     "collapsed": false,
     "input": [
      "origin + directions.sum(axis=0)"
     ],
     "language": "python",
     "metadata": {},
     "outputs": []
    },
    {
     "cell_type": "code",
     "collapsed": false,
     "input": [
      "end_points = origin + directions.sum(axis=0)"
     ],
     "language": "python",
     "metadata": {},
     "outputs": []
    },
    {
     "cell_type": "markdown",
     "metadata": {},
     "source": [
      "* End points now contains the end point of each run\n",
      "* We can get the total distance covered by each using our Euclidean distance formula and broadcasting"
     ]
    },
    {
     "cell_type": "code",
     "collapsed": false,
     "input": [
      "np.sqrt(np.sum((origin - end_points)**2, axis=1))"
     ],
     "language": "python",
     "metadata": {},
     "outputs": []
    },
    {
     "cell_type": "code",
     "collapsed": false,
     "input": [
      "nsteps = 25\n",
      "num_tests = 100\n",
      "\n",
      "origin = [0, 0]\n",
      "\n",
      "def random_path_montecarlo(origin, nsteps, nruns):\n",
      "    directions = np.random.choice([-1, 1], size=(nsteps, nruns, 2))\n",
      "    end_points = origin + directions.sum(axis=0)\n",
      "    dists = np.sqrt(np.sum((origin - end_points)**2, axis=1))\n",
      "    return dists.mean()"
     ],
     "language": "python",
     "metadata": {},
     "outputs": []
    },
    {
     "cell_type": "code",
     "collapsed": false,
     "input": [
      "avg_distance = random_path_montecarlo(origin, nsteps, num_tests)"
     ],
     "language": "python",
     "metadata": {},
     "outputs": []
    },
    {
     "cell_type": "code",
     "collapsed": false,
     "input": [
      "print avg_distance"
     ],
     "language": "python",
     "metadata": {},
     "outputs": []
    },
    {
     "cell_type": "heading",
     "level": 4,
     "metadata": {},
     "source": [
      "Relationship between nsteps and Distance Covered"
     ]
    },
    {
     "cell_type": "code",
     "collapsed": false,
     "input": [
      "avg_distances = [random_path_montecarlo(origin, n, num_tests) for n in range(1,51)]"
     ],
     "language": "python",
     "metadata": {},
     "outputs": []
    },
    {
     "cell_type": "code",
     "collapsed": false,
     "input": [
      "fig, ax = plt.subplots(figsize=(8,6))\n",
      "ax.plot(avg_distances, \"o\")\n",
      "ax.set_xlabel(\"n\")\n",
      "ax.set_ylabel(\"Avg. Distance\");"
     ],
     "language": "python",
     "metadata": {},
     "outputs": []
    }
   ],
   "metadata": {}
  }
 ]
}
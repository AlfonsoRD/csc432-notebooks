{
 "metadata": {
  "name": "diffusions"
 },
 "nbformat": 3,
 "nbformat_minor": 0,
 "worksheets": [
  {
   "cells": [
    {
     "cell_type": "code",
     "collapsed": false,
     "input": [
      "import matplotlib.pyplot as plt"
     ],
     "language": "python",
     "metadata": {},
     "outputs": []
    },
    {
     "cell_type": "heading",
     "level": 4,
     "metadata": {},
     "source": [
      "Spreading of Fire"
     ]
    },
    {
     "cell_type": "markdown",
     "metadata": {},
     "source": [
      "* In many simulations, we model a dynamic area under consideration with an $n\\times n$ grid, or lattice"
     ]
    },
    {
     "cell_type": "code",
     "collapsed": false,
     "input": [
      "fig, ax = plt.subplots(figsize=(7, 7))\n",
      "ax.grid(linestyle=\"-\", color=\"b\", lw=1)\n",
      "ax.set_xlim(0, 8)\n",
      "ax.set_ylim(0, 8)\n",
      "ax.set_xticklabels([])\n",
      "ax.set_yticklabels([])\n",
      "ax.set_xlabel(\"n\", fontsize=\"x-large\")\n",
      "ax.set_ylabel(\"n\", fontsize=\"x-large\", rotation=\"horizontal\");"
     ],
     "language": "python",
     "metadata": {},
     "outputs": []
    },
    {
     "cell_type": "markdown",
     "metadata": {},
     "source": [
      "* Each cell in the lattice contains a characteristic of a corresponding location\n",
      " - These are called **states**\n",
      "* E.g., in a simulation of the spread a fire a cell may be 0, 1, or 2\n",
      "* This could indicate an empty cell, a cell with a non-burning tree, or a cell with a burning tree\n",
      "* This is an example of a discrete, stochastic system\n",
      "* The system needs two probabilities\n",
      "  - `prob_tree` - probability that a tree initially occupies a site. The density of the grid as %.\n",
      "  - `prob_burning` If a site has a tree, probability that a tree is burning when the simulation begins\n",
      "* Use these probabilities to initialize a grid"
     ]
    },
    {
     "cell_type": "code",
     "collapsed": false,
     "input": [
      "def init_grid(n, prob_tree, prob_burning):\n",
      "    lattice = np.random.binomial(n=1, p=prob_tree, size=(n,n))\n",
      "    lattice *= np.random.binomial(n=1, p=prob_burning, size=(n,n)) + 1\n",
      "    return lattice"
     ],
     "language": "python",
     "metadata": {},
     "outputs": []
    },
    {
     "cell_type": "code",
     "collapsed": false,
     "input": [
      "grid = init_grid(50, .8, .0005)"
     ],
     "language": "python",
     "metadata": {},
     "outputs": []
    },
    {
     "cell_type": "code",
     "collapsed": false,
     "input": [
      "from matplotlib import colors\n",
      "color_map = colors.ListedColormap([\"white\", \"gray\", \"red\"])\n",
      "bounds = [0, 1, 2, 3]\n",
      "norm = colors.BoundaryNorm(bounds, color_map.N)"
     ],
     "language": "python",
     "metadata": {},
     "outputs": []
    },
    {
     "cell_type": "code",
     "collapsed": false,
     "input": [
      "fig, ax = plt.subplots(figsize=(8,8))\n",
      "\n",
      "ax.imshow(grid, interpolation='none', cmap=color_map, \n",
      "          norm=norm)\n",
      "ax.grid(False)\n",
      "ax.set_xticklabels([])\n",
      "ax.set_yticklabels([]);"
     ],
     "language": "python",
     "metadata": {},
     "outputs": []
    },
    {
     "cell_type": "heading",
     "level": 4,
     "metadata": {},
     "source": [
      "Updating Rules"
     ]
    },
    {
     "cell_type": "markdown",
     "metadata": {},
     "source": [
      "* At each iteration, we apply a function `spread` to each site to determin its value\n",
      "* The cell value at the next instant depends on\n",
      "  - its current value\n",
      "  - the values of its **neighbors** to the North, South, East, and West\n",
      "* So `spread` needs five arguments -- site, N, S, E, and W\n",
      "* Sites diagonal to the site do not affect a site's value during iterations\n",
      "* The cells to the north, east, south, and west and the site itself are called the **von Neumann neighborhood** of a site"
     ]
    },
    {
     "cell_type": "code",
     "collapsed": false,
     "input": [
      "fig, axes = plt.subplots(nrows=3, ncols=3, figsize=(6,6))\n",
      "axes[0,0].set_axis_off()\n",
      "axes[0,2].set_axis_off()\n",
      "axes[2,0].set_axis_off()\n",
      "axes[2,2].set_axis_off()\n",
      "fig.subplots_adjust(wspace=0, hspace=0)\n",
      "text = {(0,1) : \"N\",\n",
      "        (1,0) : \"W\",\n",
      "        (1,1) : \"site\",\n",
      "        (1,2) : \"E\",\n",
      "        (2,1) : \"S\"\n",
      "        }\n",
      "for grid in [(0,1), (1,0), (1,1), (1,2), (2,1)]:\n",
      "    ax = axes[grid[0], grid[1]]\n",
      "    ax.grid(False)\n",
      "    ax.set_xticklabels([])\n",
      "    ax.set_yticklabels([])\n",
      "    ax.text(.5, .5, text[grid], \n",
      "            horizontalalignment=\"center\", \n",
      "            verticalalignment=\"center\",\n",
      "            fontsize=\"xx-large\")\n",
      "fig.suptitle(\"Von Neumann neighborhood\", fontsize=16);"
     ],
     "language": "python",
     "metadata": {},
     "outputs": []
    },
    {
     "cell_type": "markdown",
     "metadata": {},
     "source": [
      "* We need two additional probabilities to complete the `spread` function\n",
      "* `prob_immune` - The probability of immunity from catching fire\n",
      "  - This can be determined by real conditions such as the dry weather\n",
      "* `prob_lightning` - The probability of lightning hitting a site\n",
      "* Thus a tree might catch fire because a neighbor is burning or due to a lightning strike"
     ]
    },
    {
     "cell_type": "markdown",
     "metadata": {},
     "source": [
      "**Aside** reshaping arrays."
     ]
    },
    {
     "cell_type": "code",
     "collapsed": false,
     "input": [
      "sub_array = np.arange(1, 10).reshape((3,3))"
     ],
     "language": "python",
     "metadata": {},
     "outputs": []
    },
    {
     "cell_type": "code",
     "collapsed": false,
     "input": [
      "sub_array"
     ],
     "language": "python",
     "metadata": {},
     "outputs": []
    },
    {
     "cell_type": "code",
     "collapsed": false,
     "input": [
      "sub_array.flatten()"
     ],
     "language": "python",
     "metadata": {},
     "outputs": []
    },
    {
     "cell_type": "code",
     "collapsed": false,
     "input": [
      "sub_array.ravel()"
     ],
     "language": "python",
     "metadata": {},
     "outputs": []
    },
    {
     "cell_type": "code",
     "collapsed": false,
     "input": [
      "sub_array.flatten()[1::2]"
     ],
     "language": "python",
     "metadata": {},
     "outputs": []
    },
    {
     "cell_type": "markdown",
     "metadata": {},
     "source": [
      "**Aside** the any function/method"
     ]
    },
    {
     "cell_type": "code",
     "collapsed": false,
     "input": [
      "np.any(np.array([True, False]))"
     ],
     "language": "python",
     "metadata": {},
     "outputs": []
    },
    {
     "cell_type": "code",
     "collapsed": false,
     "input": [
      "np.any(np.array([False, False]))"
     ],
     "language": "python",
     "metadata": {},
     "outputs": []
    },
    {
     "cell_type": "code",
     "collapsed": false,
     "input": [
      "np.any(np.array([0,0]))"
     ],
     "language": "python",
     "metadata": {},
     "outputs": []
    },
    {
     "cell_type": "code",
     "collapsed": false,
     "input": [
      "np.any(np.array([1,0]))"
     ],
     "language": "python",
     "metadata": {},
     "outputs": []
    },
    {
     "cell_type": "code",
     "collapsed": false,
     "input": [
      "np.any(np.array([2,2]))"
     ],
     "language": "python",
     "metadata": {},
     "outputs": []
    },
    {
     "cell_type": "markdown",
     "metadata": {},
     "source": [
      "* What happens at a site on the next iteration is determined by a number of things\n",
      "* **1)** If this site is already burning, then the tree burns down and is now an empty site\n",
      "* **2)** If any neighbors are burning, then the fire may spread\n",
      "  - If a site as `prob_immune`, then the probability of catching fire is `1 - prob_immune`\n",
      "* **3)** A tree can also catch on fire if is struck by lightning with probability `prob_lightning`\n",
      "  - However, a tree may not burn if struck with probability `prob_immune`\n",
      "  - The probability that a tree gets struch by lightning AND catches on fire is\n",
      "  - `prob_lightning x (1 - prob_immune)`"
     ]
    },
    {
     "cell_type": "code",
     "collapsed": false,
     "input": [
      "np.random.seed(12345)\n",
      "sample_small_grid = init_grid(3, prob_tree=.8, prob_burning=.4) \n",
      "sample_small_grid"
     ],
     "language": "python",
     "metadata": {},
     "outputs": []
    },
    {
     "cell_type": "code",
     "collapsed": false,
     "input": [
      "def spread(small_grid, prob_lightning, prob_immune):\n",
      "    \"\"\"\n",
      "    small_grid is a 3x3 array\n",
      "    \"\"\"\n",
      "    # no tree or burned down\n",
      "    if (small_grid[1,1] == 2 or \n",
      "        small_grid[0,0] == 0):\n",
      "        return 0\n",
      "    # any neighbors are burning\n",
      "    if ((small_grid.flatten()[1::2] == 2).any() and \n",
      "         # it's burning now\n",
      "         np.binomial(1, 1 - prob_immune)): \n",
      "        return 2\n",
      "    \n",
      "    # it hasn't caught fire yet\n",
      "    if np.binomial(1, (1 - prob_immune)*prob_lightning):\n",
      "        return 2\n",
      "        \n",
      "    return 1\n",
      "    "
     ],
     "language": "python",
     "metadata": {},
     "outputs": []
    },
    {
     "cell_type": "heading",
     "level": 4,
     "metadata": {},
     "source": [
      "Periodic Boundary Conditions"
     ]
    },
    {
     "cell_type": "markdown",
     "metadata": {},
     "source": [
      "* `spread` takes arguments for N, S, E, and W\n",
      "* The values on the edges of our grid do not have neighbors outside the bounds\n",
      "* We can extend the grid by one cell to take care of this\n",
      "* Several choices exist for what avlue to give to those cells\n",
      "  - **Absorbing boundary conditions** Each boundary cell is EMPTY. The boundary insulates.\n",
      "  - Give each boundary cell the value of its immediate neighbor\n",
      "  - **Periodic boundary conditions** Wrap north-south values and the east-west values like a torus\n",
      "* We will use **periodic boundary conditions** so that one boundary affects its opposite boundary cells"
     ]
    },
    {
     "cell_type": "code",
     "collapsed": false,
     "input": [
      "fig, ax = plt.subplots(figsize=(7, 7))\n",
      "ax.grid(linestyle=\"-\", color=\"k\", lw=1, )\n",
      "ax.set_xlim(0, 10)\n",
      "ax.set_ylim(0, 10)\n",
      "ax.set_xticks(range(10))\n",
      "ax.set_yticks(range(10))\n",
      "ax.set_xticklabels([])\n",
      "ax.set_yticklabels([])\n",
      "ax.set_xlabel(\"n\", fontsize=\"x-large\")\n",
      "ax.set_ylabel(\"n\", fontsize=\"x-large\", rotation=\"horizontal\");\n",
      "ax.set_axisbelow(False)\n",
      "ax.fill_between(range(11), 0, 1, color=\"purple\")\n",
      "ax.fill_between(range(11), 9, 10, color=\"purple\")\n",
      "ax.fill_betweenx(range(11), 0, 1, color=\"purple\")\n",
      "ax.fill_betweenx(range(11), 9, 10, color=\"purple\");"
     ],
     "language": "python",
     "metadata": {},
     "outputs": []
    },
    {
     "cell_type": "markdown",
     "metadata": {},
     "source": [
      "**Aside** N-D moving windows using scipy"
     ]
    },
    {
     "cell_type": "code",
     "collapsed": false,
     "input": [
      "from scipy import ndimage"
     ],
     "language": "python",
     "metadata": {},
     "outputs": []
    },
    {
     "cell_type": "code",
     "collapsed": false,
     "input": [
      "sample_array = np.arange(1,10).reshape(3,3)"
     ],
     "language": "python",
     "metadata": {},
     "outputs": []
    },
    {
     "cell_type": "code",
     "collapsed": false,
     "input": [
      "print sample_array"
     ],
     "language": "python",
     "metadata": {},
     "outputs": []
    },
    {
     "cell_type": "code",
     "collapsed": false,
     "input": [
      "def func_to_apply(grid):\n",
      "    #print grid\n",
      "    #print grid.reshape(3,3)\n",
      "    return grid[1]"
     ],
     "language": "python",
     "metadata": {},
     "outputs": []
    },
    {
     "cell_type": "code",
     "collapsed": false,
     "input": [
      "ndimage.generic_filter(sample_array, func_to_apply, size=3, \n",
      "                       mode='wrap')"
     ],
     "language": "python",
     "metadata": {},
     "outputs": []
    },
    {
     "cell_type": "code",
     "collapsed": false,
     "input": [
      "np.random.seed(12345)\n",
      "sample_small_grid = init_grid(4, prob_tree=.8, prob_burning=.4) \n",
      "sample_small_grid"
     ],
     "language": "python",
     "metadata": {},
     "outputs": []
    },
    {
     "cell_type": "markdown",
     "metadata": {},
     "source": [
      "* Take point (1, 1)\n",
      "* What is the state of this site?\n",
      "* In writing out spread function, it will take the surrounding submatrix"
     ]
    },
    {
     "cell_type": "code",
     "collapsed": false,
     "input": [
      "sample_small_grid[:3, :3]"
     ],
     "language": "python",
     "metadata": {},
     "outputs": []
    },
    {
     "cell_type": "markdown",
     "metadata": {},
     "source": [
      "* As we saw above, however, it will get a raveled or flattened version of this array"
     ]
    },
    {
     "cell_type": "code",
     "collapsed": false,
     "input": [
      "sample_small_grid[:3, :3].flatten()"
     ],
     "language": "python",
     "metadata": {},
     "outputs": []
    },
    {
     "cell_type": "code",
     "collapsed": false,
     "input": [
      "def spread(small_grid, prob_lightning, prob_immune):\n",
      "    \"\"\"\n",
      "    small_grid is a flattened 3x3 array\n",
      "    \"\"\"\n",
      "    # no tree or burned down\n",
      "    if (small_grid[4] == 2 or small_grid[4] == 0):\n",
      "        return 0\n",
      "    # any neighbors are burning\n",
      "    elif ((small_grid[1::2] == 2).any() and \n",
      "         # it's burning now\n",
      "         np.random.binomial(1, 1 - prob_immune)): \n",
      "        return 2\n",
      "    # it hasn't caught fire yet\n",
      "    elif np.random.binomial(1, (1 - prob_immune)*prob_lightning):\n",
      "        return 2\n",
      "    else:    \n",
      "        return 1"
     ],
     "language": "python",
     "metadata": {},
     "outputs": []
    },
    {
     "cell_type": "code",
     "collapsed": false,
     "input": [
      "def simulate_fire(n, prob_tree, prob_burning, prob_lightning, \n",
      "                  prob_immune, t):\n",
      "    grids = []\n",
      "    grid = init_grid(n, prob_tree, prob_burning)\n",
      "    grids.append(grid)\n",
      "    for i in range(t):\n",
      "        new_grid = np.zeros_like(grid)\n",
      "        ndimage.generic_filter(grids[-1], spread, size=3, mode=\"wrap\", \n",
      "                               output=new_grid, \n",
      "                               extra_arguments=(prob_lightning,\n",
      "                                                prob_immune))\n",
      "        grids.append(new_grid.copy())\n",
      "    return grids"
     ],
     "language": "python",
     "metadata": {},
     "outputs": []
    },
    {
     "cell_type": "code",
     "collapsed": false,
     "input": [
      "np.random.seed(12345)\n",
      "simulated_fire = simulate_fire(50, .8, .0005, .00001, .25, 50)"
     ],
     "language": "python",
     "metadata": {},
     "outputs": []
    },
    {
     "cell_type": "code",
     "collapsed": false,
     "input": [
      "for i, fire in enumerate(simulated_fire):\n",
      "    fig, ax = plt.subplots(figsize=(8,8))\n",
      "    # pcolor\n",
      "    ax.imshow(fire, interpolation='none', cmap=color_map, \n",
      "              norm=norm)\n",
      "    ax.grid(False)\n",
      "    ax.set_xticklabels([])\n",
      "    ax.set_yticklabels([]);\n",
      "    fig.savefig(\"fire_animate%02d.png\" % i)\n",
      "plt.close('all')"
     ],
     "language": "python",
     "metadata": {},
     "outputs": []
    },
    {
     "cell_type": "code",
     "collapsed": false,
     "input": [
      "!rm animated_fire.webm"
     ],
     "language": "python",
     "metadata": {},
     "outputs": []
    },
    {
     "cell_type": "code",
     "collapsed": false,
     "input": [
      "!ffmpeg -f image2 -r 1/2 -i fire_animate%02d.png -r 30 animated_fire.webm"
     ],
     "language": "python",
     "metadata": {},
     "outputs": []
    }
   ],
   "metadata": {}
  }
 ]
}
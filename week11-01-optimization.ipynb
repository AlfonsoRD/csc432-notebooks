{
 "metadata": {
  "name": "optimization"
 },
 "nbformat": 3,
 "nbformat_minor": 0,
 "worksheets": [
  {
   "cells": [
    {
     "cell_type": "heading",
     "level": 4,
     "metadata": {},
     "source": [
      "Optimization"
     ]
    },
    {
     "cell_type": "markdown",
     "metadata": {},
     "source": [
      "* Mathematical optimization is another technique that you will encounter often\n",
      "* We can also develop the solution to least squares as an optimization problem\n",
      "* However, we almost never actually solve least squares as an optimization problem\n",
      "* First, let's discuss optimization in a bit detail"
     ]
    },
    {
     "cell_type": "markdown",
     "metadata": {},
     "source": [
      "* As many things, as you will find, optimization is both an art and science\n",
      "* Let's start with an example\n",
      "\n",
      "Take some univariate function f(x)\n",
      "\n",
      "The problem is to find\n",
      "\n",
      "$$\\min_x f(x)\\mbox{, for }x\\in\\mathbb{R}$$\n",
      "<br /><br />\n",
      "Let $x^*$ be the argmin of this problem. \n",
      "\n",
      "You should recall from your math classes that there are two necessary conditions for a local minimum \n",
      "\n",
      "   1. $f^{\\prime}(x^*)=0$\n",
      "   2. $f^{\\prime\\prime}(x^*)\\ge 0$\n",
      "    \n",
      "There are two sufficient conditions for a local minimum\n",
      "\n",
      "   1. $f^{\\prime}(x^*)=0$\n",
      "   2. $f^{\\prime\\prime}(x^*)>0$\n",
      "    \n",
      "So what about when $f^{\\prime}(x^*)=f^{\\prime \\prime}(x^*)=0$?\n",
      "\n",
      "The sufficient conditions for a local extremum (minimum or maximum)\n",
      "\n",
      "Let $f^{\\prime}(x^*)=f^{\\prime \\prime}(x^*)=\\dots=f^{(n-1)}x^*=0$ and $f^{(n)}(x^*)\\neq0$\n",
      "\n",
      "then\n",
      "\n",
      "* If $f^{(n)} > 0$ and $n$ is even, $x^*$ is a local minimum point\n",
      "* If $f^{(n)} < 0$ and $n$ is even, $x^*$ is a local maximum point\n",
      "* If $n$ is odd, then we have a *saddle point* (neither a minimum nor a maximum)"
     ]
    },
    {
     "cell_type": "markdown",
     "metadata": {},
     "source": [
      "* It is quite common to only speak of minimization problems\n",
      "* In fact, scipy only has minimization routines\n",
      "* Why? Any maximization problem can be easily turned into a minimization problem\n",
      "\n",
      "$$\\max_xf(x)=\\min_x-f(x)$$"
     ]
    },
    {
     "cell_type": "heading",
     "level": 3,
     "metadata": {},
     "source": [
      "Examples"
     ]
    },
    {
     "cell_type": "markdown",
     "metadata": {},
     "source": [
      "$$f(x)=x^2-2$$"
     ]
    },
    {
     "cell_type": "code",
     "collapsed": false,
     "input": [
      "x = np.linspace(-3, 3, 100)"
     ],
     "language": "python",
     "metadata": {},
     "outputs": [],
     "prompt_number": 1
    },
    {
     "cell_type": "code",
     "collapsed": false,
     "input": [
      "func = lambda x : x**2 - 2\n",
      "\n",
      "fig, ax = plt.subplots()\n",
      "ax.plot(x, func(x))\n",
      "ax.set_ylim(-2.5, 5)"
     ],
     "language": "python",
     "metadata": {},
     "outputs": [
      {
       "output_type": "pyout",
       "prompt_number": 2,
       "text": [
        "(-2.5, 5)"
       ]
      },
      {
       "output_type": "display_data",
       "png": "[encoded data removed]",
       "text": [
        "<matplotlib.figure.Figure at 0x4416cd0>"
       ]
      }
     ],
     "prompt_number": 2
    },
    {
     "cell_type": "markdown",
     "metadata": {},
     "source": [
      "$f(x) = x^3 + 4$"
     ]
    },
    {
     "cell_type": "code",
     "collapsed": false,
     "input": [
      "func = lambda x : x**3 + 4\n",
      "\n",
      "fig, ax = plt.subplots()\n",
      "ax.plot(x, func(x))"
     ],
     "language": "python",
     "metadata": {},
     "outputs": [
      {
       "output_type": "pyout",
       "prompt_number": 3,
       "text": [
        "[<matplotlib.lines.Line2D at 0x4427710>]"
       ]
      },
      {
       "output_type": "display_data",
       "png": "[encoded data removed]",
       "text": [
        "<matplotlib.figure.Figure at 0x4427f10>"
       ]
      }
     ],
     "prompt_number": 3
    },
    {
     "cell_type": "markdown",
     "metadata": {},
     "source": [
      "$$f(x)=x^4 - 2x^3 - 2x^2 + 3$$"
     ]
    },
    {
     "cell_type": "code",
     "collapsed": false,
     "input": [
      "x = np.linspace(-5, 5, 100)\n",
      "func = lambda x : x**4 - 2*x**3 - 2*x**2 + 3\n",
      "\n",
      "fig, ax = plt.subplots()\n",
      "ax.plot(x, func(x))\n",
      "ax.set_ylim(-6, 10)\n",
      "ax.set_xlim(-2, 4);"
     ],
     "language": "python",
     "metadata": {},
     "outputs": [
      {
       "output_type": "display_data",
       "png": "[encoded data removed]",
       "text": [
        "<matplotlib.figure.Figure at 0x4693f10>"
       ]
      }
     ],
     "prompt_number": 4
    },
    {
     "cell_type": "heading",
     "level": 4,
     "metadata": {},
     "source": [
      "Optimization in Statistics"
     ]
    },
    {
     "cell_type": "markdown",
     "metadata": {},
     "source": [
      "* One place we use optimization a lot is in maximum likelihood optimization\n",
      "* Maximum likelihood is another way to solve for linear model parameters\n",
      "* Whereas, in least squares, you can think of the objective function as the sum of squared errors\n",
      "\n",
      "$$\\min_\\beta\\sum_i(y-X\\beta)^2$$\n",
      "\n",
      "* For maximum likelihood, the objective is to maximize the (log-)likelihood function\n",
      "\n",
      "$$\\mathcal{L}=\\prod_i f(x_i|\\theta)$$\n",
      "$$\\ln\\mathcal{L}=\\sum_i \\ln f(x_i|\\theta)$$"
     ]
    }
   ],
   "metadata": {}
  }
 ]
}
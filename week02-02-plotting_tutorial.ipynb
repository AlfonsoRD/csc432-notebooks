{
 "metadata": {
  "name": "plotting_tutorial"
 },
 "nbformat": 3,
 "nbformat_minor": 0,
 "worksheets": [
  {
   "cells": [
    {
     "cell_type": "heading",
     "level": 2,
     "metadata": {},
     "source": [
      "Introduction to Matplotlib"
     ]
    },
    {
     "cell_type": "heading",
     "level": 4,
     "metadata": {},
     "source": [
      "Import Convention"
     ]
    },
    {
     "cell_type": "markdown",
     "metadata": {},
     "source": [
      "For interactive work, you'll likely only want to import `pyplot`."
     ]
    },
    {
     "cell_type": "code",
     "collapsed": false,
     "input": [
      "import matplotlib.pyplot as plt"
     ],
     "language": "python",
     "metadata": {},
     "outputs": []
    },
    {
     "cell_type": "heading",
     "level": 3,
     "metadata": {},
     "source": [
      "Interactive Plotting with PyPlot"
     ]
    },
    {
     "cell_type": "markdown",
     "metadata": {},
     "source": [
      "Matplotlib is the standard plotting library for Python. If you are going to be doing some quick plotting during an interactive sessions, then you can use [matplotlib.pyplot](http://matplotlib.org/api/pyplot_api.html#module-matplotlib.pyplot). Pyplot collects much of the plotting functions into a single namespace and works very similarly to MATLAB plotting commands. The pyplot commands are stateful, so you are always working with the current figure and plotting area. You probably will want to avoid using pyplot in scripts and library code, however."
     ]
    },
    {
     "cell_type": "markdown",
     "metadata": {},
     "source": [
      "**NOTE:** If you're using the notebook profile that I provided you, you'll notice that I have set matplotlib loop integration to `'inline'`. This means that plots are immediately shown as soon as they are created. In the notebook, this means that you should update all the plots in the same `cell`. If you're working at the interpreter and you have interactive set to True, when you change a plot you may need to call `plt.draw_if_interactive` to update the plot. If you are not working in with interactive set to True, then you will need to call `plt.show()` to display your plots."
     ]
    },
    {
     "cell_type": "code",
     "collapsed": false,
     "input": [
      "x = np.linspace(1, 3, 30)\n",
      "y = np.linspace(1, 10, 30)\n",
      "lines = plt.plot(x, y)\n",
      "points = plt.plot(x, y, 'o')"
     ],
     "language": "python",
     "metadata": {},
     "outputs": []
    },
    {
     "cell_type": "heading",
     "level": 3,
     "metadata": {},
     "source": [
      "Library plotting"
     ]
    },
    {
     "cell_type": "code",
     "collapsed": false,
     "input": [
      "fig, ax = plt.subplots()\n",
      "lines = ax.plot(x, y)\n",
      "points = ax.plot(x, y, 'd', color='red', markersize=14)\n",
      "#lines[0].set_linewidth(10)"
     ],
     "language": "python",
     "metadata": {},
     "outputs": []
    },
    {
     "cell_type": "code",
     "collapsed": false,
     "input": [
      "fig = plt.figure()\n",
      "ax = fig.add_subplot(111)\n",
      "lines = ax.plot(x, y)\n",
      "points = ax.plot(x, y, 'o')"
     ],
     "language": "python",
     "metadata": {},
     "outputs": []
    },
    {
     "cell_type": "code",
     "collapsed": false,
     "input": [
      "line = lines[0]\n",
      "line?"
     ],
     "language": "python",
     "metadata": {},
     "outputs": []
    },
    {
     "cell_type": "heading",
     "level": 4,
     "metadata": {},
     "source": [
      "Multiple Axes"
     ]
    },
    {
     "cell_type": "code",
     "collapsed": false,
     "input": [
      "fig, (ax1, ax2) = plt.subplots(nrows=2, ncols=1, figsize=(10,6))\n",
      "lines1 = ax1.plot(np.linspace(0, 1, 100), np.random.random(size=100))\n",
      "lines2 = ax2.plot(np.linspace(0, 1, 100), np.random.random(size=100), 'r')"
     ],
     "language": "python",
     "metadata": {},
     "outputs": []
    },
    {
     "cell_type": "heading",
     "level": 4,
     "metadata": {},
     "source": [
      "Plot an Image"
     ]
    },
    {
     "cell_type": "code",
     "collapsed": false,
     "input": [
      "np.random.seed(12345)\n",
      "image = np.random.random((50,50))"
     ],
     "language": "python",
     "metadata": {},
     "outputs": []
    },
    {
     "cell_type": "code",
     "collapsed": false,
     "input": [
      "print image[:5, :5]"
     ],
     "language": "python",
     "metadata": {},
     "outputs": []
    },
    {
     "cell_type": "code",
     "collapsed": false,
     "input": [
      "fig, ax = plt.subplots()\n",
      "img = ax.imshow(image)\n",
      "fig.colorbar(img);"
     ],
     "language": "python",
     "metadata": {},
     "outputs": []
    },
    {
     "cell_type": "code",
     "collapsed": false,
     "input": [
      "from scipy import sparse\n",
      "image = sparse.rand(60, 60, density=.05).toarray()\n",
      "print image[:6,:6]"
     ],
     "language": "python",
     "metadata": {},
     "outputs": []
    },
    {
     "cell_type": "code",
     "collapsed": false,
     "input": [
      "fig, ax = plt.subplots()\n",
      "img = ax.imshow(image, cmap=plt.cm.gray)\n",
      "fig.colorbar(img);"
     ],
     "language": "python",
     "metadata": {},
     "outputs": []
    },
    {
     "cell_type": "code",
     "collapsed": false,
     "input": [
      "from scipy import misc\n",
      "import Image\n",
      "\n",
      "fig, ax = plt.subplots()\n",
      "\n",
      "img = Image.open(\"cage.jpeg\")\n",
      "ax.imshow(img)\n",
      "\n",
      "#img = misc.lena()\n",
      "#ax.imshow(img, cmap=plt.cm.gray)\n",
      "ax.grid(False)\n",
      "ax.xaxis.set_visible(False)\n",
      "ax.yaxis.set_visible(False)"
     ],
     "language": "python",
     "metadata": {},
     "outputs": []
    },
    {
     "cell_type": "markdown",
     "metadata": {},
     "source": [
      "Convert to Lab format to change the color map."
     ]
    },
    {
     "cell_type": "code",
     "collapsed": false,
     "input": [
      "cage = Image.open(\"cage.jpeg\")\n",
      "cage_L = cage.convert(\"L\")\n",
      "fig, ax = plt.subplots()\n",
      "# sepia filter\n",
      "ax.imshow(cage_L, cmap=plt.cm.pink)\n",
      "ax.grid(False)\n",
      "ax.xaxis.set_visible(False)\n",
      "ax.yaxis.set_visible(False)"
     ],
     "language": "python",
     "metadata": {},
     "outputs": []
    },
    {
     "cell_type": "heading",
     "level": 2,
     "metadata": {},
     "source": [
      "3-D Plotting with Matplotlib"
     ]
    },
    {
     "cell_type": "markdown",
     "metadata": {},
     "source": [
      "Matplotlib is usually fine for basic 3D plotting, but if you want to do serious 3-d applications, you might consider looking at [Mayavi](http://docs.enthought.com/mayavi/mayavi/)."
     ]
    },
    {
     "cell_type": "code",
     "collapsed": false,
     "input": [
      "import numpy as np\n",
      "from scipy import stats\n",
      "\n",
      "x1, x2 = np.random.multivariate_normal([0, 0], [[1,0],[0,1]], size=500).T\n",
      "xmin = x1.min()\n",
      "xmax = x1.max()\n",
      "ymin = x2.min()\n",
      "ymax = x2.max()\n",
      "X, Y = np.mgrid[xmin:xmax:100j, ymin:ymax:100j]\n",
      "positions = np.vstack([X.ravel(), Y.ravel()])\n",
      "values = np.vstack([x1, x2])\n",
      "kernel = stats.gaussian_kde(values)\n",
      "Z = np.reshape(kernel(positions).T, X.shape)"
     ],
     "language": "python",
     "metadata": {},
     "outputs": []
    },
    {
     "cell_type": "code",
     "collapsed": false,
     "input": [
      "from mpl_toolkits.mplot3d import Axes3D\n",
      "fig, ax = plt.subplots(subplot_kw=dict(projection=\"3d\"))\n",
      "plot3d = ax.plot_surface(X, Y, Z, cmap=plt.cm.jet, rstride=2, cstride=2, \n",
      "                         alpha=.4)\n",
      "cset = ax.contour(X, Y, Z, zdir='x', offset=-3, cmap=cm.coolwarm)\n",
      "cset = ax.contour(X, Y, Z, zdir='y', offset=2, cmap=cm.coolwarm)"
     ],
     "language": "python",
     "metadata": {},
     "outputs": []
    }
   ],
   "metadata": {}
  }
 ]
}
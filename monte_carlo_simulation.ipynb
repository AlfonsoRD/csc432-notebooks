{
 "metadata": {
  "name": "monte_carlo_simulation"
 },
 "nbformat": 3,
 "nbformat_minor": 0,
 "worksheets": [
  {
   "cells": [
    {
     "cell_type": "heading",
     "level": 4,
     "metadata": {},
     "source": [
      "When to use Simulations"
     ]
    },
    {
     "cell_type": "markdown",
     "metadata": {},
     "source": [
      "* not feasible to do the actual experiment\n",
      "* cost is prohibitive\n",
      "* system does not exist yet\n",
      "* want to test alternatives (counterfactuals)"
     ]
    },
    {
     "cell_type": "heading",
     "level": 4,
     "metadata": {},
     "source": [
      "Monte Carlo Simulation"
     ]
    },
    {
     "cell_type": "markdown",
     "metadata": {},
     "source": [
      "* stochastic simulation involves **pseudorandom numbers**\n",
      "* simulations are often called **Monte Carlo simulations**\n",
      "* A Monte Carlo simulation is a probabilistic model involving an element of chance"
     ]
    },
    {
     "cell_type": "heading",
     "level": 4,
     "metadata": {},
     "source": [
      "Disadvatageous Aspects"
     ]
    },
    {
     "cell_type": "markdown",
     "metadata": {},
     "source": [
      "* simulation may be expensive in time or money to develop\n",
      "* impossible to test every alternative - so good solutions but not best\n",
      "* need to be careful of conclusions due to probabilistic nature of simulation\n",
      "* results may be difficult to verify for lack of real-world data\n",
      "* cannot be sure we understand what the simulation does (black box)"
     ]
    },
    {
     "cell_type": "heading",
     "level": 4,
     "metadata": {},
     "source": [
      "History Lesson"
     ]
    },
    {
     "cell_type": "markdown",
     "metadata": {},
     "source": [
      "* Monte Carlo simulation developed by John von Neumann and Stanislaus Ulam during work on Manhattan Project\n",
      "* Know behavior of one neutron but did not have a formula for a system\n",
      "* Needed to know system behavior to construct dampers and shields for atomic bombs\n",
      "* Experimentation, obviously, too time consuming and dangerous"
     ]
    },
    {
     "cell_type": "heading",
     "level": 4,
     "metadata": {},
     "source": [
      "Linear congruential method"
     ]
    },
    {
     "cell_type": "markdown",
     "metadata": {},
     "source": [
      "* D.J. Lehmer (1949) presented a technig for generating uniformly distributed prn.\n",
      "$$r_0=seed$$\n",
      "$$r_n=\\left(multiplier \\times r_{n-1}+increment\\right) \\text{ mod } modulus\\text{, for }n>0$$\n",
      "* $seed$, $modulus$, and $multiplier$ are positive integers and $increment$ is a nonnegative integer"
     ]
    },
    {
     "cell_type": "markdown",
     "metadata": {},
     "source": [
      "* Let's generate random integers in [0,10]."
     ]
    },
    {
     "cell_type": "markdown",
     "metadata": {},
     "source": [
      "$$r_0 = 10$$\n",
      "$$r_n=(7r_{n-1}+1)\\;mod\\;11\\text{, for }n > 0$$"
     ]
    },
    {
     "cell_type": "code",
     "collapsed": false,
     "input": [
      "import numpy as np"
     ],
     "language": "python",
     "metadata": {},
     "outputs": []
    },
    {
     "cell_type": "code",
     "collapsed": false,
     "input": [
      "r0 = 10\n",
      "rn = r0\n",
      "random_numbers = []\n",
      "for i in range(100):\n",
      "    rn = (7*rn + 1) % 11\n",
      "    random_numbers.append(rn)"
     ],
     "language": "python",
     "metadata": {},
     "outputs": []
    },
    {
     "cell_type": "code",
     "collapsed": false,
     "input": [
      "random_numbers[:10]"
     ],
     "language": "python",
     "metadata": {},
     "outputs": []
    },
    {
     "cell_type": "code",
     "collapsed": false,
     "input": [
      "fig, ax = plt.subplots()\n",
      "ax.hist(random_numbers, bins=10, normed=True);"
     ],
     "language": "python",
     "metadata": {},
     "outputs": []
    },
    {
     "cell_type": "markdown",
     "metadata": {},
     "source": [
      "* What if we wanted floating point numbers between 0 and 1?\n",
      "* Divide the sequence by the **modulus**\n",
      "* This gives us numbers in [0, 1)\n",
      "* The largest number would be $(modulus-1)/modulus$"
     ]
    },
    {
     "cell_type": "markdown",
     "metadata": {},
     "source": [
      "* **Aside**: **broadcasting**!"
     ]
    },
    {
     "cell_type": "code",
     "collapsed": false,
     "input": [
      "float_prn = np.array(random_numbers)/11."
     ],
     "language": "python",
     "metadata": {},
     "outputs": []
    },
    {
     "cell_type": "code",
     "collapsed": false,
     "input": [
      "float_prn[:10]"
     ],
     "language": "python",
     "metadata": {},
     "outputs": []
    },
    {
     "cell_type": "markdown",
     "metadata": {},
     "source": [
      "* Not all choices of multiplier and modulus are good\n",
      "* Consider a choice of 5 and 11\n",
      "$$r_0 = 10$$\n",
      "$$r_1 = (5\\times10+1)\\text{ mod }11=7$$\n",
      "$$r_2 = (5\\times7+1)\\text{ mod }11=3$$\n",
      "$$r_3 = (5\\times3+1)\\text{ mod }11=5$$\n",
      "$$r_4 = (5\\times5+1)\\text{ mod }11=4$$\n",
      "$$r_5 = (5\\times4+1)\\text{ mod }11=10$$\n",
      "$$r_6 = (5\\times10+1)\\text{ mod }11=7$$\n",
      "$$\\vdots$$"
     ]
    },
    {
     "cell_type": "code",
     "collapsed": false,
     "input": [
      "r0 = 10\n",
      "rn = r0\n",
      "random_numbers = []\n",
      "for i in range(15):\n",
      "    rn = (5*rn + 1) % 11\n",
      "    random_numbers.append(rn)"
     ],
     "language": "python",
     "metadata": {},
     "outputs": []
    },
    {
     "cell_type": "code",
     "collapsed": false,
     "input": [
      "random_numbers"
     ],
     "language": "python",
     "metadata": {},
     "outputs": []
    },
    {
     "cell_type": "markdown",
     "metadata": {},
     "source": [
      "* This is an example of what is called the **periodicty** of a PRNG\n",
      "* The **period** is the maximum length of a repition-free sequence for all possible seeds\n",
      "* Best choices of $multiplier$ and $modulus$ have been researched heavily\n",
      "* Modulus is often max integer, such as, $2^{31}-1$, platform dependent\n",
      "* For this modulus, a multiplier of 16,807, and an increment of 0 this PNRG produces a sequence of $2^{31}-2$ elements"
     ]
    },
    {
     "cell_type": "markdown",
     "metadata": {},
     "source": [
      "* another potential problem is non-randomness"
     ]
    },
    {
     "cell_type": "code",
     "collapsed": false,
     "input": [
      "r0 = 10\n",
      "rn = r0\n",
      "random_numbers = []\n",
      "for i in range(10):\n",
      "    rn = (2*rn) % 11\n",
      "    random_numbers.append(rn)"
     ],
     "language": "python",
     "metadata": {},
     "outputs": []
    },
    {
     "cell_type": "code",
     "collapsed": false,
     "input": [
      "random_numbers"
     ],
     "language": "python",
     "metadata": {},
     "outputs": []
    },
    {
     "cell_type": "code",
     "collapsed": false,
     "input": [
      "random_numbers[4:8]"
     ],
     "language": "python",
     "metadata": {},
     "outputs": []
    },
    {
     "cell_type": "heading",
     "level": 4,
     "metadata": {},
     "source": [
      "Area Through Monte Carlo Simulation"
     ]
    },
    {
     "cell_type": "markdown",
     "metadata": {},
     "source": [
      "* Much of calculus is concerned with finding the area between a curve and the x-axis over a certain interval\n",
      "* With integration we can compute the exact area of many functions\n",
      "* For other, this is impossible\n",
      "* For example, take \n",
      "\n",
      "$$f(x)=\\sqrt{cos^2(x)+1}$$\n",
      "\n",
      "between $0$ and $2$."
     ]
    },
    {
     "cell_type": "code",
     "collapsed": false,
     "input": [
      "import matplotlib.pyplot as plt"
     ],
     "language": "python",
     "metadata": {},
     "outputs": []
    },
    {
     "cell_type": "code",
     "collapsed": false,
     "input": [
      "def func(x):\n",
      "    return np.sqrt(np.cos(x)**2+1)"
     ],
     "language": "python",
     "metadata": {},
     "outputs": []
    },
    {
     "cell_type": "code",
     "collapsed": false,
     "input": [
      "x = np.linspace(0,2,100)\n",
      "\n",
      "fig, ax = plt.subplots(figsize=(8,6))\n",
      "\n",
      "ax.plot(x, func(x))\n",
      "ax.set_ylim(0, 1.6);"
     ],
     "language": "python",
     "metadata": {},
     "outputs": []
    },
    {
     "cell_type": "markdown",
     "metadata": {},
     "source": [
      "* we cannot integrate to find the area under the curve because this function does not have an antiderivative that is an elementary function"
     ]
    },
    {
     "cell_type": "heading",
     "level": 4,
     "metadata": {},
     "source": [
      "\"Throwing Darts for Area\""
     ]
    },
    {
     "cell_type": "markdown",
     "metadata": {},
     "source": [
      "$$\\text{area}\\approx(\\text{area of enclosing rectangle})\\left(\\frac{\\text{# darts below}}{\\text{# darts}}\\right)$$"
     ]
    },
    {
     "cell_type": "markdown",
     "metadata": {},
     "source": [
      "* Take some bounding rectangle, say $2\\times1.5$.\n",
      "* area = $(2)(1.5)=3$\n",
      "* If we throw 1000 darts and 778 of them hit below the graph, then 778/1000=.778=77.8%\n",
      "* This is our estimate of the percentage of the rectangle below the curve\n",
      "$$area\\approx3.0\\times778/1000=2.334$$"
     ]
    },
    {
     "cell_type": "markdown",
     "metadata": {},
     "source": [
      "* This is an example of a method called **rejection sampling** or **acceptance-rejection sampling**\n",
      "* The candidate distribution here is the proposal distribution (hence the rectangle)"
     ]
    },
    {
     "cell_type": "markdown",
     "metadata": {},
     "source": [
      "**Review Question** Write code that does this. Steps:\n",
      "\n",
      "1. Pick recangular bounds for x - (0, 2) - and y - (0, 1.5)\n",
      "2. Use `np.random.uniform` to draw 1000 x points and 1000 y points.\n",
      "3. Calculate the true values of y at your sample x points.\n",
      "4. Plot the random points on the graph as the curve.\n",
      "5. What percentage of the random y points are below the true y points?\n",
      "6. What is the approximate area under the curve?"
     ]
    }
   ],
   "metadata": {}
  }
 ]
}
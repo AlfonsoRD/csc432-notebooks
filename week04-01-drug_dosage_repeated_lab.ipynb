{
 "metadata": {
  "name": "drug_dosage_repeated_class"
 },
 "nbformat": 3,
 "nbformat_minor": 0,
 "worksheets": [
  {
   "cells": [
    {
     "cell_type": "code",
     "collapsed": false,
     "input": [
      "import numpy as np\n",
      "from scipy import integrate\n",
      "import matplotlib.pyplot as plt"
     ],
     "language": "python",
     "metadata": {},
     "outputs": []
    },
    {
     "cell_type": "code",
     "collapsed": false,
     "input": [
      "# constants\n",
      "min_effective = 10 # ug/ml\n",
      "min_toxic = 20 # ug/ml\n",
      "\n",
      "# ordinary variables\n",
      "interval = 8 # hours\n",
      "time_start = 0 \n",
      "absorption_fraction = .12\n",
      "dosage = 100 * 1000 # ug\n",
      "half_life = 22 # hours\n",
      "plasma_volume = 3000 # ml\n",
      "\n",
      "# derived variables\n",
      "elimination_constant = -np.log(.5) / half_life\n",
      "\n",
      "\n",
      "dt = .1\n",
      "time_grid = np.arange(time_start, 169, dt)\n",
      "\n",
      "# instantiate stock variables\n",
      "drug_in_system = np.zeros_like(time_grid)\n",
      "\n",
      "def take_pill(t, interval, dosage):\n",
      "    if np.allclose(t % interval, 0):\n",
      "        return dosage\n",
      "    else:\n",
      "        return 0\n",
      "\n",
      "for i, t in enumerate(time_grid[:-1]):\n",
      "    ingest = (absorption_fraction * \n",
      "              take_pill(t, interval, dosage))\n",
      "    eliminate = (-elimination_constant * \n",
      "                  drug_in_system[i] * dt)\n",
      "    drug_in_system[i+1] = (drug_in_system[i] + \n",
      "                           ingest + eliminate)"
     ],
     "language": "python",
     "metadata": {},
     "outputs": []
    },
    {
     "cell_type": "code",
     "collapsed": false,
     "input": [
      "# derived variables\n",
      "\n",
      "concentration = drug_in_system/plasma_volume"
     ],
     "language": "python",
     "metadata": {},
     "outputs": []
    },
    {
     "cell_type": "code",
     "collapsed": false,
     "input": [
      "fig, ax = plt.subplots(subplot_kw=dict(\n",
      "                        ylabel='concentration',\n",
      "                        xlabel='time (hours)'))\n",
      "ax.plot(time_grid, concentration, \"k\",\n",
      "        linewidth=2)\n",
      "ax.hlines(min_effective, time_grid[1], \n",
      "          time_grid[-1], color='k',\n",
      "          lw=2)\n",
      "ax.hlines(min_toxic, time_grid[1], \n",
      "          time_grid[-1], color='k',\n",
      "          lw=2)\n",
      "ax.set_ylim(0, 22)\n",
      "ax.set_xlim(0, 168)\n",
      "ax.grid(False)\n",
      "ax.xaxis.set_ticks(time_grid[::80*3]);"
     ],
     "language": "python",
     "metadata": {},
     "outputs": []
    }
   ],
   "metadata": {}
  }
 ]
}
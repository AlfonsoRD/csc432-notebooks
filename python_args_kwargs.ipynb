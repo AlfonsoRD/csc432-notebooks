{
 "metadata": {
  "name": "python_args_kwargs"
 },
 "nbformat": 3,
 "nbformat_minor": 0,
 "worksheets": [
  {
   "cells": [
    {
     "cell_type": "heading",
     "level": 3,
     "metadata": {},
     "source": [
      "Arguments and Keyword Arguments"
     ]
    },
    {
     "cell_type": "markdown",
     "metadata": {},
     "source": [
      "The *args and **kwargs notations are used to pass variable number of arguments arguments to a function."
     ]
    },
    {
     "cell_type": "heading",
     "level": 3,
     "metadata": {},
     "source": [
      "Arguments"
     ]
    },
    {
     "cell_type": "code",
     "collapsed": false,
     "input": [
      "def pfunc(arg1, arg2, arg3=2):\n",
      "    print \"arg1\", arg1\n",
      "    print \"arg2\", arg2\n",
      "    print \"arg3\", arg3\n",
      "    \n",
      "def pfunc2(arg1, arg2):\n",
      "    print \"arg1\", arg1\n",
      "    print \"arg2\", arg2"
     ],
     "language": "python",
     "metadata": {},
     "outputs": [],
     "prompt_number": 3
    },
    {
     "cell_type": "heading",
     "level": 4,
     "metadata": {},
     "source": [
      "*args in calling function"
     ]
    },
    {
     "cell_type": "markdown",
     "metadata": {},
     "source": [
      "This allows us to use the same structure for calling any function with a variable number of arguments."
     ]
    },
    {
     "cell_type": "code",
     "collapsed": false,
     "input": [
      "args = (12,  15, 10)\n",
      "pfunc(*args)"
     ],
     "language": "python",
     "metadata": {},
     "outputs": [
      {
       "output_type": "stream",
       "stream": "stdout",
       "text": [
        "arg1 12\n",
        "arg2 15\n",
        "arg3 10\n"
       ]
      }
     ],
     "prompt_number": 4
    },
    {
     "cell_type": "code",
     "collapsed": false,
     "input": [
      "def call_func(func, args):\n",
      "    return func(*args)"
     ],
     "language": "python",
     "metadata": {},
     "outputs": [],
     "prompt_number": 7
    },
    {
     "cell_type": "code",
     "collapsed": false,
     "input": [
      "call_func(pfunc, (12, 15, 10))"
     ],
     "language": "python",
     "metadata": {},
     "outputs": [
      {
       "output_type": "stream",
       "stream": "stdout",
       "text": [
        "arg1 12\n",
        "arg2 15\n",
        "arg3 2\n"
       ]
      }
     ],
     "prompt_number": 11
    },
    {
     "cell_type": "code",
     "collapsed": false,
     "input": [
      "args = (12,  15, 10)\n",
      "call_func(pfunc, args)"
     ],
     "language": "python",
     "metadata": {},
     "outputs": []
    },
    {
     "cell_type": "code",
     "collapsed": false,
     "input": [
      "call_func(pfunc, (12, 15, 10))"
     ],
     "language": "python",
     "metadata": {},
     "outputs": []
    },
    {
     "cell_type": "code",
     "collapsed": false,
     "input": [
      "call_func(pfunc2, (15, 10))"
     ],
     "language": "python",
     "metadata": {},
     "outputs": []
    },
    {
     "cell_type": "heading",
     "level": 3,
     "metadata": {},
     "source": [
      "**kwargs in calling function"
     ]
    },
    {
     "cell_type": "code",
     "collapsed": false,
     "input": [
      "def call_func_kw(func, kwargs):\n",
      "    return func(**kwargs)"
     ],
     "language": "python",
     "metadata": {},
     "outputs": [],
     "prompt_number": 12
    },
    {
     "cell_type": "code",
     "collapsed": false,
     "input": [
      "call_func_kw(pfunc, dict(arg2=10, arg1=12, arg3=4))"
     ],
     "language": "python",
     "metadata": {},
     "outputs": [
      {
       "output_type": "stream",
       "stream": "stdout",
       "text": [
        "arg1 12\n",
        "arg2 10\n",
        "arg3 4\n"
       ]
      }
     ],
     "prompt_number": 13
    },
    {
     "cell_type": "heading",
     "level": 3,
     "metadata": {},
     "source": [
      "Accepting variable arguments"
     ]
    },
    {
     "cell_type": "code",
     "collapsed": false,
     "input": [
      "def accept_args(farg, *args):\n",
      "    print \"Formal argument\", farg\n",
      "    print \"args is type %s\" % type(args)\n",
      "    for arg in args:\n",
      "        print \"argument\", arg"
     ],
     "language": "python",
     "metadata": {},
     "outputs": [],
     "prompt_number": 15
    },
    {
     "cell_type": "code",
     "collapsed": false,
     "input": [
      "accept_args(10, 20, 30, \"blue\")"
     ],
     "language": "python",
     "metadata": {},
     "outputs": [
      {
       "output_type": "stream",
       "stream": "stdout",
       "text": [
        "Formal argument 10\n",
        "args is type <type 'tuple'>\n",
        "argument 20\n",
        "argument 30\n",
        "argument blue\n"
       ]
      }
     ],
     "prompt_number": 16
    },
    {
     "cell_type": "code",
     "collapsed": false,
     "input": [
      "def accept_args2(func, *args):\n",
      "    return func(*args)"
     ],
     "language": "python",
     "metadata": {},
     "outputs": [],
     "prompt_number": 17
    },
    {
     "cell_type": "code",
     "collapsed": false,
     "input": [
      "accept_args2(pfunc, 10, 8, 3)"
     ],
     "language": "python",
     "metadata": {},
     "outputs": [
      {
       "output_type": "stream",
       "stream": "stdout",
       "text": [
        "arg1 10\n",
        "arg2 8\n",
        "arg3 3\n"
       ]
      }
     ],
     "prompt_number": 18
    },
    {
     "cell_type": "heading",
     "level": 3,
     "metadata": {},
     "source": [
      "Accepting Keyword Arguments"
     ]
    },
    {
     "cell_type": "code",
     "collapsed": false,
     "input": [
      "d = dict(foo=2, bar=3)"
     ],
     "language": "python",
     "metadata": {},
     "outputs": [],
     "prompt_number": 20
    },
    {
     "cell_type": "code",
     "collapsed": false,
     "input": [
      "def accept_kwargs(farg, **kwargs):\n",
      "    print \"formula argument\", farg\n",
      "    print type(kwargs)\n",
      "    for key in kwargs:\n",
      "        print key, kwargs[key]"
     ],
     "language": "python",
     "metadata": {},
     "outputs": [],
     "prompt_number": 19
    },
    {
     "cell_type": "code",
     "collapsed": false,
     "input": [
      "accept_kwargs(10, foo=2, bar=12, arg3=\"boo\")"
     ],
     "language": "python",
     "metadata": {},
     "outputs": [
      {
       "output_type": "stream",
       "stream": "stdout",
       "text": [
        "formula argument 10\n",
        "<type 'dict'>\n",
        "foo 2\n",
        "bar 12\n",
        "arg3 boo\n"
       ]
      }
     ],
     "prompt_number": 26
    },
    {
     "cell_type": "markdown",
     "metadata": {},
     "source": [
      "You can combine *args and **kwargs"
     ]
    },
    {
     "cell_type": "code",
     "collapsed": false,
     "input": [
      "def func(farg, opt_arg=10, *args, **kwargs):\n",
      "    print \"formal argument\", farg\n",
      "    print \"optional argument\", opt_arg\n",
      "    for arg in args:\n",
      "        print \"arg\", arg\n",
      "    for key in kwargs:\n",
      "        print key, kwargs[key]"
     ],
     "language": "python",
     "metadata": {},
     "outputs": [],
     "prompt_number": 27
    },
    {
     "cell_type": "code",
     "collapsed": false,
     "input": [
      "func(10, 1, 2, 3, foo=\"bar\", bar=\"foo\", arg=21)"
     ],
     "language": "python",
     "metadata": {},
     "outputs": [
      {
       "output_type": "stream",
       "stream": "stdout",
       "text": [
        "formal argument 10\n",
        "optional argument 1\n",
        "arg 2\n",
        "arg 3\n",
        "foo bar\n",
        "bar foo\n",
        "arg 21\n"
       ]
      }
     ],
     "prompt_number": 28
    },
    {
     "cell_type": "code",
     "collapsed": false,
     "input": [
      "func(5, foo=\"bar\", bar=\"foo\", arg=21)"
     ],
     "language": "python",
     "metadata": {},
     "outputs": [
      {
       "output_type": "stream",
       "stream": "stdout",
       "text": [
        "formal argument 5\n",
        "optional argument 10\n",
        "foo bar\n",
        "bar foo\n",
        "arg 21\n"
       ]
      }
     ],
     "prompt_number": 29
    },
    {
     "cell_type": "code",
     "collapsed": false,
     "input": [
      "args = (1, 2, 3)\n",
      "kwargs = dict(foo=\"bar\", bar=\"foo\", arg=21)\n",
      "func(*args, **kwargs)"
     ],
     "language": "python",
     "metadata": {},
     "outputs": [
      {
       "output_type": "stream",
       "stream": "stdout",
       "text": [
        "formal argument 1\n",
        "optional argument 2\n",
        "arg 3\n",
        "foo bar\n",
        "bar foo\n",
        "arg 21\n"
       ]
      }
     ],
     "prompt_number": 31
    }
   ],
   "metadata": {}
  }
 ]
}
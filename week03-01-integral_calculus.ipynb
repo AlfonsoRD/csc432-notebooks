{
 "metadata": {
  "name": "integral_calculus"
 },
 "nbformat": 3,
 "nbformat_minor": 0,
 "worksheets": [
  {
   "cells": [
    {
     "cell_type": "heading",
     "level": 1,
     "metadata": {},
     "source": [
      "Integral Calculus"
     ]
    },
    {
     "cell_type": "code",
     "collapsed": false,
     "input": [
      "t_sec = np.arange(6)"
     ],
     "language": "python",
     "metadata": {},
     "outputs": []
    },
    {
     "cell_type": "code",
     "collapsed": false,
     "input": [
      "velocity = np.array([24, 33, 40, 45, 48, 49])"
     ],
     "language": "python",
     "metadata": {},
     "outputs": []
    },
    {
     "cell_type": "code",
     "collapsed": false,
     "input": [
      "np.column_stack((t_sec, velocity))"
     ],
     "language": "python",
     "metadata": {},
     "outputs": []
    },
    {
     "cell_type": "markdown",
     "metadata": {},
     "source": [
      "How far has the car travelled?"
     ]
    },
    {
     "cell_type": "code",
     "collapsed": false,
     "input": [
      "under = np.sum(velocity[:-1] * np.diff(t_sec))\n",
      "under"
     ],
     "language": "python",
     "metadata": {},
     "outputs": []
    },
    {
     "cell_type": "code",
     "collapsed": false,
     "input": [
      "np.dot(velocity[:-1], np.diff(t_sec))"
     ],
     "language": "python",
     "metadata": {},
     "outputs": []
    },
    {
     "cell_type": "code",
     "collapsed": false,
     "input": [
      "over = np.sum(velocity[1:] * np.diff(t_sec))\n",
      "over"
     ],
     "language": "python",
     "metadata": {},
     "outputs": []
    },
    {
     "cell_type": "code",
     "collapsed": false,
     "input": [
      "np.dot(velocity[1:], np.diff(t_sec))"
     ],
     "language": "python",
     "metadata": {},
     "outputs": []
    },
    {
     "cell_type": "markdown",
     "metadata": {},
     "source": [
      "More points"
     ]
    },
    {
     "cell_type": "code",
     "collapsed": false,
     "input": [
      "t_sec = np.linspace(0, 5, 11)\n",
      "t_sec"
     ],
     "language": "python",
     "metadata": {},
     "outputs": []
    },
    {
     "cell_type": "code",
     "collapsed": false,
     "input": [
      "velocity = np.array([24, 28.75, 33, 36.75, 40, 42.75, 45.00, 46.75, 48, 48.75, 49])\n",
      "velocity"
     ],
     "language": "python",
     "metadata": {},
     "outputs": []
    },
    {
     "cell_type": "code",
     "collapsed": false,
     "input": [
      "under = np.dot(velocity[:-1], np.diff(t_sec))\n",
      "under"
     ],
     "language": "python",
     "metadata": {},
     "outputs": []
    },
    {
     "cell_type": "code",
     "collapsed": false,
     "input": [
      "over = np.dot(velocity[1:], np.diff(t_sec))\n",
      "over"
     ],
     "language": "python",
     "metadata": {},
     "outputs": []
    },
    {
     "cell_type": "heading",
     "level": 3,
     "metadata": {},
     "source": [
      "Total Distance Traveled and Area"
     ]
    },
    {
     "cell_type": "code",
     "collapsed": false,
     "input": [
      "t_sec = np.arange(6)\n",
      "velocity = np.array([24., 33., 40., 45., 48., 49.])"
     ],
     "language": "python",
     "metadata": {},
     "outputs": []
    },
    {
     "cell_type": "code",
     "collapsed": false,
     "input": [
      "fig, ax = plt.subplots(figsize=(10,6))\n",
      "lines = ax.plot(t_sec, velocity, 'mo')\n",
      "ax.margins(.1)\n",
      "ax.grid(False)\n",
      "ax.set_ylim(0, 53);"
     ],
     "language": "python",
     "metadata": {},
     "outputs": []
    },
    {
     "cell_type": "code",
     "collapsed": false,
     "input": [
      "fig, ax = plt.subplots(figsize=(10,6))\n",
      "lines = ax.plot(t_sec, velocity, 'mo')\n",
      "ax.margins(.01)\n",
      "ax.grid(False)\n",
      "ax.set_ylim(0, 53);\n",
      "#ax.bar(t_sec, velocity, 1, edgecolor='black')\n",
      "steps = ax.step(t_sec, velocity, where='post', color='black')\n",
      "#ax.vlines(t_sec, [0]*6, velocity)\n",
      "#ax.fill_between(np.linspace(0, 5, 1001), 0, np.r_[np.repeat(velocity[:-1], 200), 5.]);\n",
      "#ax.broken_barh(zip(t_sec, [1]*6), zip([0]*6, velocity)) "
     ],
     "language": "python",
     "metadata": {},
     "outputs": []
    },
    {
     "cell_type": "code",
     "collapsed": false,
     "input": [
      "zip(t_sec, [1]*6)"
     ],
     "language": "python",
     "metadata": {},
     "outputs": []
    }
   ],
   "metadata": {}
  }
 ]
}
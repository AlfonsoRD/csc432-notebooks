{
 "metadata": {
  "name": "python_decorators"
 },
 "nbformat": 3,
 "nbformat_minor": 0,
 "worksheets": [
  {
   "cells": [
    {
     "cell_type": "heading",
     "level": 4,
     "metadata": {},
     "source": [
      "Decorators"
     ]
    },
    {
     "cell_type": "markdown",
     "metadata": {},
     "source": [
      "* Some of you may have already come across the use of decorators in your work\n",
      "* A decorator is just a python function (or any callable object) that wraps another function\n",
      "* Many of these examples are borrowed from this more detailed look at [decorators](http://scipy-lectures.github.io/advanced/advanced_python/index.html#decorators)"
     ]
    },
    {
     "cell_type": "markdown",
     "metadata": {},
     "source": [
      "At its simplest it just means something like this\n",
      "\n",
      "    def function():\n",
      "        pass\n",
      "\n",
      "    function = decorator_function(function)"
     ]
    },
    {
     "cell_type": "markdown",
     "metadata": {},
     "source": [
      "* You can also use the `@wrapper` syntactic sugar\n",
      "* The following is equivalent to the above"
     ]
    },
    {
     "cell_type": "markdown",
     "metadata": {},
     "source": [
      "    @decorator_function\n",
      "    def function():\n",
      "        pass"
     ]
    },
    {
     "cell_type": "markdown",
     "metadata": {},
     "source": [
      "* A basic example of a decorator that returns the original function"
     ]
    },
    {
     "cell_type": "code",
     "collapsed": false,
     "input": [
      "def decorator(func):\n",
      "    print \"I decorated the function\"\n",
      "    return func\n",
      "\n",
      "@decorator\n",
      "def function():\n",
      "    print \"Inside the function\""
     ],
     "language": "python",
     "metadata": {},
     "outputs": []
    },
    {
     "cell_type": "code",
     "collapsed": false,
     "input": [
      "function()"
     ],
     "language": "python",
     "metadata": {},
     "outputs": []
    },
    {
     "cell_type": "markdown",
     "metadata": {},
     "source": [
      "* A basic example of a decorator that accepts args"
     ]
    },
    {
     "cell_type": "code",
     "collapsed": false,
     "input": [
      "def decorator_with_arguments(arg):\n",
      "    print \"defining the decorator\"\n",
      "    def _decorator(function):\n",
      "        print \"doing decoration:\", arg\n",
      "        return function\n",
      "    return _decorator\n",
      "\n",
      "@decorator_with_arguments(\"An arg\")\n",
      "def some_function():\n",
      "    print \"In some function\""
     ],
     "language": "python",
     "metadata": {},
     "outputs": []
    },
    {
     "cell_type": "code",
     "collapsed": false,
     "input": [
      "some_function()"
     ],
     "language": "python",
     "metadata": {},
     "outputs": []
    },
    {
     "cell_type": "markdown",
     "metadata": {},
     "source": [
      "* Often you might need a decorator that returns a new function"
     ]
    },
    {
     "cell_type": "code",
     "collapsed": false,
     "input": [
      "def replace_function(arg):\n",
      "    print \"defining the decorator:\", arg\n",
      "    def _decorator(function):\n",
      "        print \"doing decoration\"\n",
      "        def _wrapper(*args, **kwargs):\n",
      "            print \"inside wrapped function\", args, kwargs\n",
      "            return function(*args, **kwargs)\n",
      "        return _wrapper\n",
      "    return _decorator\n",
      "        \n",
      "@replace_function(\"Decorator arg\")\n",
      "def some_function(a, b, foo=\"bar\"):\n",
      "    \"\"\"\n",
      "    This function takes to integer arguments a and b\n",
      "    and returns a list of a string foo `a+b` times\n",
      "    \"\"\"\n",
      "    return \" \".join([foo] * (a+b))"
     ],
     "language": "python",
     "metadata": {},
     "outputs": []
    },
    {
     "cell_type": "code",
     "collapsed": false,
     "input": [
      "some_function(1, 2, foo=\"bar\")"
     ],
     "language": "python",
     "metadata": {},
     "outputs": []
    },
    {
     "cell_type": "markdown",
     "metadata": {},
     "source": [
      "* That's great, but what does `some_function` do again?"
     ]
    },
    {
     "cell_type": "code",
     "collapsed": false,
     "input": [
      "some_function?"
     ],
     "language": "python",
     "metadata": {},
     "outputs": []
    },
    {
     "cell_type": "code",
     "collapsed": false,
     "input": [
      "* It looks like we get the docstring of the wrapper?\n",
      "* This is a solved problem, you need to decorate the wrapper with `functools.wraps`"
     ],
     "language": "python",
     "metadata": {},
     "outputs": []
    },
    {
     "cell_type": "code",
     "collapsed": false,
     "input": [
      "from functools import wraps"
     ],
     "language": "python",
     "metadata": {},
     "outputs": []
    },
    {
     "cell_type": "code",
     "collapsed": false,
     "input": [
      "def replace_function(arg):\n",
      "    print \"defining the decorator:\", arg\n",
      "    def _decorator(function):\n",
      "        print \"doing decoration\"\n",
      "        @wraps(function)\n",
      "        def _wrapper(*args, **kwargs):\n",
      "            print \"inside wrapped function\", args, kwargs\n",
      "            return function(*args, **kwargs)\n",
      "        return _wrapper\n",
      "    return _decorator\n",
      "        \n",
      "@replace_function(\"Decorator arg\")\n",
      "def some_function(a, b, foo=\"bar\"):\n",
      "    \"\"\"\n",
      "    This function takes to integer arguments a and b\n",
      "    and returns a list of a string foo `a+b` times\n",
      "    \"\"\"\n",
      "    return \" \".join([foo] * (a+b))"
     ],
     "language": "python",
     "metadata": {},
     "outputs": []
    },
    {
     "cell_type": "code",
     "collapsed": false,
     "input": [
      "some_function?"
     ],
     "language": "python",
     "metadata": {},
     "outputs": []
    },
    {
     "cell_type": "markdown",
     "metadata": {},
     "source": [
      "* You can do some actual black magic using the `inspect` module to replicate the original function's call signature in the docstring too if you *really* need it"
     ]
    },
    {
     "cell_type": "code",
     "collapsed": false,
     "input": [
      "def some_function(a, b, foo=\"bar\"):\n",
      "    \"\"\"\n",
      "    This function takes to integer arguments a and b\n",
      "    and returns a list of a string foo `a+b` times\n",
      "    \"\"\"\n",
      "    return \" \".join([foo] * (a+b))"
     ],
     "language": "python",
     "metadata": {},
     "outputs": []
    },
    {
     "cell_type": "code",
     "collapsed": false,
     "input": [
      "import inspect\n",
      "\n",
      "argspec = inspect.getargspec(some_function)"
     ],
     "language": "python",
     "metadata": {},
     "outputs": []
    },
    {
     "cell_type": "code",
     "collapsed": false,
     "input": [
      "print argspec"
     ],
     "language": "python",
     "metadata": {},
     "outputs": []
    },
    {
     "cell_type": "code",
     "collapsed": false,
     "input": [
      "formatted = inspect.formatargspec(argspec[0], varargs=argspec[1],\n",
      "                                  defaults=argspec[3])"
     ],
     "language": "python",
     "metadata": {},
     "outputs": []
    },
    {
     "cell_type": "code",
     "collapsed": false,
     "input": [
      "print formatted"
     ],
     "language": "python",
     "metadata": {},
     "outputs": []
    }
   ],
   "metadata": {}
  }
 ]
}
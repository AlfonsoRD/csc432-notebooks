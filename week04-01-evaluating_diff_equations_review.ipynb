{
 "metadata": {
  "name": "evaluating_diff_equations"
 },
 "nbformat": 3,
 "nbformat_minor": 0,
 "worksheets": [
  {
   "cells": [
    {
     "cell_type": "heading",
     "level": 4,
     "metadata": {},
     "source": [
      "2.3.10 - Using Computational Tool vs. Analytic solution"
     ]
    },
    {
     "cell_type": "code",
     "collapsed": false,
     "input": [
      "from scipy import integrate\n",
      "import numpy as np\n",
      "import matplotlib.pyplot as plt"
     ],
     "language": "python",
     "metadata": {},
     "outputs": []
    },
    {
     "cell_type": "markdown",
     "metadata": {},
     "source": [
      "$$\\frac{dP}{dt}=.3P-20$$\n",
      "\n",
      "where\n",
      "\n",
      "$$P_0=25$$\n",
      "\n",
      "$$\\frac{dP}{.3P-20}\\;=dt$$"
     ]
    },
    {
     "cell_type": "code",
     "collapsed": false,
     "input": [
      "def p_func(t):\n",
      "    \"\"\"\n",
      "    dP/dt = .3P - 20, P_0 = 25\n",
      "    P     = (20 - 9.5*np.exp(.3*t))/.3\n",
      "    \"\"\"\n",
      "    return (20 - 9.5*np.exp(.3*t))/.3"
     ],
     "language": "python",
     "metadata": {},
     "outputs": []
    },
    {
     "cell_type": "code",
     "collapsed": false,
     "input": [
      "time_grid = np.arange(0, 10, .01)\n",
      "\n",
      "fig, ax = plt.subplots()\n",
      "ax.plot(time_grid, p_func(time_grid), label=\"analytic solution\")\n",
      "ax.legend();"
     ],
     "language": "python",
     "metadata": {},
     "outputs": []
    },
    {
     "cell_type": "code",
     "collapsed": false,
     "input": [
      "def dPdt(P, t):\n",
      "    return .3*P - 20"
     ],
     "language": "python",
     "metadata": {},
     "outputs": []
    },
    {
     "cell_type": "code",
     "collapsed": false,
     "input": [
      "results = integrate.odeint(dPdt, 35, time_grid, full_output=1)\n",
      "p_function = results[0]"
     ],
     "language": "python",
     "metadata": {},
     "outputs": []
    },
    {
     "cell_type": "code",
     "collapsed": false,
     "input": [
      "fig, ax = plt.subplots()\n",
      "\n",
      "ax.plot(time_grid, p_function, label=\"numerical solution\")\n",
      "ax.legend();"
     ],
     "language": "python",
     "metadata": {},
     "outputs": []
    },
    {
     "cell_type": "code",
     "collapsed": false,
     "input": [
      "fig, ax = plt.subplots()\n",
      "ax.plot(time_grid, p_func(time_grid), label=\"analytic solution\")\n",
      "ax.plot(time_grid, p_function, label=\"numerical solution\")\n",
      "ax.legend();"
     ],
     "language": "python",
     "metadata": {},
     "outputs": []
    }
   ],
   "metadata": {}
  }
 ]
}
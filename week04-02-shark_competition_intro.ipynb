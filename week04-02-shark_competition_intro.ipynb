{
 "metadata": {
  "name": "shark_competition_intro"
 },
 "nbformat": 3,
 "nbformat_minor": 0,
 "worksheets": [
  {
   "cells": [
    {
     "cell_type": "heading",
     "level": 3,
     "metadata": {},
     "source": [
      "Competition Model - White Tip Sharks vs Black Tip Sharps"
     ]
    },
    {
     "cell_type": "markdown",
     "metadata": {},
     "source": [
      "* two species competing for resources\n",
      "* number of deaths is proportional to both pop. \n",
      "  size and pop. size of other species\n",
      "* For population $B$ and population $W$, $\\text{deaths}\\propto BW$"
     ]
    },
    {
     "cell_type": "markdown",
     "metadata": {},
     "source": [
      "* $$\\Delta\\left(\\text{births of WTS}\\right)=g_{w}W$$\n",
      "* $$\\Delta\\left(\\text{births of BTS}\\right)=g_{b}B$$\n",
      "* $$\\Delta\\left(\\text{deaths of WTS}\\right) = d_{w}BW$$\n",
      "* $$\\Delta\\left(\\text{deaths of BTS}\\right) = d_{b}BW$$\n",
      "\n",
      "where $d_{w}$ and $d_{b}$ are the respective death proportionality constants for each species and\n",
      "$g_{w}$ and $g_{b}$ are the respective birth rates."
     ]
    }
   ],
   "metadata": {}
  }
 ]
}
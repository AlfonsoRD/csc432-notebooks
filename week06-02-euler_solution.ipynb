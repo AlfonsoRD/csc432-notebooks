{
 "metadata": {
  "name": "euler_solution"
 },
 "nbformat": 3,
 "nbformat_minor": 0,
 "worksheets": [
  {
   "cells": [
    {
     "cell_type": "code",
     "collapsed": false,
     "input": [
      "import numpy as np"
     ],
     "language": "python",
     "metadata": {},
     "outputs": []
    },
    {
     "cell_type": "code",
     "collapsed": false,
     "input": [
      "def exp_growth(t, const=100, growth_rate=.1):\n",
      "    \"\"\"\n",
      "    True solution\n",
      "    \"\"\"\n",
      "    return const * np.exp(growth_rate * t)"
     ],
     "language": "python",
     "metadata": {},
     "outputs": []
    },
    {
     "cell_type": "code",
     "collapsed": false,
     "input": [
      "def relative_error(estimate, analytic):\n",
      "    return np.abs(estimate - analytic)/np.abs(analytic)"
     ],
     "language": "python",
     "metadata": {},
     "outputs": []
    },
    {
     "cell_type": "code",
     "collapsed": false,
     "input": [
      "def dPdt(P, t, growth_rate):\n",
      "    return P*growth_rate"
     ],
     "language": "python",
     "metadata": {},
     "outputs": []
    },
    {
     "cell_type": "code",
     "collapsed": false,
     "input": [
      "def euler(func, initial, ntime, dt, args=()):\n",
      "    nsteps = int(ntime/dt)\n",
      "    population = np.zeros(nsteps+1)\n",
      "    population[0] = initial\n",
      "    for i in range(1, len(population)):\n",
      "        t = i * dt\n",
      "        dP = func(population[i-1], t, *args)\n",
      "        population[i] = population[i-1] + dP*dt\n",
      "    return population"
     ],
     "language": "python",
     "metadata": {},
     "outputs": []
    },
    {
     "cell_type": "code",
     "collapsed": false,
     "input": [
      "population = euler(dPdt, 100, 100, 1, args=(.1,))"
     ],
     "language": "python",
     "metadata": {},
     "outputs": []
    },
    {
     "cell_type": "code",
     "collapsed": false,
     "input": [
      "print population[-1]"
     ],
     "language": "python",
     "metadata": {},
     "outputs": []
    },
    {
     "cell_type": "code",
     "collapsed": false,
     "input": [
      "exp_growth(100)"
     ],
     "language": "python",
     "metadata": {},
     "outputs": []
    },
    {
     "cell_type": "code",
     "collapsed": false,
     "input": [
      "re1 = relative_error(population[-1], exp_growth(100))\n",
      "print re1*100"
     ],
     "language": "python",
     "metadata": {},
     "outputs": []
    },
    {
     "cell_type": "code",
     "collapsed": false,
     "input": [
      "population2 = euler(dPdt, 100, 100, .5, args=(.1,))"
     ],
     "language": "python",
     "metadata": {},
     "outputs": []
    },
    {
     "cell_type": "code",
     "collapsed": false,
     "input": [
      "print population2[-1]"
     ],
     "language": "python",
     "metadata": {},
     "outputs": []
    },
    {
     "cell_type": "code",
     "collapsed": false,
     "input": [
      "re2 = relative_error(population2[-1], exp_growth(100))\n",
      "print re2 * 100"
     ],
     "language": "python",
     "metadata": {},
     "outputs": []
    },
    {
     "cell_type": "code",
     "collapsed": false,
     "input": [
      "population3 = euler(dPdt, 100, 100, .25, args=(.1,))"
     ],
     "language": "python",
     "metadata": {},
     "outputs": []
    },
    {
     "cell_type": "code",
     "collapsed": false,
     "input": [
      "re3 = relative_error(population3[-1], exp_growth(100))\n",
      "print re3 * 100"
     ],
     "language": "python",
     "metadata": {},
     "outputs": []
    },
    {
     "cell_type": "code",
     "collapsed": false,
     "input": [
      "print re2/re1\n",
      "print re3/re2"
     ],
     "language": "python",
     "metadata": {},
     "outputs": []
    },
    {
     "cell_type": "markdown",
     "metadata": {},
     "source": [
      "The relative error is $\\operatorname{O}(\\Delta t)$ or **on the order of** $\\Delta t$"
     ]
    }
   ],
   "metadata": {}
  }
 ]
}
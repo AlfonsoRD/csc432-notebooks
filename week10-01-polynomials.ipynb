{
 "metadata": {
  "name": "polynomials"
 },
 "nbformat": 3,
 "nbformat_minor": 0,
 "worksheets": [
  {
   "cells": [
    {
     "cell_type": "heading",
     "level": 3,
     "metadata": {},
     "source": [
      "Polynomial Equations"
     ]
    },
    {
     "cell_type": "markdown",
     "metadata": {},
     "source": [
      "* An expression involving a sum of powers in one or more variables multiplied by coefficients\n",
      "* For example, a univariate polynomial is of the form\n",
      "\n",
      "$$f(x)=a_nx^n+\\cdots+a_2x^2+a_1x+a_0$$\n",
      "\n",
      "or, more succinctly \n",
      "\n",
      "$$f(x)=\\sum_{i=0}^n{a_i}x^i$$\n",
      "\n",
      "* The highest power for which $a_i\\neq0$ is called the **order** of the polynomial"
     ]
    },
    {
     "cell_type": "code",
     "collapsed": false,
     "input": [
      "import numpy as np"
     ],
     "language": "python",
     "metadata": {},
     "outputs": []
    },
    {
     "cell_type": "code",
     "collapsed": false,
     "input": [
      "poly = np.polynomial.Polynomial([-2, -1, 1])"
     ],
     "language": "python",
     "metadata": {},
     "outputs": []
    },
    {
     "cell_type": "code",
     "collapsed": false,
     "input": [
      "fig, ax = plt.subplots()\n",
      "x = np.linspace(-5.5, 5, 100)\n",
      "ax.plot(x, poly(x), 'r')\n",
      "ax.hlines(0, -5.5, 4.5, 'k', lw=2)\n",
      "ax.vlines(0, -5, 20, 'k', lw=2)\n",
      "ax.set_xlim(-5.5, 4.5)\n",
      "ax.set_ylim(-4, 6.5)\n",
      "ax.set_title(\"$f(x)=x^2-x-2$\");"
     ],
     "language": "python",
     "metadata": {},
     "outputs": []
    },
    {
     "cell_type": "markdown",
     "metadata": {},
     "source": [
      "Given a high enough order, you can approximate *any* continuous function with a polynomial. See the [Stone-Weierstrass theorem](http://en.wikipedia.org/wiki/Stone%E2%80%93Weierstrass_theorem) for a discussion of this fact and more general results."
     ]
    },
    {
     "cell_type": "code",
     "collapsed": false,
     "input": [
      "poly2 = np.polynomial.Polynomial([0, -36, 0, 49, 0, -14, 0, 1])"
     ],
     "language": "python",
     "metadata": {},
     "outputs": []
    },
    {
     "cell_type": "code",
     "collapsed": false,
     "input": [
      "x2 = np.linspace(-3.2, 3.2, 1000)\n",
      "\n",
      "fig, ax = plt.subplots()\n",
      "ax.plot(x2, poly2(x2), 'r')\n",
      "ax.hlines(0, -5.5, 4.5, 'k', lw=2)\n",
      "ax.vlines(0, -100, 100, 'k', lw=2)\n",
      "ax.set_xlim(-3.2, 3.2)\n",
      "ax.set_ylim(-100, 100)\n",
      "ax.set_title(\"$f(x)=x^7-14x^5+49x^3-36x$\");"
     ],
     "language": "python",
     "metadata": {},
     "outputs": []
    },
    {
     "cell_type": "markdown",
     "metadata": {},
     "source": [
      "Quite often we are interested in the **roots** of polynomial functions. The root of a polynomial function $P(z)$ is a number $z_i$ such that $P(z_i)=0$.\n",
      "\n",
      "For instance, in your homework (2.4.1.g), you were asked to determine when a ball hits water given that its trajectory is determined by the equation\n",
      "\n",
      "$$-4.9t^2+15t+11$$\n",
      "\n",
      "You could solve this using the quadratic formula, or you could use a root-finding algorithm. Luckily, NumPy has root-finding algorithms specifically for polynomials built-in."
     ]
    },
    {
     "cell_type": "code",
     "collapsed": false,
     "input": [
      "trajectory = np.polynomial.Polynomial([11, 15, -4.9])\n",
      "trajectory.roots()"
     ],
     "language": "python",
     "metadata": {},
     "outputs": []
    },
    {
     "cell_type": "markdown",
     "metadata": {},
     "source": [
      "Or we can use the simpler, dedicated function for this. Note the reversal of the arguments."
     ]
    },
    {
     "cell_type": "code",
     "collapsed": false,
     "input": [
      "np.roots([-4.9, 15, 11])"
     ],
     "language": "python",
     "metadata": {},
     "outputs": []
    },
    {
     "cell_type": "markdown",
     "metadata": {},
     "source": [
      "We know from the [fundamental theorem of algebra](http://en.wikipedia.org/wiki/Fundamental_theorem_of_algebra) that every polynomial of order $n$ has $n$ roots. How do we know which root to use in the above?"
     ]
    },
    {
     "cell_type": "markdown",
     "metadata": {},
     "source": [
      "An interesting observation is that if you reverse the coefficients of a polynomial, its roots are the reciprocal of the roots of the original polynomial. Whether you are working with roots or inverse roots of polynomials often depends on notational conventions for applications that involve polynomial roots, so it's something to watch out for."
     ]
    },
    {
     "cell_type": "code",
     "collapsed": false,
     "input": [
      "np.roots([-4.9, 15, 11])"
     ],
     "language": "python",
     "metadata": {},
     "outputs": []
    },
    {
     "cell_type": "code",
     "collapsed": false,
     "input": [
      "1/np.roots([11, 15, -4.9])"
     ],
     "language": "python",
     "metadata": {},
     "outputs": []
    }
   ],
   "metadata": {}
  }
 ]
}
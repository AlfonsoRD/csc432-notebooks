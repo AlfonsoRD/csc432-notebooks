{
 "metadata": {
  "name": "python_tutorial"
 },
 "nbformat": 3,
 "nbformat_minor": 0,
 "worksheets": [
  {
   "cells": [
    {
     "cell_type": "heading",
     "level": 2,
     "metadata": {},
     "source": [
      "Introduction"
     ]
    },
    {
     "cell_type": "code",
     "collapsed": false,
     "input": [
      "import this"
     ],
     "language": "python",
     "metadata": {},
     "outputs": []
    },
    {
     "cell_type": "code",
     "collapsed": false,
     "input": [
      "guidelines = \"\".join([this.d.get(c,c) for c in this.s]).split(\"\\n\")\n",
      "for i in [2,3,8,20]:\n",
      "    print guidelines[i]"
     ],
     "language": "python",
     "metadata": {},
     "outputs": []
    },
    {
     "cell_type": "heading",
     "level": 2,
     "metadata": {},
     "source": [
      "Style Guidelines"
     ]
    },
    {
     "cell_type": "markdown",
     "metadata": {},
     "source": [
      "I'm a bit of a stickler for coding style. Programmers spend just as much time reading code as they do writing it. Having style standards makes it *much* easier for others to read code, and whether you're turning in an assignment or trying to get a patch accepted to a project, you want the reviewer to have an easier time.\n",
      "\n",
      "We will follow most if not all of the recommendations of [PEP 8](http://www.python.org/dev/peps/pep-0008/). You can install tools such as [pep8](http://pypi.python.org/pypi/pep8) or [pylint](http://pypi.python.org/pypi/pylint) to make sure you are using proper coding standards. You can also find tools for your favorite editor such as vim or emacs."
     ]
    },
    {
     "cell_type": "markdown",
     "metadata": {},
     "source": [
      "<h4>Quick Review Question 1 (Answers in PEP 8):</h4>\n",
      "\n",
      "1. What is the suggested maximum line length in Python?\n",
      "\n",
      "2. Which is the preferred naming for a function that computes the square of a number?\n",
      "\n",
      "   a) computeSquare \n",
      "\n",
      "   b) ComputeSquare \n",
      "\n",
      "   c) compute_square \n",
      "\n",
      "   d) sq\n",
      "\n",
      "<br />\n",
      "3. Which is the preferred idiom for checking if types are equal?\n",
      "\n",
      "    a) \n",
      "\n",
      "        if isintance(obj, int):\n",
      "            ...\n",
      "\n",
      "    b) \n",
      "\n",
      "        if type(obj) == int:\n",
      "            ...\n",
      "\n",
      "    c)\n",
      "\n",
      "        if type(obj) == type(1):\n",
      "            ..."
     ]
    },
    {
     "cell_type": "heading",
     "level": 2,
     "metadata": {},
     "source": [
      "Introduction to Python"
     ]
    },
    {
     "cell_type": "markdown",
     "metadata": {},
     "source": [
      "- Python allows you to split a program over modules that can be reused in other Python programs.\n",
      "\n",
      "- Python is an intepreted language, meaning there is no linking or compiling necessary of (pure Python) programs.\n",
      "\n",
      "- Statement grouping is done via indentation rather than brackets or braces."
     ]
    },
    {
     "cell_type": "code",
     "collapsed": false,
     "input": [
      "from __future__ import braces"
     ],
     "language": "python",
     "metadata": {},
     "outputs": []
    },
    {
     "cell_type": "markdown",
     "metadata": {},
     "source": [
      "- Variable and argument declarations are not needed."
     ]
    },
    {
     "cell_type": "markdown",
     "metadata": {},
     "source": [
      "That is, you don't have to do things like this that you have in C.\n",
      "\n",
      "    int i;\n",
      "    for (i = 0; i < 10; i ++){\n",
      "        ...\n",
      "    }\n",
      "\n",
      "In Python, it's simply\n",
      "\n",
      "    for i in range(10):\n",
      "        ..."
     ]
    },
    {
     "cell_type": "markdown",
     "metadata": {},
     "source": [
      "- Python is extensible. For example, if you know how to program in C, you can write speed critical code in C and make them available to Python. Or if you have a legacy library in Fortran, with a small amount of work you can use this library from Python."
     ]
    },
    {
     "cell_type": "heading",
     "level": 2,
     "metadata": {},
     "source": [
      "Running Python (or IPython)"
     ]
    },
    {
     "cell_type": "markdown",
     "metadata": {},
     "source": [
      "To work interactively, you will use the Python interpreter. It is invoked by typing `python` at the command prompt (Start > Run `cmd` in Windows, `terminal` in Mac OS X - *make sure to differentiate between Apple's system Python and the Python you have installed*). However, as I mentioned last class, we will be using IPython. So go ahead and fire up IPython by typing `ipython`. You should see something like the following\n",
      "\n",
      "    Python 2.7.3 (default, Sep 26 2012, 21:51:14) \n",
      "    Type \"copyright\", \"credits\" or \"license\" for more information.\n",
      "\n",
      "    IPython 0.14.dev -- An enhanced Interactive Python.\n",
      "    ?         -> Introduction and overview of IPython's features.\n",
      "    %quickref -> Quick reference.\n",
      "    help      -> Python's own help system.\n",
      "    object?   -> Details about 'object', use 'object??' for extra details."
     ]
    },
    {
     "cell_type": "heading",
     "level": 2,
     "metadata": {},
     "source": [
      "Getting Started"
     ]
    },
    {
     "cell_type": "code",
     "collapsed": false,
     "input": [
      "from scipy import misc"
     ],
     "language": "python",
     "metadata": {},
     "outputs": []
    },
    {
     "cell_type": "markdown",
     "metadata": {},
     "source": [
      "Start by evaluation 10-factorial, $10!$, or $10*9*8\\dots$"
     ]
    },
    {
     "cell_type": "code",
     "collapsed": false,
     "input": [
      "misc.factorial([10])"
     ],
     "language": "python",
     "metadata": {},
     "outputs": []
    },
    {
     "cell_type": "code",
     "collapsed": false,
     "input": [
      "misc.factorial([25])"
     ],
     "language": "python",
     "metadata": {},
     "outputs": []
    },
    {
     "cell_type": "markdown",
     "metadata": {},
     "source": [
      "<h4>Quick Review Question 2:</h4> \n",
      "<br />\n",
      "Evaluate $100!$"
     ]
    },
    {
     "cell_type": "markdown",
     "metadata": {},
     "source": [
      "<h4>Quick Review Question 3:</h4> \n",
      "<br />\n",
      "What's the largest 64-bit floating point number you can get the factorial for? Bonus points if you can explain why?\n",
      "<br /><br />\n",
      "Hint: Look at the documentation for np.finfo, then look at the object returned by np.finfo(np.float64), assuming you are on a 64-bit Python. Use np.float32 if not. You can find out for sure by running the following Python code\n",
      "\n",
      "    import platform\n",
      "    print platform.architecture()[0]"
     ]
    },
    {
     "cell_type": "heading",
     "level": 2,
     "metadata": {},
     "source": [
      "Modules"
     ]
    },
    {
     "cell_type": "markdown",
     "metadata": {},
     "source": [
      "A module is a file that contains Python definitions and statements. The file will end with `.py`."
     ]
    },
    {
     "cell_type": "markdown",
     "metadata": {},
     "source": [
      "Fire up your favorite editor and create a file called hurricane_simulation.py"
     ]
    },
    {
     "cell_type": "markdown",
     "metadata": {},
     "source": [
      "    #! /usr/bin/python\n",
      "    \"\"\"\n",
      "    Simulate a category-5 tropical storm to 100-km accuracy\n",
      "    Author: Skipper Seabold\n",
      "    Created: January 14, 2013\n",
      "    \"\"\"\n",
      "    \n",
      "    import numpy as np\n",
      "    # ..."
     ]
    },
    {
     "cell_type": "heading",
     "level": 2,
     "metadata": {},
     "source": [
      "Getting Help"
     ]
    },
    {
     "cell_type": "markdown",
     "metadata": {},
     "source": [
      "The lines in triple-quotes are referred to as the module docstring. This is how code is documented in Python."
     ]
    },
    {
     "cell_type": "code",
     "collapsed": false,
     "input": [
      "print misc.__doc__"
     ],
     "language": "python",
     "metadata": {},
     "outputs": []
    },
    {
     "cell_type": "markdown",
     "metadata": {},
     "source": [
      "In IPython, you can use `?` to get the docstring."
     ]
    },
    {
     "cell_type": "code",
     "collapsed": false,
     "input": [
      "misc?"
     ],
     "language": "python",
     "metadata": {},
     "outputs": []
    },
    {
     "cell_type": "markdown",
     "metadata": {},
     "source": [
      "To execute an entire module (or script) from within Python, you can type:\n",
      "\n",
      "    >>> execfile('/path/to/hurricane_sim.py')\n",
      "\n",
      "Or in IPython you can use the `run` magic command\n",
      "\n",
      "    In [1]: run /path/to/hurricane_sim.py\n",
      "\n",
      "From the command prompt, you can type:\n",
      "\n",
      "    $ python hurricane_sim.py"
     ]
    },
    {
     "cell_type": "heading",
     "level": 2,
     "metadata": {},
     "source": [
      "Self Help"
     ]
    },
    {
     "cell_type": "markdown",
     "metadata": {},
     "source": [
      "Comments begin with a `#` in Python. Comment your code liberally."
     ]
    },
    {
     "cell_type": "code",
     "collapsed": false,
     "input": [
      "# this is a comment"
     ],
     "language": "python",
     "metadata": {},
     "outputs": []
    },
    {
     "cell_type": "heading",
     "level": 2,
     "metadata": {},
     "source": [
      "Displaying"
     ]
    },
    {
     "cell_type": "markdown",
     "metadata": {},
     "source": [
      "You can use the print statement to display strings"
     ]
    },
    {
     "cell_type": "code",
     "collapsed": false,
     "input": [
      "print \"Hello, world.\""
     ],
     "language": "python",
     "metadata": {},
     "outputs": []
    },
    {
     "cell_type": "markdown",
     "metadata": {},
     "source": [
      "You can print variables as part of strings"
     ]
    },
    {
     "cell_type": "code",
     "collapsed": false,
     "input": [
      "name = \"Skipper\"\n",
      "print \"Hello, world. My name is\", name"
     ],
     "language": "python",
     "metadata": {},
     "outputs": []
    },
    {
     "cell_type": "code",
     "collapsed": false,
     "input": [
      "print \"Hello, world. My name is %s\" % name"
     ],
     "language": "python",
     "metadata": {},
     "outputs": []
    },
    {
     "cell_type": "markdown",
     "metadata": {},
     "source": [
      "Use the line feed character (`\\n`) to print over multiple lines."
     ]
    },
    {
     "cell_type": "code",
     "collapsed": false,
     "input": [
      "print \"Hello, world.\\nMy name is %s\" % name"
     ],
     "language": "python",
     "metadata": {},
     "outputs": []
    },
    {
     "cell_type": "markdown",
     "metadata": {},
     "source": [
      "You can print numbers too."
     ]
    },
    {
     "cell_type": "code",
     "collapsed": false,
     "input": [
      "print \"2 + 2 =\", 4"
     ],
     "language": "python",
     "metadata": {},
     "outputs": []
    },
    {
     "cell_type": "code",
     "collapsed": false,
     "input": [
      "print \"2 + 2 = %d\" % 4"
     ],
     "language": "python",
     "metadata": {},
     "outputs": []
    },
    {
     "cell_type": "code",
     "collapsed": false,
     "input": [
      "print \"2 + 2 = %05d\" % 4"
     ],
     "language": "python",
     "metadata": {},
     "outputs": []
    },
    {
     "cell_type": "heading",
     "level": 2,
     "metadata": {},
     "source": [
      "Numbers and Arithmetic Operations"
     ]
    },
    {
     "cell_type": "markdown",
     "metadata": {},
     "source": [
      "Scalar multiplication is indicated by an asterisk (\\*), or \"star.\" Addition, subtraction, and division operators are `+`, `-`, and `/`. Exponentiation is done by two asterisks."
     ]
    },
    {
     "cell_type": "code",
     "collapsed": false,
     "input": [
      "2 * (5.0 / 8.0 - 1.25)**2"
     ],
     "language": "python",
     "metadata": {},
     "outputs": []
    },
    {
     "cell_type": "markdown",
     "metadata": {},
     "source": [
      "In Python 2.x, the division operators is integer division as in C. To force explicit integer division, use `//`."
     ]
    },
    {
     "cell_type": "code",
     "collapsed": false,
     "input": [
      "5 / 8"
     ],
     "language": "python",
     "metadata": {},
     "outputs": []
    },
    {
     "cell_type": "code",
     "collapsed": false,
     "input": [
      "5. / 8"
     ],
     "language": "python",
     "metadata": {},
     "outputs": []
    },
    {
     "cell_type": "code",
     "collapsed": false,
     "input": [
      "5.0 // 8.0"
     ],
     "language": "python",
     "metadata": {},
     "outputs": []
    },
    {
     "cell_type": "markdown",
     "metadata": {},
     "source": [
      "The modulo operator is `%`. This gives the remainder after dividing two numbers."
     ]
    },
    {
     "cell_type": "code",
     "collapsed": false,
     "input": [
      "8 % 5"
     ],
     "language": "python",
     "metadata": {},
     "outputs": []
    },
    {
     "cell_type": "code",
     "collapsed": false,
     "input": [
      "5.5 % 8"
     ],
     "language": "python",
     "metadata": {},
     "outputs": []
    },
    {
     "cell_type": "markdown",
     "metadata": {},
     "source": [
      "<h4>Quick Review Question #:</h4> \n",
      "<br />\n",
      "Type commands that add the fractions one-half and three-fourths, giving the correct floating point answer."
     ]
    },
    {
     "cell_type": "heading",
     "level": 2,
     "metadata": {},
     "source": [
      "Variables and Assignments"
     ]
    },
    {
     "cell_type": "markdown",
     "metadata": {},
     "source": [
      "Assignment is done through the equals operators `=`. Variable names are case-sensitive."
     ]
    },
    {
     "cell_type": "code",
     "collapsed": false,
     "input": [
      "length_of_bridge = 15"
     ],
     "language": "python",
     "metadata": {},
     "outputs": []
    },
    {
     "cell_type": "markdown",
     "metadata": {},
     "source": [
      "For the assertion operator use the usual `==`, `<`, `>`, `!=`, etc."
     ]
    },
    {
     "cell_type": "code",
     "collapsed": false,
     "input": [
      "length_of_bridge == 15"
     ],
     "language": "python",
     "metadata": {},
     "outputs": []
    },
    {
     "cell_type": "code",
     "collapsed": false,
     "input": [
      "length_of_bridge >= 15"
     ],
     "language": "python",
     "metadata": {},
     "outputs": []
    },
    {
     "cell_type": "code",
     "collapsed": false,
     "input": [
      "length_of_bridge != 15"
     ],
     "language": "python",
     "metadata": {},
     "outputs": []
    },
    {
     "cell_type": "markdown",
     "metadata": {},
     "source": [
      "Getting rid of a variable."
     ]
    },
    {
     "cell_type": "code",
     "collapsed": false,
     "input": [
      "del length_of_bridge"
     ],
     "language": "python",
     "metadata": {},
     "outputs": []
    },
    {
     "cell_type": "markdown",
     "metadata": {},
     "source": [
      "Note: For now, it's best to think of del as a way to clean up the namespace rather than as the equivalent of `free` in C, i.e., a memory-management tool. You can read some more about garbage collection in CPython [here](http://docs.python.org/2/library/gc.html), if you're interested."
     ]
    },
    {
     "cell_type": "markdown",
     "metadata": {},
     "source": [
      "You can find out what variables are declared in the local or global namespace, by using the dictionaries locals() and globals()."
     ]
    },
    {
     "cell_type": "code",
     "collapsed": false,
     "input": [
      "x = 12"
     ],
     "language": "python",
     "metadata": {},
     "outputs": []
    },
    {
     "cell_type": "code",
     "collapsed": false,
     "input": [
      "locals()['x']"
     ],
     "language": "python",
     "metadata": {},
     "outputs": []
    },
    {
     "cell_type": "code",
     "collapsed": false,
     "input": [
      "del x"
     ],
     "language": "python",
     "metadata": {},
     "outputs": []
    },
    {
     "cell_type": "code",
     "collapsed": false,
     "input": [
      "locals().get('x', 'not here')"
     ],
     "language": "python",
     "metadata": {},
     "outputs": []
    },
    {
     "cell_type": "markdown",
     "metadata": {},
     "source": [
      "You can increment and decrement variables in-place using += and -=."
     ]
    },
    {
     "cell_type": "code",
     "collapsed": false,
     "input": [
      "x = 12\n",
      "x += 1\n",
      "print x"
     ],
     "language": "python",
     "metadata": {},
     "outputs": []
    },
    {
     "cell_type": "heading",
     "level": 2,
     "metadata": {},
     "source": [
      "Built-in types: iterables"
     ]
    },
    {
     "cell_type": "markdown",
     "metadata": {},
     "source": [
      "**Lists** are constructed with square brackets separating items with commas. Lists are mutable."
     ]
    },
    {
     "cell_type": "code",
     "collapsed": false,
     "input": [
      "heights = [21.6, 22.5, 19.8, 20.5]"
     ],
     "language": "python",
     "metadata": {},
     "outputs": []
    },
    {
     "cell_type": "markdown",
     "metadata": {},
     "source": [
      "All Python iterables are zero-indexed."
     ]
    },
    {
     "cell_type": "code",
     "collapsed": false,
     "input": [
      "print heights[0]"
     ],
     "language": "python",
     "metadata": {},
     "outputs": []
    },
    {
     "cell_type": "markdown",
     "metadata": {},
     "source": [
      "You can use negative indexing."
     ]
    },
    {
     "cell_type": "code",
     "collapsed": false,
     "input": [
      "print heights[-1]"
     ],
     "language": "python",
     "metadata": {},
     "outputs": []
    },
    {
     "cell_type": "markdown",
     "metadata": {},
     "source": [
      "Lists are mutable."
     ]
    },
    {
     "cell_type": "code",
     "collapsed": false,
     "input": [
      "heights[2] = 12"
     ],
     "language": "python",
     "metadata": {},
     "outputs": []
    },
    {
     "cell_type": "markdown",
     "metadata": {},
     "source": [
      "Be careful. `a` is a reference to the list we created. Python passes this *same* reference on assignment."
     ]
    },
    {
     "cell_type": "code",
     "collapsed": false,
     "input": [
      "a = [21.6, 22.5, 19.8, 20.5]"
     ],
     "language": "python",
     "metadata": {},
     "outputs": []
    },
    {
     "cell_type": "code",
     "collapsed": false,
     "input": [
      "b = a\n",
      "b[2] = 32.1\n",
      "print a"
     ],
     "language": "python",
     "metadata": {},
     "outputs": []
    },
    {
     "cell_type": "code",
     "collapsed": false,
     "input": [
      "id(a)"
     ],
     "language": "python",
     "metadata": {},
     "outputs": []
    },
    {
     "cell_type": "code",
     "collapsed": false,
     "input": [
      "id(b)"
     ],
     "language": "python",
     "metadata": {},
     "outputs": []
    },
    {
     "cell_type": "markdown",
     "metadata": {},
     "source": [
      "Taking a slice, however, does copy."
     ]
    },
    {
     "cell_type": "code",
     "collapsed": false,
     "input": [
      "b = a[1:3]\n",
      "print b"
     ],
     "language": "python",
     "metadata": {},
     "outputs": []
    },
    {
     "cell_type": "code",
     "collapsed": false,
     "input": [
      "b[0] = 22.16\n",
      "print b\n",
      "print a"
     ],
     "language": "python",
     "metadata": {},
     "outputs": []
    },
    {
     "cell_type": "markdown",
     "metadata": {},
     "source": [
      "Or use the list constructor explicitly, after all, explicit is better than implicit."
     ]
    },
    {
     "cell_type": "code",
     "collapsed": false,
     "input": [
      "b = list(a)"
     ],
     "language": "python",
     "metadata": {},
     "outputs": []
    },
    {
     "cell_type": "code",
     "collapsed": false,
     "input": [
      "print id(a)"
     ],
     "language": "python",
     "metadata": {},
     "outputs": []
    },
    {
     "cell_type": "code",
     "collapsed": false,
     "input": [
      "print id(b)"
     ],
     "language": "python",
     "metadata": {},
     "outputs": []
    },
    {
     "cell_type": "markdown",
     "metadata": {},
     "source": [
      "You can place any objects in a list."
     ]
    },
    {
     "cell_type": "code",
     "collapsed": false,
     "input": [
      "a = [1, 2, [10, 11]]"
     ],
     "language": "python",
     "metadata": {},
     "outputs": []
    },
    {
     "cell_type": "code",
     "collapsed": false,
     "input": [
      "print a[0]"
     ],
     "language": "python",
     "metadata": {},
     "outputs": []
    },
    {
     "cell_type": "code",
     "collapsed": false,
     "input": [
      "print a[-1]"
     ],
     "language": "python",
     "metadata": {},
     "outputs": []
    },
    {
     "cell_type": "markdown",
     "metadata": {},
     "source": [
      "You can quickly create list with the range function."
     ]
    },
    {
     "cell_type": "code",
     "collapsed": false,
     "input": [
      "years = range(1996, 2013)"
     ],
     "language": "python",
     "metadata": {},
     "outputs": []
    },
    {
     "cell_type": "code",
     "collapsed": false,
     "input": [
      "print years"
     ],
     "language": "python",
     "metadata": {},
     "outputs": []
    },
    {
     "cell_type": "markdown",
     "metadata": {},
     "source": [
      "You can given offset to range."
     ]
    },
    {
     "cell_type": "code",
     "collapsed": false,
     "input": [
      "years = range(1996, 2013, 4)"
     ],
     "language": "python",
     "metadata": {},
     "outputs": []
    },
    {
     "cell_type": "code",
     "collapsed": false,
     "input": [
      "print years"
     ],
     "language": "python",
     "metadata": {},
     "outputs": []
    },
    {
     "cell_type": "markdown",
     "metadata": {},
     "source": [
      "<h4>Quick Review Question #: Create a list for each of the following:</h4>\n",
      "\n",
      "1. A list called `ages` with values 19, 21, 21, 20.\n",
      "2. A list called `names` with values \"Lucky\", \"Dusty\", and \"Ned\"."
     ]
    },
    {
     "cell_type": "markdown",
     "metadata": {},
     "source": [
      "<h4>Use the range function to create vector variables for each of the following:</h4>\n",
      "\n",
      "1. A list called `item_nums` with all the whole numbers between (and including) 10000 and 10005.\n",
      "2. A list called `pipe_fittings` with all the even numbers between (and including) 32 and 48."
     ]
    },
    {
     "cell_type": "markdown",
     "metadata": {},
     "source": [
      "**Tuples** are much like lists; however, they are immutable and, therefore, [hashable](http://docs.python.org/2/glossary.html#term-hashable). You instantiate a tuple using parantheses () and separate items using a comma."
     ]
    },
    {
     "cell_type": "code",
     "collapsed": false,
     "input": [
      "a = (1, 2, 3)"
     ],
     "language": "python",
     "metadata": {},
     "outputs": []
    },
    {
     "cell_type": "code",
     "collapsed": false,
     "input": [
      "print a"
     ],
     "language": "python",
     "metadata": {},
     "outputs": []
    },
    {
     "cell_type": "code",
     "collapsed": false,
     "input": [
      "for i in a:\n",
      "    print i"
     ],
     "language": "python",
     "metadata": {},
     "outputs": []
    },
    {
     "cell_type": "code",
     "collapsed": false,
     "input": [
      "try:\n",
      "    a[1] = 12\n",
      "except:\n",
      "    print \"You can't do that!\""
     ],
     "language": "python",
     "metadata": {},
     "outputs": []
    },
    {
     "cell_type": "markdown",
     "metadata": {},
     "source": [
      "The **try** statement in the above executes the code in its scope and catches any exceptions. If an exception is caught, the code in the except scope is executed. You can specifiy the types of errors to catch."
     ]
    },
    {
     "cell_type": "code",
     "collapsed": false,
     "input": [
      "try:\n",
      "    1/0\n",
      "    print 'ok'\n",
      "except ZeroDivisionError:\n",
      "    print \"You can't divide by zero!\""
     ],
     "language": "python",
     "metadata": {},
     "outputs": []
    },
    {
     "cell_type": "code",
     "collapsed": false,
     "input": [
      "try:\n",
      "    1/1.\n",
      "    print 'ok'\n",
      "except ZeroDivisionError:\n",
      "    print \"You can't divide by zero!\""
     ],
     "language": "python",
     "metadata": {},
     "outputs": []
    },
    {
     "cell_type": "markdown",
     "metadata": {},
     "source": [
      "**Strings** are also an iterables. However, it may surprise you that strings are immutable unlike in C."
     ]
    },
    {
     "cell_type": "code",
     "collapsed": false,
     "input": [
      "a = 'abcdef'"
     ],
     "language": "python",
     "metadata": {},
     "outputs": []
    },
    {
     "cell_type": "code",
     "collapsed": false,
     "input": [
      "for i in a:\n",
      "    print i"
     ],
     "language": "python",
     "metadata": {},
     "outputs": []
    },
    {
     "cell_type": "code",
     "collapsed": false,
     "input": [
      "print a[2]"
     ],
     "language": "python",
     "metadata": {},
     "outputs": []
    },
    {
     "cell_type": "code",
     "collapsed": false,
     "input": [
      "try:\n",
      "    a[2] = 12\n",
      "except:\n",
      "    print \"You can't do that\""
     ],
     "language": "python",
     "metadata": {},
     "outputs": []
    },
    {
     "cell_type": "markdown",
     "metadata": {},
     "source": [
      "A **dictionary** is a mapping type. It maps [hashable](http://docs.python.org/2/glossary.html#term-hashable) keys to arbitrary objects. Hashable simply means that mutable objects cannot be used as keys to a dictionary. I.e., since lists and dictionaries are mutable, they can't be keys of a dictionary. Dictionaries can be instantiated in a number of ways. The most common is through curly brackets and using `dict`."
     ]
    },
    {
     "cell_type": "code",
     "collapsed": false,
     "input": [
      "d = {1 : 'I am a value', 'key' : 'Another value', '2' : [1, 2, 3]}"
     ],
     "language": "python",
     "metadata": {},
     "outputs": []
    },
    {
     "cell_type": "markdown",
     "metadata": {},
     "source": [
      "You can get that values associated with a key like so"
     ]
    },
    {
     "cell_type": "code",
     "collapsed": false,
     "input": [
      "d[1]"
     ],
     "language": "python",
     "metadata": {},
     "outputs": []
    },
    {
     "cell_type": "code",
     "collapsed": false,
     "input": [
      "d['2']"
     ],
     "language": "python",
     "metadata": {},
     "outputs": []
    },
    {
     "cell_type": "code",
     "collapsed": false,
     "input": [
      "d['key']"
     ],
     "language": "python",
     "metadata": {},
     "outputs": []
    },
    {
     "cell_type": "code",
     "collapsed": false,
     "input": [
      "d.get(12)"
     ],
     "language": "python",
     "metadata": {},
     "outputs": []
    },
    {
     "cell_type": "code",
     "collapsed": false,
     "input": [
      "d = dict(key=12, other_key=[1, 2, 3])"
     ],
     "language": "python",
     "metadata": {},
     "outputs": []
    },
    {
     "cell_type": "code",
     "collapsed": false,
     "input": [
      "d['other_key']"
     ],
     "language": "python",
     "metadata": {},
     "outputs": []
    },
    {
     "cell_type": "markdown",
     "metadata": {},
     "source": [
      "Or create a dictionary from an iterable."
     ]
    },
    {
     "cell_type": "code",
     "collapsed": false,
     "input": [
      "key_value_pairs = [('key', [1, 2, 3]), ('other', 12), (12, 'value')]\n",
      "d = dict(key_value_pairs)"
     ],
     "language": "python",
     "metadata": {},
     "outputs": []
    },
    {
     "cell_type": "code",
     "collapsed": false,
     "input": [
      "d"
     ],
     "language": "python",
     "metadata": {},
     "outputs": []
    },
    {
     "cell_type": "markdown",
     "metadata": {},
     "source": [
      "You can find out much more about built-in types and operators in the Python documentation [here](http://docs.python.org/2/library/stdtypes.html). You should be pretty familiar with this. I recommend reading it for homework."
     ]
    },
    {
     "cell_type": "markdown",
     "metadata": {},
     "source": [
      "Some useful functions for working with sequences."
     ]
    },
    {
     "cell_type": "code",
     "collapsed": false,
     "input": [
      "a = range(1, 100, 12)"
     ],
     "language": "python",
     "metadata": {},
     "outputs": []
    },
    {
     "cell_type": "code",
     "collapsed": false,
     "input": [
      "len(a)"
     ],
     "language": "python",
     "metadata": {},
     "outputs": []
    },
    {
     "cell_type": "code",
     "collapsed": false,
     "input": [
      "13 in a"
     ],
     "language": "python",
     "metadata": {},
     "outputs": []
    },
    {
     "cell_type": "code",
     "collapsed": false,
     "input": [
      "15 in a"
     ],
     "language": "python",
     "metadata": {},
     "outputs": []
    },
    {
     "cell_type": "code",
     "collapsed": false,
     "input": [
      "15 not in a"
     ],
     "language": "python",
     "metadata": {},
     "outputs": []
    },
    {
     "cell_type": "markdown",
     "metadata": {},
     "source": [
      "The following will give the methods and/or attributes available for any object."
     ]
    },
    {
     "cell_type": "code",
     "collapsed": false,
     "input": [
      "dir(a)"
     ],
     "language": "python",
     "metadata": {},
     "outputs": []
    },
    {
     "cell_type": "markdown",
     "metadata": {},
     "source": [
      "Using list-comprehension we can filter out some of the noise here."
     ]
    },
    {
     "cell_type": "code",
     "collapsed": false,
     "input": [
      "[i for i in dir(a) if not i.startswith(\"_\")]"
     ],
     "language": "python",
     "metadata": {},
     "outputs": []
    },
    {
     "cell_type": "markdown",
     "metadata": {},
     "source": [
      "Or use IPython's tab-completion."
     ]
    },
    {
     "cell_type": "markdown",
     "metadata": {},
     "source": [
      "    In [1]: a.<tab>\n",
      "    a.append   a.count    a.extend   a.index    a.insert   a.pop      a.remove   a.reverse  a.sort    "
     ]
    },
    {
     "cell_type": "heading",
     "level": 2,
     "metadata": {},
     "source": [
      "Control Flow Tools"
     ]
    },
    {
     "cell_type": "markdown",
     "metadata": {},
     "source": [
      "**if** statements"
     ]
    },
    {
     "cell_type": "code",
     "collapsed": false,
     "input": [
      "x = 42"
     ],
     "language": "python",
     "metadata": {},
     "outputs": []
    },
    {
     "cell_type": "code",
     "collapsed": false,
     "input": [
      "if x < 0:\n",
      "    x = 0\n",
      "    print 'Negative set to zero'\n",
      "elif x == 0:\n",
      "    print 'Zero'\n",
      "elif x == 1:\n",
      "    print 'Single'\n",
      "else:\n",
      "    print 'More'"
     ],
     "language": "python",
     "metadata": {},
     "outputs": []
    },
    {
     "cell_type": "markdown",
     "metadata": {},
     "source": [
      "**for loops**"
     ]
    },
    {
     "cell_type": "code",
     "collapsed": false,
     "input": [
      "for i in xrange(10):\n",
      "    print i"
     ],
     "language": "python",
     "metadata": {},
     "outputs": []
    },
    {
     "cell_type": "markdown",
     "metadata": {},
     "source": [
      "What is xrange? We will discuss generators in an advanced tutorial."
     ]
    },
    {
     "cell_type": "markdown",
     "metadata": {},
     "source": [
      "**while loops**"
     ]
    },
    {
     "cell_type": "code",
     "collapsed": false,
     "input": [
      "x = 0\n",
      "while x < 5:\n",
      "    print x\n",
      "    x += 1"
     ],
     "language": "python",
     "metadata": {},
     "outputs": []
    },
    {
     "cell_type": "markdown",
     "metadata": {},
     "source": [
      "**break** and **continue** statements"
     ]
    },
    {
     "cell_type": "code",
     "collapsed": false,
     "input": [
      "for i in range(2, 10):\n",
      "    if i > 5:\n",
      "        break\n",
      "    print i"
     ],
     "language": "python",
     "metadata": {},
     "outputs": []
    },
    {
     "cell_type": "code",
     "collapsed": false,
     "input": [
      "for i in range(2, 10):\n",
      "    if i == 5:\n",
      "        continue\n",
      "    print i"
     ],
     "language": "python",
     "metadata": {},
     "outputs": []
    },
    {
     "cell_type": "code",
     "collapsed": false,
     "input": [
      "for n in range(2, 10):\n",
      "    for x in range(2, n):\n",
      "        if n % x == 0:\n",
      "            print n, 'equals', x, '*', n/x\n",
      "            break\n",
      "    else:\n",
      "        # loop fell through without finding a factor\n",
      "        print n, 'is a prime number'"
     ],
     "language": "python",
     "metadata": {},
     "outputs": []
    },
    {
     "cell_type": "markdown",
     "metadata": {},
     "source": [
      "*Else* in the above belongs to the *for* clause. It is executed when the loop terminates through exhaustion of the list (with `for`) or when the condition becomes false (with `while`), but not when the loop is terminated by a `break` statement."
     ]
    },
    {
     "cell_type": "markdown",
     "metadata": {},
     "source": [
      "*Warning:* When doing numerical computations, you'll often want to avoid using *for*-loops and instead try to *vectorize* your code. We'll discuss the concept of vectorization in more details when we talk about NumPy."
     ]
    },
    {
     "cell_type": "markdown",
     "metadata": {},
     "source": [
      "<h4>Quick Review Question #</h4>\n",
      "Write a segment of code to assign 1 to a variable `d`. In a loop that executes 10 times, change the value of `d` to be double what it was before the previous iteration. After the loop, print `d` to display its final value. Determine the value of `d` beforehand to check your work."
     ]
    },
    {
     "cell_type": "markdown",
     "metadata": {},
     "source": [
      "In this loop, we increment `dist` by 2.25, compute time as $\\frac{24.5 - \\sqrt{600.25-29.6dist}}{9.8}$, then print out the distance and time for each step."
     ]
    },
    {
     "cell_type": "code",
     "collapsed": false,
     "input": [
      "dist = 0\n",
      "for i in range(1,8):\n",
      "    dist += 2.25\n",
      "    t = (24.5 - (600.25 - 29.6*dist)**.5)/9.8\n",
      "    print \"For distance %7.4f, time = %7.4f\" % (dist, t)"
     ],
     "language": "python",
     "metadata": {},
     "outputs": []
    },
    {
     "cell_type": "markdown",
     "metadata": {},
     "source": [
      "For more on string formatting see the Python documentation [here](http://docs.python.org/2/library/stdtypes.html#string-formatting)."
     ]
    },
    {
     "cell_type": "markdown",
     "metadata": {},
     "source": [
      "<h4>Quick Review Question #</h4>\n",
      "Complete another version of the code segment above that displays distance and time. In this version, do not initialize `dist`. Employ a loop with an index `i` that takes on integer values from 1 through 7.\n"
     ]
    },
    {
     "cell_type": "heading",
     "level": 2,
     "metadata": {},
     "source": [
      "User-Defined Functions"
     ]
    },
    {
     "cell_type": "markdown",
     "metadata": {},
     "source": [
      "We can define a function `square` that squares the input argument like so."
     ]
    },
    {
     "cell_type": "code",
     "collapsed": false,
     "input": [
      "def square(x):\n",
      "    \"\"\"\n",
      "    \"\"\"\n",
      "    return x**2"
     ],
     "language": "python",
     "metadata": {},
     "outputs": []
    },
    {
     "cell_type": "code",
     "collapsed": false,
     "input": [
      "square(12)"
     ],
     "language": "python",
     "metadata": {},
     "outputs": []
    },
    {
     "cell_type": "markdown",
     "metadata": {},
     "source": [
      "For a simple, small function like this, Python also provides what are called `lambda` functions, which are defined using the **lambda** statement."
     ]
    },
    {
     "cell_type": "code",
     "collapsed": false,
     "input": [
      "square2 = lambda x : x**2"
     ],
     "language": "python",
     "metadata": {},
     "outputs": []
    },
    {
     "cell_type": "code",
     "collapsed": false,
     "input": [
      "square2(12)"
     ],
     "language": "python",
     "metadata": {},
     "outputs": []
    },
    {
     "cell_type": "markdown",
     "metadata": {},
     "source": [
      "Python functions can and should have docstrings like the module docstring we saw above."
     ]
    },
    {
     "cell_type": "code",
     "collapsed": false,
     "input": [
      "def square(x):\n",
      "    \"\"\"\n",
      "    Returns the square of an input.\n",
      "\n",
      "    Parameters\n",
      "    ----------\n",
      "    x : scalar\n",
      "        A number to square.\n",
      "\n",
      "    Returns\n",
      "    -------\n",
      "    ret : scalar\n",
      "        The input `x` squared, ie., x**2\n",
      "    \"\"\"\n",
      "    return x**2"
     ],
     "language": "python",
     "metadata": {},
     "outputs": []
    },
    {
     "cell_type": "code",
     "collapsed": false,
     "input": [
      "print square.__doc__"
     ],
     "language": "python",
     "metadata": {},
     "outputs": []
    },
    {
     "cell_type": "markdown",
     "metadata": {},
     "source": [
      "<h4>Quick Review Question #</h4>\n",
      "\n",
      "1. Define a function $quick(x)=2sin(x-1)+2$. You can use `sin` from the built-in `math` module.\n",
      "2. Evaluate the function at $x=5$."
     ]
    },
    {
     "cell_type": "markdown",
     "metadata": {},
     "source": [
      "<h4>Quick Review Question #</h4>.\n",
      "\n",
      "1. Define the funtion qrq17 to be $\\ln({3x+2})$. You can use `log` from the built-in `math` module.\n",
      "2. Write a loop that prints the value of `k` and `arq17(k)` for the integers k from 1 to 8."
     ]
    },
    {
     "cell_type": "heading",
     "level": 2,
     "metadata": {},
     "source": [
      "User-Defined Classes"
     ]
    },
    {
     "cell_type": "code",
     "collapsed": false,
     "input": [
      "class Derivative(object):\n",
      "    \"\"\"\n",
      "    Object to evaluate a derivative using forward difference.\n",
      "\n",
      "    Parameters\n",
      "    ----------\n",
      "    func : function\n",
      "        Function for which you want to evaluate the derivative.\n",
      "\n",
      "    Returns\n",
      "    -------\n",
      "    der : Derivative\n",
      "        A callable object that returns the derivative of `func`\n",
      "    \"\"\"\n",
      "    def __init__(self, func):\n",
      "        self.func = func\n",
      "    \n",
      "    def __call__(self, x, h=1e-8):\n",
      "        \"\"\"\n",
      "        Return the derivative of self.func using forward difference.\n",
      "        \n",
      "        Parameters\n",
      "        ----------\n",
      "        x : scalar\n",
      "            The number at which to differentiate.\n",
      "        h : float, optional\n",
      "            The step-size for the forward difference.\n",
      "\n",
      "        Returns\n",
      "        -------\n",
      "        f'(x) : scalar\n",
      "            The derivative of func evaluated at x\n",
      "        \"\"\"\n",
      "        func = self.func\n",
      "        return (func(x + h) - func(x))/h"
     ],
     "language": "python",
     "metadata": {},
     "outputs": []
    },
    {
     "cell_type": "markdown",
     "metadata": {},
     "source": [
      "`__call__` is a special method name for Python classes. You can learn more about the use of special methods [here](http://docs.python.org/2/reference/datamodel.html#special-method-names)."
     ]
    },
    {
     "cell_type": "code",
     "collapsed": false,
     "input": [
      "import math\n",
      "\n",
      "der = Derivative(math.log)"
     ],
     "language": "python",
     "metadata": {},
     "outputs": []
    },
    {
     "cell_type": "code",
     "collapsed": false,
     "input": [
      "der(1.5)"
     ],
     "language": "python",
     "metadata": {},
     "outputs": []
    },
    {
     "cell_type": "markdown",
     "metadata": {},
     "source": [
      "Be careful, decreasing the step-size too small can result in round-off error. There are better algorithms for numerical differentiation."
     ]
    },
    {
     "cell_type": "code",
     "collapsed": false,
     "input": [
      "der(1.5, h=1e-12)"
     ],
     "language": "python",
     "metadata": {},
     "outputs": []
    },
    {
     "cell_type": "markdown",
     "metadata": {},
     "source": [
      "Special methods are optional, though you'll often want to implement `__init__` unless you are inheriting from another class that has already defined it. Instance methods always take the class instance as the first argument. For example"
     ]
    },
    {
     "cell_type": "code",
     "collapsed": false,
     "input": [
      "class Animal(object):\n",
      "    def speak(self):\n",
      "        print self.what_i_say\n",
      "\n",
      "class Duck(Animal):\n",
      "    def __init__(self):\n",
      "        self.what_i_say = \"Quack\""
     ],
     "language": "python",
     "metadata": {},
     "outputs": []
    },
    {
     "cell_type": "code",
     "collapsed": false,
     "input": [
      "duck = Duck()\n",
      "duck.speak()"
     ],
     "language": "python",
     "metadata": {},
     "outputs": []
    },
    {
     "cell_type": "heading",
     "level": 2,
     "metadata": {},
     "source": [
      "Additional IPython features"
     ]
    },
    {
     "cell_type": "markdown",
     "metadata": {},
     "source": [
      "up and down arrows. tab-completion. qtconsole."
     ]
    },
    {
     "cell_type": "markdown",
     "metadata": {},
     "source": [
      "You can use the up and down arrows to navigate through your history or commandas. You can use the tab key to do introspection on objects as mentioned above. IPython's QtConsole is much like an interpreter, but has some enhancements only possible in a GUI. You may be interested in using it and can find out more [here](http://ipython.org/ipython-doc/dev/interactive/qtconsole.html)"
     ]
    },
    {
     "cell_type": "markdown",
     "metadata": {},
     "source": [
      "Magic functions. Magic functions are IPython-specific statements that permit some pretty great usages. They are prefaced by a % for in-line magics and %% for cell magics. You can read more in the [IPython documentation](http://ipython.org/ipython-doc/dev/interactive/tutorial.html). If you have automagic turned on, then the % is optional. Some examples follow"
     ]
    },
    {
     "cell_type": "markdown",
     "metadata": {},
     "source": [
      "%timeit"
     ]
    },
    {
     "cell_type": "code",
     "collapsed": false,
     "input": [
      "timeit range(100)"
     ],
     "language": "python",
     "metadata": {},
     "outputs": []
    },
    {
     "cell_type": "code",
     "collapsed": false,
     "input": [
      "%%timeit a = range(100)\n",
      "b = max(a)"
     ],
     "language": "python",
     "metadata": {},
     "outputs": []
    },
    {
     "cell_type": "markdown",
     "metadata": {},
     "source": [
      "%run"
     ]
    },
    {
     "cell_type": "code",
     "collapsed": false,
     "input": [
      "#run some_file.py"
     ],
     "language": "python",
     "metadata": {},
     "outputs": []
    },
    {
     "cell_type": "markdown",
     "metadata": {},
     "source": [
      "%hist"
     ]
    },
    {
     "cell_type": "code",
     "collapsed": false,
     "input": [
      "#%hist"
     ],
     "language": "python",
     "metadata": {},
     "outputs": []
    },
    {
     "cell_type": "markdown",
     "metadata": {},
     "source": [
      "shell commands"
     ]
    },
    {
     "cell_type": "code",
     "collapsed": false,
     "input": [
      "!ls"
     ],
     "language": "python",
     "metadata": {},
     "outputs": []
    },
    {
     "cell_type": "markdown",
     "metadata": {},
     "source": [
      "paste"
     ]
    },
    {
     "cell_type": "markdown",
     "metadata": {},
     "source": [
      "    for i in range(10):\n",
      "        print i"
     ]
    },
    {
     "cell_type": "code",
     "collapsed": false,
     "input": [
      "#%paste"
     ],
     "language": "python",
     "metadata": {},
     "outputs": []
    }
   ],
   "metadata": {}
  }
 ]
}
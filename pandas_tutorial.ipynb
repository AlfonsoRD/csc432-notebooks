{
 "metadata": {
  "name": "pandas_tutorial"
 },
 "nbformat": 3,
 "nbformat_minor": 0,
 "worksheets": [
  {
   "cells": [
    {
     "cell_type": "heading",
     "level": 2,
     "metadata": {},
     "source": [
      "Pandas"
     ]
    },
    {
     "cell_type": "markdown",
     "metadata": {},
     "source": [
      "This is a brief 5-minute introduction to **pandas**. 5-minutes isn't even enough time to scratch the surface of pandas. I encourage you to go through the official [pandas documentation](http://pandas.pydata.org/pandas-docs/stable/) to really get a feel for what the library can do. Or better yet, purchase [Python for Data Analysis](http://www.amazon.com/gp/product/1449319793/ref=as_li_ss_tl?ie=UTF8&camp=1789&creative=390957&creativeASIN=1449319793&linkCode=as2&tag=scistapro-20) by Wes McKinney."
     ]
    },
    {
     "cell_type": "code",
     "collapsed": false,
     "input": [
      "import pandas as pd"
     ],
     "language": "python",
     "metadata": {},
     "outputs": [],
     "prompt_number": 4
    },
    {
     "cell_type": "heading",
     "level": 4,
     "metadata": {},
     "source": [
      "Reading in Data"
     ]
    },
    {
     "cell_type": "code",
     "collapsed": false,
     "input": [
      "import os\n",
      "\n",
      "path = \"/home/skipper/school/csc432/notebooks/\"\n",
      "salary_data = pd.read_csv(os.path.join(path, \"data\", \"salary_table.csv\"))"
     ],
     "language": "python",
     "metadata": {},
     "outputs": [],
     "prompt_number": 29
    },
    {
     "cell_type": "code",
     "collapsed": false,
     "input": [
      "type(salary_data)"
     ],
     "language": "python",
     "metadata": {},
     "outputs": [
      {
       "output_type": "pyout",
       "prompt_number": 34,
       "text": [
        "pandas.core.frame.DataFrame"
       ]
      }
     ],
     "prompt_number": 34
    },
    {
     "cell_type": "code",
     "collapsed": false,
     "input": [
      "salary_data.head(5)"
     ],
     "language": "python",
     "metadata": {},
     "outputs": [
      {
       "html": [
        "<div style=\"max-height:1000px;max-width:1500px;overflow:auto;\">\n",
        "<table border=\"1\" class=\"dataframe\">\n",
        "  <thead>\n",
        "    <tr style=\"text-align: right;\">\n",
        "      <th></th>\n",
        "      <th>salary</th>\n",
        "      <th>experience</th>\n",
        "      <th>job_role</th>\n",
        "      <th>educ</th>\n",
        "    </tr>\n",
        "  </thead>\n",
        "  <tbody>\n",
        "    <tr>\n",
        "      <td><strong>0</strong></td>\n",
        "      <td> 13876</td>\n",
        "      <td> 1</td>\n",
        "      <td>     management</td>\n",
        "      <td> bachelors</td>\n",
        "    </tr>\n",
        "    <tr>\n",
        "      <td><strong>1</strong></td>\n",
        "      <td> 11608</td>\n",
        "      <td> 1</td>\n",
        "      <td> non-management</td>\n",
        "      <td>       phd</td>\n",
        "    </tr>\n",
        "    <tr>\n",
        "      <td><strong>2</strong></td>\n",
        "      <td> 18701</td>\n",
        "      <td> 1</td>\n",
        "      <td>     management</td>\n",
        "      <td>       phd</td>\n",
        "    </tr>\n",
        "    <tr>\n",
        "      <td><strong>3</strong></td>\n",
        "      <td> 11283</td>\n",
        "      <td> 1</td>\n",
        "      <td> non-management</td>\n",
        "      <td>   masters</td>\n",
        "    </tr>\n",
        "    <tr>\n",
        "      <td><strong>4</strong></td>\n",
        "      <td> 11767</td>\n",
        "      <td> 1</td>\n",
        "      <td> non-management</td>\n",
        "      <td>       phd</td>\n",
        "    </tr>\n",
        "  </tbody>\n",
        "</table>\n",
        "</div>"
       ],
       "output_type": "pyout",
       "prompt_number": 30,
       "text": [
        "   salary  experience        job_role       educ\n",
        "0   13876           1      management  bachelors\n",
        "1   11608           1  non-management        phd\n",
        "2   18701           1      management        phd\n",
        "3   11283           1  non-management    masters\n",
        "4   11767           1  non-management        phd"
       ]
      }
     ],
     "prompt_number": 30
    },
    {
     "cell_type": "code",
     "collapsed": false,
     "input": [
      "salary_data[\"job_role\"]"
     ],
     "language": "python",
     "metadata": {},
     "outputs": [
      {
       "output_type": "pyout",
       "prompt_number": 39,
       "text": [
        "0         management\n",
        "1     non-management\n",
        "2         management\n",
        "3     non-management\n",
        "4     non-management\n",
        "5         management\n",
        "6     non-management\n",
        "7     non-management\n",
        "8     non-management\n",
        "9     non-management\n",
        "10        management\n",
        "11        management\n",
        "12        management\n",
        "13    non-management\n",
        "14        management\n",
        "15    non-management\n",
        "16    non-management\n",
        "17    non-management\n",
        "18    non-management\n",
        "19        management\n",
        "20    non-management\n",
        "21        management\n",
        "22    non-management\n",
        "23        management\n",
        "24        management\n",
        "25    non-management\n",
        "26        management\n",
        "27        management\n",
        "28    non-management\n",
        "29    non-management\n",
        "30    non-management\n",
        "31        management\n",
        "32        management\n",
        "33        management\n",
        "34    non-management\n",
        "35    non-management\n",
        "36        management\n",
        "37    non-management\n",
        "38        management\n",
        "39    non-management\n",
        "40        management\n",
        "41        management\n",
        "42    non-management\n",
        "43    non-management\n",
        "44    non-management\n",
        "45    non-management\n",
        "Name: job_role"
       ]
      }
     ],
     "prompt_number": 39
    },
    {
     "cell_type": "code",
     "collapsed": false,
     "input": [
      "salary_data.ix[:5]"
     ],
     "language": "python",
     "metadata": {},
     "outputs": [
      {
       "html": [
        "<div style=\"max-height:1000px;max-width:1500px;overflow:auto;\">\n",
        "<table border=\"1\" class=\"dataframe\">\n",
        "  <thead>\n",
        "    <tr style=\"text-align: right;\">\n",
        "      <th></th>\n",
        "      <th>salary</th>\n",
        "      <th>experience</th>\n",
        "      <th>job_role</th>\n",
        "      <th>educ</th>\n",
        "    </tr>\n",
        "  </thead>\n",
        "  <tbody>\n",
        "    <tr>\n",
        "      <td><strong>0</strong></td>\n",
        "      <td> 13876</td>\n",
        "      <td> 1</td>\n",
        "      <td>     management</td>\n",
        "      <td> bachelors</td>\n",
        "    </tr>\n",
        "    <tr>\n",
        "      <td><strong>1</strong></td>\n",
        "      <td> 11608</td>\n",
        "      <td> 1</td>\n",
        "      <td> non-management</td>\n",
        "      <td>       phd</td>\n",
        "    </tr>\n",
        "    <tr>\n",
        "      <td><strong>2</strong></td>\n",
        "      <td> 18701</td>\n",
        "      <td> 1</td>\n",
        "      <td>     management</td>\n",
        "      <td>       phd</td>\n",
        "    </tr>\n",
        "    <tr>\n",
        "      <td><strong>3</strong></td>\n",
        "      <td> 11283</td>\n",
        "      <td> 1</td>\n",
        "      <td> non-management</td>\n",
        "      <td>   masters</td>\n",
        "    </tr>\n",
        "    <tr>\n",
        "      <td><strong>4</strong></td>\n",
        "      <td> 11767</td>\n",
        "      <td> 1</td>\n",
        "      <td> non-management</td>\n",
        "      <td>       phd</td>\n",
        "    </tr>\n",
        "    <tr>\n",
        "      <td><strong>5</strong></td>\n",
        "      <td> 20872</td>\n",
        "      <td> 2</td>\n",
        "      <td>     management</td>\n",
        "      <td>   masters</td>\n",
        "    </tr>\n",
        "  </tbody>\n",
        "</table>\n",
        "</div>"
       ],
       "output_type": "pyout",
       "prompt_number": 40,
       "text": [
        "   salary  experience        job_role       educ\n",
        "0   13876           1      management  bachelors\n",
        "1   11608           1  non-management        phd\n",
        "2   18701           1      management        phd\n",
        "3   11283           1  non-management    masters\n",
        "4   11767           1  non-management        phd\n",
        "5   20872           2      management    masters"
       ]
      }
     ],
     "prompt_number": 40
    },
    {
     "cell_type": "heading",
     "level": 4,
     "metadata": {},
     "source": [
      "Grouping the data"
     ]
    },
    {
     "cell_type": "code",
     "collapsed": false,
     "input": [
      "grouped = salary_data.groupby(\"job_role\")"
     ],
     "language": "python",
     "metadata": {},
     "outputs": [],
     "prompt_number": 31
    },
    {
     "cell_type": "code",
     "collapsed": false,
     "input": [
      "grouped.mean()"
     ],
     "language": "python",
     "metadata": {},
     "outputs": [
      {
       "html": [
        "<div style=\"max-height:1000px;max-width:1500px;overflow:auto;\">\n",
        "<table border=\"1\" class=\"dataframe\">\n",
        "  <thead>\n",
        "    <tr style=\"text-align: right;\">\n",
        "      <th></th>\n",
        "      <th>salary</th>\n",
        "      <th>experience</th>\n",
        "    </tr>\n",
        "    <tr>\n",
        "      <th>job_role</th>\n",
        "      <th></th>\n",
        "      <th></th>\n",
        "    </tr>\n",
        "  </thead>\n",
        "  <tbody>\n",
        "    <tr>\n",
        "      <td><strong>management</strong></td>\n",
        "      <td> 21150.550000</td>\n",
        "      <td> 7.200000</td>\n",
        "    </tr>\n",
        "    <tr>\n",
        "      <td><strong>non-management</strong></td>\n",
        "      <td> 14285.307692</td>\n",
        "      <td> 7.730769</td>\n",
        "    </tr>\n",
        "  </tbody>\n",
        "</table>\n",
        "</div>"
       ],
       "output_type": "pyout",
       "prompt_number": 32,
       "text": [
        "                      salary  experience\n",
        "job_role                                \n",
        "management      21150.550000    7.200000\n",
        "non-management  14285.307692    7.730769"
       ]
      }
     ],
     "prompt_number": 32
    },
    {
     "cell_type": "heading",
     "level": 4,
     "metadata": {},
     "source": [
      "Time-Series"
     ]
    },
    {
     "cell_type": "code",
     "collapsed": false,
     "input": [
      "dates = pd.date_range('1/1/2000', periods=50)\n",
      "df = pd.DataFrame(np.random.randn(50, 4), index=dates, \n",
      "                  columns=['A', 'B', 'C', 'D'])"
     ],
     "language": "python",
     "metadata": {},
     "outputs": [],
     "prompt_number": 57
    },
    {
     "cell_type": "code",
     "collapsed": false,
     "input": [
      "pd.set_printoptions(max_rows=49)"
     ],
     "language": "python",
     "metadata": {},
     "outputs": [],
     "prompt_number": 58
    },
    {
     "cell_type": "code",
     "collapsed": false,
     "input": [
      "df"
     ],
     "language": "python",
     "metadata": {},
     "outputs": [
      {
       "output_type": "pyout",
       "prompt_number": 59,
       "text": [
        "<class 'pandas.core.frame.DataFrame'>\n",
        "DatetimeIndex: 50 entries, 2000-01-01 00:00:00 to 2000-02-19 00:00:00\n",
        "Freq: D\n",
        "Data columns:\n",
        "A    50  non-null values\n",
        "B    50  non-null values\n",
        "C    50  non-null values\n",
        "D    50  non-null values\n",
        "dtypes: float64(4)"
       ]
      }
     ],
     "prompt_number": 59
    },
    {
     "cell_type": "code",
     "collapsed": false,
     "input": [
      "df.head(5)"
     ],
     "language": "python",
     "metadata": {},
     "outputs": [
      {
       "html": [
        "<div style=\"max-height:1000px;max-width:1500px;overflow:auto;\">\n",
        "<table border=\"1\" class=\"dataframe\">\n",
        "  <thead>\n",
        "    <tr style=\"text-align: right;\">\n",
        "      <th></th>\n",
        "      <th>A</th>\n",
        "      <th>B</th>\n",
        "      <th>C</th>\n",
        "      <th>D</th>\n",
        "    </tr>\n",
        "  </thead>\n",
        "  <tbody>\n",
        "    <tr>\n",
        "      <td><strong>2000-01-01</strong></td>\n",
        "      <td>-0.268448</td>\n",
        "      <td>-0.308825</td>\n",
        "      <td> 0.774142</td>\n",
        "      <td>-1.796926</td>\n",
        "    </tr>\n",
        "    <tr>\n",
        "      <td><strong>2000-01-02</strong></td>\n",
        "      <td>-0.892986</td>\n",
        "      <td> 0.125591</td>\n",
        "      <td> 0.385673</td>\n",
        "      <td> 0.049917</td>\n",
        "    </tr>\n",
        "    <tr>\n",
        "      <td><strong>2000-01-03</strong></td>\n",
        "      <td> 0.167546</td>\n",
        "      <td>-1.071430</td>\n",
        "      <td> 1.134614</td>\n",
        "      <td>-1.186310</td>\n",
        "    </tr>\n",
        "    <tr>\n",
        "      <td><strong>2000-01-04</strong></td>\n",
        "      <td>-0.015510</td>\n",
        "      <td> 0.306348</td>\n",
        "      <td>-0.733467</td>\n",
        "      <td> 1.069418</td>\n",
        "    </tr>\n",
        "    <tr>\n",
        "      <td><strong>2000-01-05</strong></td>\n",
        "      <td>-1.185862</td>\n",
        "      <td> 1.148322</td>\n",
        "      <td> 0.342988</td>\n",
        "      <td> 0.849780</td>\n",
        "    </tr>\n",
        "  </tbody>\n",
        "</table>\n",
        "</div>"
       ],
       "output_type": "pyout",
       "prompt_number": 60,
       "text": [
        "                   A         B         C         D\n",
        "2000-01-01 -0.268448 -0.308825  0.774142 -1.796926\n",
        "2000-01-02 -0.892986  0.125591  0.385673  0.049917\n",
        "2000-01-03  0.167546 -1.071430  1.134614 -1.186310\n",
        "2000-01-04 -0.015510  0.306348 -0.733467  1.069418\n",
        "2000-01-05 -1.185862  1.148322  0.342988  0.849780"
       ]
      }
     ],
     "prompt_number": 60
    },
    {
     "cell_type": "code",
     "collapsed": false,
     "input": [
      "df.ix[\"2000-1-5\":\"2000-1-15\"]"
     ],
     "language": "python",
     "metadata": {},
     "outputs": [
      {
       "html": [
        "<div style=\"max-height:1000px;max-width:1500px;overflow:auto;\">\n",
        "<table border=\"1\" class=\"dataframe\">\n",
        "  <thead>\n",
        "    <tr style=\"text-align: right;\">\n",
        "      <th></th>\n",
        "      <th>A</th>\n",
        "      <th>B</th>\n",
        "      <th>C</th>\n",
        "      <th>D</th>\n",
        "    </tr>\n",
        "  </thead>\n",
        "  <tbody>\n",
        "    <tr>\n",
        "      <td><strong>2000-01-05</strong></td>\n",
        "      <td>-1.185862</td>\n",
        "      <td> 1.148322</td>\n",
        "      <td> 0.342988</td>\n",
        "      <td> 0.849780</td>\n",
        "    </tr>\n",
        "    <tr>\n",
        "      <td><strong>2000-01-06</strong></td>\n",
        "      <td>-0.099488</td>\n",
        "      <td>-1.721552</td>\n",
        "      <td> 1.572218</td>\n",
        "      <td> 0.437754</td>\n",
        "    </tr>\n",
        "    <tr>\n",
        "      <td><strong>2000-01-07</strong></td>\n",
        "      <td> 2.814491</td>\n",
        "      <td>-0.588642</td>\n",
        "      <td> 0.023060</td>\n",
        "      <td> 0.624882</td>\n",
        "    </tr>\n",
        "    <tr>\n",
        "      <td><strong>2000-01-08</strong></td>\n",
        "      <td> 0.557739</td>\n",
        "      <td> 1.648504</td>\n",
        "      <td> 0.063736</td>\n",
        "      <td>-0.477995</td>\n",
        "    </tr>\n",
        "    <tr>\n",
        "      <td><strong>2000-01-09</strong></td>\n",
        "      <td> 0.329745</td>\n",
        "      <td>-0.074961</td>\n",
        "      <td> 0.612869</td>\n",
        "      <td> 0.297460</td>\n",
        "    </tr>\n",
        "    <tr>\n",
        "      <td><strong>2000-01-10</strong></td>\n",
        "      <td>-1.112693</td>\n",
        "      <td>-0.731378</td>\n",
        "      <td>-0.490180</td>\n",
        "      <td> 1.784598</td>\n",
        "    </tr>\n",
        "    <tr>\n",
        "      <td><strong>2000-01-11</strong></td>\n",
        "      <td> 1.617124</td>\n",
        "      <td> 2.344832</td>\n",
        "      <td>-0.511554</td>\n",
        "      <td>-0.455480</td>\n",
        "    </tr>\n",
        "    <tr>\n",
        "      <td><strong>2000-01-12</strong></td>\n",
        "      <td>-0.082677</td>\n",
        "      <td>-0.523921</td>\n",
        "      <td>-0.002638</td>\n",
        "      <td>-1.540133</td>\n",
        "    </tr>\n",
        "    <tr>\n",
        "      <td><strong>2000-01-13</strong></td>\n",
        "      <td>-0.753414</td>\n",
        "      <td> 0.014335</td>\n",
        "      <td>-1.046230</td>\n",
        "      <td> 0.011632</td>\n",
        "    </tr>\n",
        "    <tr>\n",
        "      <td><strong>2000-01-14</strong></td>\n",
        "      <td> 0.321728</td>\n",
        "      <td>-0.499416</td>\n",
        "      <td>-1.168064</td>\n",
        "      <td>-0.444018</td>\n",
        "    </tr>\n",
        "    <tr>\n",
        "      <td><strong>2000-01-15</strong></td>\n",
        "      <td> 0.377910</td>\n",
        "      <td> 0.902787</td>\n",
        "      <td> 1.235783</td>\n",
        "      <td>-0.792743</td>\n",
        "    </tr>\n",
        "  </tbody>\n",
        "</table>\n",
        "</div>"
       ],
       "output_type": "pyout",
       "prompt_number": 62,
       "text": [
        "                   A         B         C         D\n",
        "2000-01-05 -1.185862  1.148322  0.342988  0.849780\n",
        "2000-01-06 -0.099488 -1.721552  1.572218  0.437754\n",
        "2000-01-07  2.814491 -0.588642  0.023060  0.624882\n",
        "2000-01-08  0.557739  1.648504  0.063736 -0.477995\n",
        "2000-01-09  0.329745 -0.074961  0.612869  0.297460\n",
        "2000-01-10 -1.112693 -0.731378 -0.490180  1.784598\n",
        "2000-01-11  1.617124  2.344832 -0.511554 -0.455480\n",
        "2000-01-12 -0.082677 -0.523921 -0.002638 -1.540133\n",
        "2000-01-13 -0.753414  0.014335 -1.046230  0.011632\n",
        "2000-01-14  0.321728 -0.499416 -1.168064 -0.444018\n",
        "2000-01-15  0.377910  0.902787  1.235783 -0.792743"
       ]
      }
     ],
     "prompt_number": 62
    },
    {
     "cell_type": "code",
     "collapsed": false,
     "input": [
      "df.resample(\"W\")"
     ],
     "language": "python",
     "metadata": {},
     "outputs": [
      {
       "html": [
        "<div style=\"max-height:1000px;max-width:1500px;overflow:auto;\">\n",
        "<table border=\"1\" class=\"dataframe\">\n",
        "  <thead>\n",
        "    <tr style=\"text-align: right;\">\n",
        "      <th></th>\n",
        "      <th>A</th>\n",
        "      <th>B</th>\n",
        "      <th>C</th>\n",
        "      <th>D</th>\n",
        "    </tr>\n",
        "  </thead>\n",
        "  <tbody>\n",
        "    <tr>\n",
        "      <td><strong>2000-01-02</strong></td>\n",
        "      <td>-0.580717</td>\n",
        "      <td>-0.091617</td>\n",
        "      <td> 0.579908</td>\n",
        "      <td>-0.873504</td>\n",
        "    </tr>\n",
        "    <tr>\n",
        "      <td><strong>2000-01-09</strong></td>\n",
        "      <td> 0.366952</td>\n",
        "      <td>-0.050487</td>\n",
        "      <td> 0.430860</td>\n",
        "      <td> 0.230713</td>\n",
        "    </tr>\n",
        "    <tr>\n",
        "      <td><strong>2000-01-16</strong></td>\n",
        "      <td> 0.014665</td>\n",
        "      <td> 0.112773</td>\n",
        "      <td>-0.133006</td>\n",
        "      <td>-0.183147</td>\n",
        "    </tr>\n",
        "    <tr>\n",
        "      <td><strong>2000-01-23</strong></td>\n",
        "      <td>-0.663564</td>\n",
        "      <td>-0.480489</td>\n",
        "      <td>-0.497521</td>\n",
        "      <td> 0.106644</td>\n",
        "    </tr>\n",
        "    <tr>\n",
        "      <td><strong>2000-01-30</strong></td>\n",
        "      <td>-0.102302</td>\n",
        "      <td> 0.054212</td>\n",
        "      <td> 0.345221</td>\n",
        "      <td>-0.304283</td>\n",
        "    </tr>\n",
        "    <tr>\n",
        "      <td><strong>2000-02-06</strong></td>\n",
        "      <td>-0.698347</td>\n",
        "      <td>-0.254840</td>\n",
        "      <td>-0.064913</td>\n",
        "      <td>-0.574221</td>\n",
        "    </tr>\n",
        "    <tr>\n",
        "      <td><strong>2000-02-13</strong></td>\n",
        "      <td> 0.119685</td>\n",
        "      <td> 0.636856</td>\n",
        "      <td> 0.529448</td>\n",
        "      <td>-0.261007</td>\n",
        "    </tr>\n",
        "    <tr>\n",
        "      <td><strong>2000-02-20</strong></td>\n",
        "      <td> 0.493393</td>\n",
        "      <td> 0.276399</td>\n",
        "      <td>-0.456098</td>\n",
        "      <td> 0.255663</td>\n",
        "    </tr>\n",
        "  </tbody>\n",
        "</table>\n",
        "</div>"
       ],
       "output_type": "pyout",
       "prompt_number": 63,
       "text": [
        "                   A         B         C         D\n",
        "2000-01-02 -0.580717 -0.091617  0.579908 -0.873504\n",
        "2000-01-09  0.366952 -0.050487  0.430860  0.230713\n",
        "2000-01-16  0.014665  0.112773 -0.133006 -0.183147\n",
        "2000-01-23 -0.663564 -0.480489 -0.497521  0.106644\n",
        "2000-01-30 -0.102302  0.054212  0.345221 -0.304283\n",
        "2000-02-06 -0.698347 -0.254840 -0.064913 -0.574221\n",
        "2000-02-13  0.119685  0.636856  0.529448 -0.261007\n",
        "2000-02-20  0.493393  0.276399 -0.456098  0.255663"
       ]
      }
     ],
     "prompt_number": 63
    },
    {
     "cell_type": "code",
     "collapsed": false,
     "input": [
      "df.ix[\"2000-1-3\":\"2000-1-9\"].mean()"
     ],
     "language": "python",
     "metadata": {},
     "outputs": [
      {
       "output_type": "pyout",
       "prompt_number": 64,
       "text": [
        "A    0.366952\n",
        "B   -0.050487\n",
        "C    0.430860\n",
        "D    0.230713"
       ]
      }
     ],
     "prompt_number": 64
    },
    {
     "cell_type": "heading",
     "level": 4,
     "metadata": {},
     "source": [
      "Creating New Variables"
     ]
    },
    {
     "cell_type": "code",
     "collapsed": false,
     "input": [
      "df[\"xs_mean\"] = 0.0\n",
      "df[\"xs_mean\"] = df.mean(axis=1)"
     ],
     "language": "python",
     "metadata": {},
     "outputs": [],
     "prompt_number": 65
    },
    {
     "cell_type": "code",
     "collapsed": false,
     "input": [
      "df.head(5)"
     ],
     "language": "python",
     "metadata": {},
     "outputs": [
      {
       "html": [
        "<div style=\"max-height:1000px;max-width:1500px;overflow:auto;\">\n",
        "<table border=\"1\" class=\"dataframe\">\n",
        "  <thead>\n",
        "    <tr style=\"text-align: right;\">\n",
        "      <th></th>\n",
        "      <th>A</th>\n",
        "      <th>B</th>\n",
        "      <th>C</th>\n",
        "      <th>D</th>\n",
        "      <th>xs_mean</th>\n",
        "    </tr>\n",
        "  </thead>\n",
        "  <tbody>\n",
        "    <tr>\n",
        "      <td><strong>2000-01-01</strong></td>\n",
        "      <td>-0.268448</td>\n",
        "      <td>-0.308825</td>\n",
        "      <td> 0.774142</td>\n",
        "      <td>-1.796926</td>\n",
        "      <td>-0.320011</td>\n",
        "    </tr>\n",
        "    <tr>\n",
        "      <td><strong>2000-01-02</strong></td>\n",
        "      <td>-0.892986</td>\n",
        "      <td> 0.125591</td>\n",
        "      <td> 0.385673</td>\n",
        "      <td> 0.049917</td>\n",
        "      <td>-0.066361</td>\n",
        "    </tr>\n",
        "    <tr>\n",
        "      <td><strong>2000-01-03</strong></td>\n",
        "      <td> 0.167546</td>\n",
        "      <td>-1.071430</td>\n",
        "      <td> 1.134614</td>\n",
        "      <td>-1.186310</td>\n",
        "      <td>-0.191116</td>\n",
        "    </tr>\n",
        "    <tr>\n",
        "      <td><strong>2000-01-04</strong></td>\n",
        "      <td>-0.015510</td>\n",
        "      <td> 0.306348</td>\n",
        "      <td>-0.733467</td>\n",
        "      <td> 1.069418</td>\n",
        "      <td> 0.125358</td>\n",
        "    </tr>\n",
        "    <tr>\n",
        "      <td><strong>2000-01-05</strong></td>\n",
        "      <td>-1.185862</td>\n",
        "      <td> 1.148322</td>\n",
        "      <td> 0.342988</td>\n",
        "      <td> 0.849780</td>\n",
        "      <td> 0.231046</td>\n",
        "    </tr>\n",
        "  </tbody>\n",
        "</table>\n",
        "</div>"
       ],
       "output_type": "pyout",
       "prompt_number": 66,
       "text": [
        "                   A         B         C         D   xs_mean\n",
        "2000-01-01 -0.268448 -0.308825  0.774142 -1.796926 -0.320011\n",
        "2000-01-02 -0.892986  0.125591  0.385673  0.049917 -0.066361\n",
        "2000-01-03  0.167546 -1.071430  1.134614 -1.186310 -0.191116\n",
        "2000-01-04 -0.015510  0.306348 -0.733467  1.069418  0.125358\n",
        "2000-01-05 -1.185862  1.148322  0.342988  0.849780  0.231046"
       ]
      }
     ],
     "prompt_number": 66
    }
   ],
   "metadata": {}
  }
 ]
}
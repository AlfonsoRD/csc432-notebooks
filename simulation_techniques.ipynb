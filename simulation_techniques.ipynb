{
 "metadata": {
  "name": "simulation_techniques"
 },
 "nbformat": 3,
 "nbformat_minor": 0,
 "worksheets": [
  {
   "cells": [
    {
     "cell_type": "heading",
     "level": 2,
     "metadata": {},
     "source": [
      "Simulation Techniques"
     ]
    },
    {
     "cell_type": "heading",
     "level": 4,
     "metadata": {},
     "source": [
      "Introduction"
     ]
    },
    {
     "cell_type": "markdown",
     "metadata": {},
     "source": [
      "* numerical methods for solving ordinary differential equations\n",
      "* **or** estimating definite integrals for which the indefinite integral does not exist\n",
      "* Euler's Method, Runge-Kutta 2, Runge-Kutta 4"
     ]
    },
    {
     "cell_type": "heading",
     "level": 4,
     "metadata": {},
     "source": [
      "Euler's method"
     ]
    },
    {
     "cell_type": "markdown",
     "metadata": {},
     "source": [
      "* Recall the differential equation for the unconstrained growth model\n",
      "$$\\frac{dP}{dt}=.10P$$\n",
      "with\n",
      "$$P_0=100$$\n",
      "\n",
      "* This represents the following finite difference equations using **Euler's method**"
     ]
    },
    {
     "cell_type": "markdown",
     "metadata": {},
     "source": [
      "growth_rate = 0.10 <br />\n",
      "population(0) = 100 <br />\n",
      "growth($t$) = growth_rate $*$ population($t - \\Delta t$) <br />\n",
      "population($t$) = population($t - \\Delta t$) + growth($t$) $*\\Delta t$ <br />"
     ]
    },
    {
     "cell_type": "markdown",
     "metadata": {},
     "source": [
      "* Using $P_0=100$ and $\\Delta t = 8$, if we were to evaluate this differential equation at $P_1=P(8)$ using Euler's method\n",
      "* The flow (change in the population, or growth) is the derivative at $P(t-\\Delta t)$\n",
      "* $t=8$ and $t - \\Delta t = 0$\n",
      "* $P^{\\prime}(0)=.1(100)=10$\n",
      "* $\\Delta P = P^{\\prime}(0) \\times \\Delta t = 10 \\times 8 = 80$"
     ]
    },
    {
     "cell_type": "markdown",
     "metadata": {},
     "source": [
      "$\\begin{aligned}\n",
      "\\text{Estimate for } P_1 & = \\text{previous value of } P + \\text{estimated change in} P \\cr\n",
      "& = P_0 + \\Delta P^{\\prime}(0)\\Delta t \\cr\n",
      "& = 100 + 10(8) \\cr\n",
      "& = 180 \\cr\n",
      "\\end{aligned}$"
     ]
    },
    {
     "cell_type": "code",
     "collapsed": false,
     "input": [
      "import numpy as np\n",
      "import matplotlib.pyplot as plt"
     ],
     "language": "python",
     "metadata": {},
     "outputs": []
    },
    {
     "cell_type": "code",
     "collapsed": false,
     "input": [
      "def exp_growth(t, const=100, growth_rate=.1):\n",
      "    \"\"\"\n",
      "    True solution\n",
      "    \"\"\"\n",
      "    return const * np.exp(growth_rate * t)"
     ],
     "language": "python",
     "metadata": {},
     "outputs": []
    },
    {
     "cell_type": "code",
     "collapsed": false,
     "input": [
      "x = np.linspace(-4, 12, 100)"
     ],
     "language": "python",
     "metadata": {},
     "outputs": []
    },
    {
     "cell_type": "code",
     "collapsed": false,
     "input": [
      "fig, ax = plt.subplots(figsize=(8,6))\n",
      "ax.plot(x, exp_growth(x))\n",
      "ax.set_ylim(0, 350)\n",
      "ax.plot((0, 8), (100, 100), 'k--', lw=2)\n",
      "ax.annotate(\"8\", (4,100), xytext=(0,-3), textcoords=\"offset points\", \n",
      "            fontsize=\"large\")\n",
      "ax.plot((8, 8), (100, 180), 'k--', lw=2)\n",
      "ax.annotate(\"80\", (8,140), xytext=(1,0), textcoords=\"offset points\", \n",
      "            fontsize=\"large\")\n",
      "ax.plot((0, 8), (100, 180), 'k-', lw=2)\n",
      "ax.plot(0, 100, 'ko', 8, 180, 'ko', 8, 223, 'ko')\n",
      "ax.annotate(\"(8, 180)\", (8, 180), xytext=(1,0), textcoords=\"offset points\",\n",
      "            fontsize=\"large\")\n",
      "ax.vlines(0, 0, 350)\n",
      "ax.plot((8,8), (0,223), 'k--', lw=.5)\n",
      "ax.annotate(\"(8, 223)\", (8, 223), xytext=(-10,1), \n",
      "            textcoords=\"offset points\", fontsize=\"large\")\n",
      "ax.tick_params(direction=\"in\", length=4)\n",
      "ax.grid(False)"
     ],
     "language": "python",
     "metadata": {},
     "outputs": []
    },
    {
     "cell_type": "markdown",
     "metadata": {},
     "source": [
      "**Algorithm: Euler's Method**\n",
      "$$t \\longleftarrow t_0$$\n",
      "$$P(t_0) \\longleftarrow P_0$$\n",
      "\n",
      "Initialize $simulation\\_length$\n",
      "\n",
      "while $t < simulation\\_length$ do the following\n",
      "\n",
      "<p style=\"text-indent: 2em\">$$t \\longleftarrow t + \\Delta t$$\n",
      "$$P(t) = P(t-\\Delta t) + P^{\\prime}(t-\\Delta t)\\Delta t$$</p>"
     ]
    },
    {
     "cell_type": "markdown",
     "metadata": {},
     "source": [
      "Minimize error accumulation by using integer multiples of $\\Delta t$"
     ]
    },
    {
     "cell_type": "markdown",
     "metadata": {},
     "source": [
      "**Algorithm: Revised Euler's Method**\n",
      "$$t \\longleftarrow t_0$$\n",
      "$$P(t_0) \\longleftarrow P_0$$\n",
      "\n",
      "Initialize $number\\_of\\_steps$\n",
      "\n",
      "for $n$ going from 1 up through $number\\_of\\_steps$ do the following\n",
      "\n",
      "<p style=\"text-indent: 2em\">$$t_n \\longleftarrow t_0 + n*\\Delta t$$\n",
      "$$P_{n} = P_{n-1} + P^{\\prime}_{n-1}\\Delta t$$</p>"
     ]
    },
    {
     "cell_type": "heading",
     "level": 4,
     "metadata": {},
     "source": [
      "Error"
     ]
    },
    {
     "cell_type": "markdown",
     "metadata": {},
     "source": [
      "Recall the formula for the relative error\n",
      "\n",
      "$$rel. err = \\frac{|correct-result|}{|correct|}$$\n",
      "\n",
      "Also recall that the solution to this differential equation is for computing the \"truth\" is\n",
      "\n",
      "$$P(t) = 100e^{.1t}$$"
     ]
    },
    {
     "cell_type": "markdown",
     "metadata": {},
     "source": [
      "1. Write a function that computes the relative error of a number. Call this function `relative_error`.\n",
      "2. Write a function that implements Euler's method. Call it `euler`. The call signature should take a derivative function, *func*, an initial value, *initial*, the length of time to run, *ntime*, a time step, *dt*, and a tuple for any other args that might be passed to *func*, *args*. The call signature of *func* should be `func(P, t, growth_rate)`. [**Hint:** To calculate the number of steps use n]\n",
      "3. Use your Euler's method to solve the differential equations for unconstrained growth.\n",
      "$$\\frac{dP}{dt}=.10P$$\n",
      "with\n",
      "$$P_0=100$$\n",
      "from $t=0$ to $t=100$\n",
      "for dt = [1, .5, .25]\n",
      "4. Calculate the relative error for dt=[1, .5, .25].\n",
      "5. What is the percentage reduction in relative error for each subsequent dt?"
     ]
    },
    {
     "cell_type": "heading",
     "level": 4,
     "metadata": {},
     "source": [
      "Runge-Kutta 2 Method"
     ]
    },
    {
     "cell_type": "markdown",
     "metadata": {},
     "source": [
      "* AKA Euler's Predictor-Corrector (EPC) Method\n",
      "* Think of Euler's method as a \"predictor\"\n",
      "* Corrector step\n",
      "  * Ideally we would like to use the slope of the secant line between $(0, P(0))$ and $(8, P(8))$ instead of the tangent line"
     ]
    },
    {
     "cell_type": "code",
     "collapsed": false,
     "input": [
      "fig, ax = plt.subplots(figsize=(8,6))\n",
      "ax.plot(x, exp_growth(x))\n",
      "ax.set_ylim(0, 350)\n",
      "ax.plot((0, 8), (100, 100), 'k--', lw=2)\n",
      "ax.annotate(\"8\", (4,100), xytext=(0,-3), textcoords=\"offset points\", \n",
      "            fontsize=\"large\")\n",
      "ax.plot((8, 8), (100, 223), 'k--', lw=2)\n",
      "ax.annotate(\"123\", (8,140), xytext=(1,0), textcoords=\"offset points\", \n",
      "            fontsize=\"large\")\n",
      "ax.plot((0, 8), (100, 223), 'k-', lw=2)\n",
      "ax.plot(0, 100, 'ko', 8, 223, 'ko')\n",
      "ax.vlines(0, 0, 350)\n",
      "ax.plot((8,8), (0,223), 'k--', lw=.5)\n",
      "ax.annotate(\"(8, 223)\", (8, 223), xytext=(-10,1), \n",
      "            textcoords=\"offset points\", fontsize=\"large\")\n",
      "ax.tick_params(direction=\"in\", length=4)\n",
      "ax.grid(False)"
     ],
     "language": "python",
     "metadata": {},
     "outputs": []
    },
    {
     "cell_type": "markdown",
     "metadata": {},
     "source": [
      "* corrector step (con't)\n",
      "  * We don't know $P(8)$\n",
      "  * Estimate it as the average of the slopes of the tangent lines at P(0) and P(8)"
     ]
    },
    {
     "cell_type": "code",
     "collapsed": false,
     "input": [
      "fig, ax = plt.subplots(figsize=(8,6))\n",
      "ax.plot(x, exp_growth(x))\n",
      "ax.set_ylim(0, 350)\n",
      "# y = mx + b\n",
      "ax.plot((-4, 0, 8), (-4*(10)+100, 100, 180), 'k-', lw=2)\n",
      "m = .1 * 223\n",
      "b = 223 - m*8\n",
      "ax.plot((2, 8, 12), (2*m+b, 8*m+b, 12*m+b), 'k-', lw=2)\n",
      "ax.plot(0, 100, 'ko', 8, 223, 'ko')\n",
      "ax.vlines(0, 0, 350)\n",
      "\n",
      "ax.annotate(\"(8, 223)\", (8, 223), xytext=(-10,1), \n",
      "            textcoords=\"offset points\", fontsize=\"large\")\n",
      "ax.tick_params(direction=\"in\", length=4)\n",
      "ax.grid(False)"
     ],
     "language": "python",
     "metadata": {},
     "outputs": []
    },
    {
     "cell_type": "markdown",
     "metadata": {},
     "source": [
      "* We still don't know P(8) though\n",
      "* We have an estimate of P(8) from Euler's method\n",
      "  * $P(8) \\approx 180$\n",
      "* The slope of the tangent line at this point is\n",
      "  * $f(8, 180) = .1(180) = 18$\n",
      "* The approximate slope of the secant line between $(0, P(0))$ and $(8, P(8))$ is\n",
      "  * $\\frac{10 + 18}{2}=.5(10+18)=14$\n",
      "* Use 14 to compute corrected $P_1$\n",
      "  * $P_1 = 100 + 14(8) = 212$"
     ]
    },
    {
     "cell_type": "code",
     "collapsed": false,
     "input": [
      "fig, ax = plt.subplots(figsize=(8,6))\n",
      "ax.plot(x, exp_growth(x))\n",
      "ax.set_ylim(0, 350)\n",
      "# y = mx + b\n",
      "ax.plot((-4, 0, 8), (-4*(10)+100, 100, 180), 'k-', lw=2)\n",
      "m = .1 * 223\n",
      "b = 223 - m*8\n",
      "ax.plot((2, 8, 12), (2*m+b, 8*m+b, 12*m+b), 'k--', lw=2)\n",
      "m = .1 * 180\n",
      "b = 180 - m*8\n",
      "ax.plot((2, 8, 12), (2*m+b, 8*m+b, 12*m+b), 'k-', lw=2)\n",
      "ax.plot(0, 100, 'ko', 8, 223, 'ko', 8, 180, 'ko')\n",
      "ax.vlines(0, 0, 350)\n",
      "\n",
      "ax.annotate(\"(8, 180) predicted\\n slope = 18\", (8, 180), xytext=(1,-4), \n",
      "            textcoords=\"offset points\", fontsize=\"large\")\n",
      "ax.annotate(\"slope = 10\", (0, 100), xytext=(-13,-6), \n",
      "            textcoords=\"offset points\", fontsize=\"large\")\n",
      "ax.tick_params(direction=\"in\", length=4)\n",
      "ax.grid(False)"
     ],
     "language": "python",
     "metadata": {},
     "outputs": []
    },
    {
     "cell_type": "code",
     "collapsed": false,
     "input": [
      "fig, ax = plt.subplots(figsize=(8,6))\n",
      "ax.plot(x, exp_growth(x))\n",
      "ax.set_ylim(0, 350)\n",
      "ax.set_xlim(-4, 13)\n",
      "\n",
      "ax.plot((0, 8), (100, 212), 'r-', lw=2)\n",
      "ax.plot(0, 100, 'ko', 8, 223, 'ko', 8, 212, 'ko', \n",
      "        8, 180, 'ko')\n",
      "ax.vlines(0, 0, 350)\n",
      "\n",
      "# y = mx + b\n",
      "ax.plot((-4, 0, 8), (-4*(10)+100, 100, 180), 'k-', lw=2)\n",
      "m = .1 * 180\n",
      "b = 180 - m*8\n",
      "ax.plot((2, 8, 12), (2*m+b, 8*m+b, 12*m+b), 'k-', lw=2)\n",
      "\n",
      "ax.annotate(\"(8, 223)\", (8, 223), xytext=(-10,1), \n",
      "            textcoords=\"offset points\", fontsize=\"large\")\n",
      "ax.annotate(\"(8, 212) corrected\", (8, 212), xytext=(1,0), \n",
      "            textcoords=\"offset points\", fontsize=\"large\")\n",
      "ax.annotate(\"(8, 180) predicted\", (8, 180), xytext=(1,0), \n",
      "            textcoords=\"offset points\", fontsize=\"large\")\n",
      "ax.tick_params(direction=\"in\", length=4)\n",
      "ax.grid(False)"
     ],
     "language": "python",
     "metadata": {},
     "outputs": []
    },
    {
     "cell_type": "code",
     "collapsed": false,
     "input": [
      "fig, ax = plt.subplots(figsize=(8,6))\n",
      "ax.plot(x, exp_growth(x))\n",
      "ax.set_ylim(0, 350)\n",
      "ax.set_xlim(-4, 13)\n",
      "\n",
      "ax.plot((0, 8), (100, 212), 'k-', lw=2)\n",
      "ax.plot(0, 100, 'ko', 8, 223, 'ko', 8, 212, 'ko', \n",
      "        8, 180, 'ko')\n",
      "ax.vlines(0, 0, 350)\n",
      "\n",
      "ax.annotate(\"(8, 223)\", (8, 223), xytext=(-10,1), \n",
      "            textcoords=\"offset points\", fontsize=\"large\")\n",
      "ax.annotate(\"(8, 212) corrected\", (8, 212), xytext=(1,0), \n",
      "            textcoords=\"offset points\", fontsize=\"large\")\n",
      "ax.annotate(\"(8, 180) predicted\", (8, 180), xytext=(1,0), \n",
      "            textcoords=\"offset points\", fontsize=\"large\")\n",
      "ax.tick_params(direction=\"in\", length=4)\n",
      "ax.grid(False)"
     ],
     "language": "python",
     "metadata": {},
     "outputs": []
    },
    {
     "cell_type": "markdown",
     "metadata": {},
     "source": [
      "**Algorithm: EPC (Runge-Kutta 2) Method**\n",
      "$$t \\longleftarrow t_0$$\n",
      "$$P(t_0) \\longleftarrow P_0$$\n",
      "\n",
      "Initialize $number\\_of\\_steps$\n",
      "\n",
      "for $n$ going from 1 to $number\\_of\\_steps$ do the following\n",
      "\n",
      "<p style=\"text-indent: 2em\">$$t_n \\longleftarrow t_0 + n*\\Delta t$$\n",
      "    $$Y_n=P_{n-1}+f(t_{n-1}, P_{n-1})\\Delta t \\text{,  Euler's Method estimate}$$\n",
      "    $$P_n = P_{n-1} + .5(f(t_{n-1}, P_{n-1})+f(t_n, Y_n))\\Delta t$$</p>"
     ]
    },
    {
     "cell_type": "markdown",
     "metadata": {},
     "source": [
      "1. Write a function that computes the relative error of a number.\n",
      "2. Write a function that implements the Runge Kutta 2 method. Call it `runge_kutta2`. The call signature should take a derivative function, *func*, an initial value, *initial*, the length of time you want to simulate, *ntime*, a time step, *dt*, and a tuple for any other args that might be passed to *func*, *args*. The call signature of *func* should be `func(P, t, growth_rate)`.\n",
      "3. Use `runge_kutta2` to solve the differential equations for unconstrained growth.\n",
      "$$\\frac{dP}{dt}=.10P$$\n",
      "with\n",
      "$$P_0=100$$\n",
      "from $t=0$ to $t=100$\n",
      "for dt = [1, .5, .25]\n",
      "4. Calculate the relative error for dt=[1, .5, .25].\n",
      "5. What is the percentage reduction in relative error for each subsequent dt?"
     ]
    },
    {
     "cell_type": "heading",
     "level": 4,
     "metadata": {},
     "source": [
      "Runge-Kutta 4"
     ]
    },
    {
     "cell_type": "markdown",
     "metadata": {},
     "source": [
      "* similar to **Runge-Kutta 2**\n",
      "* RK4 computes $P_n$ by adding a weighted average of 4 estimates of the change in $P$ to $P_{n-1}$\n",
      "* This weighted average is a function of $\\partial_1, \\partial_2, \\partial_3, \\partial_4$"
     ]
    },
    {
     "cell_type": "heading",
     "level": 5,
     "metadata": {},
     "source": [
      "First estimate of $\\Delta P$"
     ]
    },
    {
     "cell_type": "markdown",
     "metadata": {},
     "source": [
      "* Same as Euler's method\n",
      "$$\\partial_1 = f(t_{n-1}, P_{n-1})\\Delta t$$"
     ]
    },
    {
     "cell_type": "code",
     "collapsed": false,
     "input": [
      "fig, ax = plt.subplots(figsize=(8,6))\n",
      "ax.plot(x, exp_growth(x))\n",
      "ax.set_ylim(0, 350)\n",
      "ax.set_xlim(-1, 10)\n",
      "ax.plot((0, 8), (100, 100), 'k--', lw=2)\n",
      "ax.annotate(\"$\\Delta t = 8$\", (4,100), xytext=(0,-3), textcoords=\"offset points\", \n",
      "            fontsize=\"large\")\n",
      "ax.plot((8, 8), (100, 180), 'k--', lw=2)\n",
      "ax.annotate(\"$\\partial_1=80$\", (8,140), xytext=(1,0), textcoords=\"offset points\", \n",
      "            fontsize=\"large\")\n",
      "ax.plot((0, 8), (100, 180), 'k-', lw=2)\n",
      "ax.plot(0, 100, 'ko', 8, 180, 'ko', 8, 223, 'ko')\n",
      "ax.annotate(\"(8, 180)\", (8, 180), xytext=(1,0), textcoords=\"offset points\",\n",
      "            fontsize=\"large\")\n",
      "ax.vlines(0, 0, 350)\n",
      "ax.plot((8,8), (0,223), 'k--', lw=.5)\n",
      "ax.annotate(\"(8, 223)\", (8, 223), xytext=(-10,1), \n",
      "            textcoords=\"offset points\", fontsize=\"large\")\n",
      "ax.tick_params(direction=\"in\", length=4)\n",
      "ax.grid(False)"
     ],
     "language": "python",
     "metadata": {},
     "outputs": []
    },
    {
     "cell_type": "heading",
     "level": 5,
     "metadata": {},
     "source": [
      "Second estimate of $\\Delta P$"
     ]
    },
    {
     "cell_type": "markdown",
     "metadata": {},
     "source": [
      "* use the point halfway between $(t_0, P_0)$ and Euler's predictor to calculate tangent line\n",
      "  * (8/2, (280/2))"
     ]
    },
    {
     "cell_type": "code",
     "collapsed": false,
     "input": [
      "fig, ax = plt.subplots(figsize=(8,6))\n",
      "ax.plot(x, exp_growth(x))\n",
      "ax.set_ylim(0, 350)\n",
      "ax.set_xlim(-1, 10)\n",
      "\n",
      "ax.plot((0, 8), (100, 180), 'k-', lw=2)\n",
      "ax.plot(0, 100, 'ko', 4, 140, 'ko', 8, 223, 'ko')\n",
      "ax.vlines(0, 0, 350)\n",
      "\n",
      "ax.annotate(\"(4, 140)\", (4, 140), xytext=(0,-2), \n",
      "            textcoords=\"offset points\", fontsize=\"large\")\n",
      "ax.tick_params(direction=\"in\", length=4)\n",
      "ax.grid(False)"
     ],
     "language": "python",
     "metadata": {},
     "outputs": []
    },
    {
     "cell_type": "markdown",
     "metadata": {},
     "source": [
      "* Slope the same as Euler's corrector in EPC method (Runge-Kutta 2)\n",
      "  * $f(4, 140) = .1(140) = 14$\n",
      "* Calculate new predictor\n",
      "  * $\\partial_2=f(t_{n-1} + 0.5\\Delta t, P_{n-1} + 0.5\\partial_1)\\Delta t$"
     ]
    },
    {
     "cell_type": "code",
     "collapsed": false,
     "input": [
      "fig, ax = plt.subplots(figsize=(8,6))\n",
      "ax.plot(x, exp_growth(x))\n",
      "ax.set_ylim(0, 350)\n",
      "ax.set_xlim(-1, 10)\n",
      "\n",
      "\n",
      "ax.plot((0, 8), (100, 212), 'k-', lw=2)\n",
      "ax.plot(0, 100, 'ko', 8, 212, 'ko', 8, 223, 'ko')\n",
      "ax.vlines(0, 0, 350)\n",
      "\n",
      "ax.plot((0, 8), (100, 100), 'k--', lw=2)\n",
      "ax.annotate(\"$\\Delta t = 8$\", (4,100), xytext=(0,-3), textcoords=\"offset points\", \n",
      "            fontsize=\"large\")\n",
      "ax.plot((8, 8), (100, 212), 'k--', lw=2)\n",
      "ax.annotate(\"$\\partial_2=112$\", (8, 166), xytext=(1,0), textcoords=\"offset points\", \n",
      "            fontsize=\"large\")\n",
      "\n",
      "ax.tick_params(direction=\"in\", length=4)\n",
      "ax.grid(False)"
     ],
     "language": "python",
     "metadata": {},
     "outputs": []
    },
    {
     "cell_type": "heading",
     "level": 5,
     "metadata": {},
     "source": [
      "Third Estimate of $\\Delta t$"
     ]
    },
    {
     "cell_type": "markdown",
     "metadata": {},
     "source": [
      "* Repeat the same process for $\\partial_2$ to calculate $\\partial_3$ using the tangent line in $\\partial_2$ instead\n",
      "* Find the mid-point of this line\n",
      "  * (8/2, 212/2)"
     ]
    },
    {
     "cell_type": "code",
     "collapsed": false,
     "input": [
      "fig, ax = plt.subplots(figsize=(8,6))\n",
      "ax.plot(x, exp_growth(x))\n",
      "ax.set_ylim(0, 350)\n",
      "ax.set_xlim(-1, 10)\n",
      "\n",
      "ax.plot((0, 8), (100, 212), 'k-', lw=2)\n",
      "ax.plot(0, 100, 'ko', 4, 156, 'ko', 8, 223, 'ko')\n",
      "ax.vlines(0, 0, 350)\n",
      "\n",
      "ax.annotate(\"(4, 156)\", (4, 156), xytext=(-10,3), \n",
      "            textcoords=\"offset points\", fontsize=\"large\")\n",
      "ax.tick_params(direction=\"in\", length=4)\n",
      "ax.grid(False)"
     ],
     "language": "python",
     "metadata": {},
     "outputs": []
    },
    {
     "cell_type": "markdown",
     "metadata": {},
     "source": [
      "* Calculate the slope of dP/dt\n",
      "  * $f(4, 156) = .1(156) = 15.6$"
     ]
    },
    {
     "cell_type": "code",
     "collapsed": false,
     "input": [
      "fig, ax = plt.subplots(figsize=(8,6))\n",
      "ax.plot(x, exp_growth(x))\n",
      "ax.set_ylim(0, 350)\n",
      "ax.set_xlim(-1, 10)\n",
      "\n",
      "# y = mx + b\n",
      "m = 15.6\n",
      "b = 156 - m*4\n",
      "ax.plot((0, 4, 8), (b, 156, m*8+b), 'r-', lw=3)\n",
      "ax.plot((0, 8), (100, 212), 'k-', lw=2)\n",
      "ax.plot(0, 100, 'ko', 4, 156, 'ko', 8, 223, 'ko')\n",
      "ax.vlines(0, 0, 350)\n",
      "\n",
      "ax.annotate(\"(4, 156)\", (4, 156), xytext=(-10,3), \n",
      "            textcoords=\"offset points\", fontsize=\"large\")\n",
      "ax.tick_params(direction=\"in\", length=4)\n",
      "ax.grid(False)"
     ],
     "language": "python",
     "metadata": {},
     "outputs": []
    },
    {
     "cell_type": "markdown",
     "metadata": {},
     "source": [
      "* Get new predictor\n",
      "  * $\\partial_3=f(t_{n-1}+.5\\Delta t, P_{n-1}+.5\\partial_2)\\Delta t$\n",
      "* $\\partial_3 = .1(156)(8) = 15.6(8)=124.8$"
     ]
    },
    {
     "cell_type": "code",
     "collapsed": false,
     "input": [
      "fig, ax = plt.subplots(figsize=(8,6))\n",
      "ax.plot(x, exp_growth(x))\n",
      "ax.set_ylim(0, 350)\n",
      "ax.set_xlim(-1, 10)\n",
      "\n",
      "# y = mx + b\n",
      "m = 15.6\n",
      "b = 156 - m*4\n",
      "ax.plot((0, 8), (100, 224.8), 'r-', lw=3)\n",
      "ax.plot(0, 100, 'ko', 8, 223, 'ko')\n",
      "ax.vlines(0, 0, 350)\n",
      "\n",
      "\n",
      "ax.plot((0, 8), (100, 100), 'k--', lw=2)\n",
      "ax.annotate(\"$\\Delta t = 8$\", (4,100), xytext=(0,-3), textcoords=\"offset points\", \n",
      "            fontsize=\"large\")\n",
      "ax.plot((8, 8), (100, 224.8), 'k--', lw=2)\n",
      "ax.annotate(\"$\\partial_3=124.8$\", (8,140), xytext=(1,0), textcoords=\"offset points\", \n",
      "            fontsize=\"large\")\n",
      "ax.annotate(\"(8, 224.8)\", (8,224.8), xytext=(-12,1), textcoords=\"offset points\", \n",
      "            fontsize=\"large\")\n",
      "ax.tick_params(direction=\"in\", length=4)\n",
      "ax.grid(False)"
     ],
     "language": "python",
     "metadata": {},
     "outputs": []
    },
    {
     "cell_type": "heading",
     "level": 5,
     "metadata": {},
     "source": [
      "Fourth Estimate of $\\Delta P$"
     ]
    },
    {
     "cell_type": "markdown",
     "metadata": {},
     "source": [
      "* The fourth estimate $\\partial_4$ over the interval $\\Delta t$ occurs at the end of the interval\n",
      "  - $\\partial_4=f(t_{n-1}+\\Delta t, P_{n-1}+\\partial_3)$\n",
      "* Use the third estimate $(8,224.8)$ to calculate the slope\n",
      "  * $f(8,224.8)=0.1(224.8)=22.48$"
     ]
    },
    {
     "cell_type": "code",
     "collapsed": false,
     "input": [
      "fig, ax = plt.subplots(figsize=(8,6))\n",
      "ax.plot(x, exp_growth(x))\n",
      "ax.set_ylim(0, 350)\n",
      "ax.set_xlim(-1, 10)\n",
      "\n",
      "# y = mx + b\n",
      "m = 22.48\n",
      "b = 224.8 - m*8\n",
      "ax.plot((0, 8, 12), (b, 224.8, m*12+b), 'k-', lw=2)\n",
      "ax.plot(8, 224.8, 'ko')\n",
      "ax.vlines(0, 0, 350)\n",
      "\n",
      "ax.set_xlim(0, 12)\n",
      "ax.annotate(\"(8, 224.8)\", (8, 224.8), xytext=(-10,2), \n",
      "            textcoords=\"offset points\", fontsize=\"large\")\n",
      "ax.tick_params(direction=\"in\", length=4)\n",
      "ax.grid(False)"
     ],
     "language": "python",
     "metadata": {},
     "outputs": []
    },
    {
     "cell_type": "markdown",
     "metadata": {},
     "source": [
      "* Use this slope to calculate $\\partial_4=(0.1)(224.8)(8)=22.48(8)=179.84$"
     ]
    },
    {
     "cell_type": "code",
     "collapsed": false,
     "input": [
      "fig, ax = plt.subplots(figsize=(8,6))\n",
      "ax.plot(x, exp_growth(x))\n",
      "ax.set_ylim(0, 350)\n",
      "ax.set_xlim(-1, 10)\n",
      "\n",
      "# y = mx + b\n",
      "m = 22.48\n",
      "b = 279.84 - m*8\n",
      "ax.plot((0, 8, 12), (100, 279.84, b+12*22.48), 'r-', lw=3)\n",
      "ax.plot(0, 100, 'ko', 8, 279.84, 'ko', 8, exp_growth(8), 'ko')\n",
      "ax.vlines(0, 0, 350)\n",
      "\n",
      "\n",
      "ax.plot((0, 8), (100, 100), 'k--', lw=2)\n",
      "ax.annotate(\"$\\Delta t = 8$\", (4,100), xytext=(0,-3), textcoords=\"offset points\", \n",
      "            fontsize=\"large\")\n",
      "ax.plot((8, 8), (100, 279.84), 'k--', lw=2)\n",
      "ax.annotate(\"$\\partial_3=179.8$\", (8,100+179.8/2), xytext=(1,0), textcoords=\"offset points\", \n",
      "            fontsize=\"large\")\n",
      "ax.tick_params(direction=\"in\", length=4)\n",
      "ax.grid(False)"
     ],
     "language": "python",
     "metadata": {},
     "outputs": []
    },
    {
     "cell_type": "heading",
     "level": 5,
     "metadata": {},
     "source": [
      "Putting them all Together"
     ]
    },
    {
     "cell_type": "markdown",
     "metadata": {},
     "source": [
      "* **Runge-Kutta 4 estimate** of P_n\n",
      "* $P_n = P_{n-1} + (\\partial_1 + 2\\partial_2 + 2\\partial_3 + \\partial_4)/6$\n",
      "\n",
      "$\\begin{aligned}\n",
      "P_1 & = P_0 + (\\partial_1 + 2\\partial_2 + 2\\partial_3 + \\partial_4)/6 \\cr\n",
      "& = 100 + (80 + 2\\cdot 112 + 2\\cdot 124.8 + 179.84)/6 \\cr\n",
      "& = 100 + 122.24 \\cr\n",
      "& = 222.24 \\cr\n",
      "\\end{aligned}$"
     ]
    },
    {
     "cell_type": "code",
     "collapsed": false,
     "input": [
      "fig, ax = plt.subplots(figsize=(8,6))\n",
      "ax.plot(x, exp_growth(x))\n",
      "ax.set_ylim(0, 350)\n",
      "ax.set_xlim(-1, 10)\n",
      "\n",
      "# y = mx + b\n",
      "m = 22.48\n",
      "b = 279.84 - m*8\n",
      "\n",
      "ax.plot(8, 180, 'ko', 8, 212, 'ko', \n",
      "        8, 224.8, 'ko', 8, 279.84, 'ko')\n",
      "ax.vlines(0, 0, 350)\n",
      "\n",
      "ax.plot((0, 8), (100, 100), 'k--', lw=2)\n",
      "ax.plot((8, 8), (100, 279.84), 'k--', lw=2)\n",
      "ax.tick_params(direction=\"in\", length=4)\n",
      "ax.grid(False)"
     ],
     "language": "python",
     "metadata": {},
     "outputs": []
    }
   ],
   "metadata": {}
  }
 ]
}